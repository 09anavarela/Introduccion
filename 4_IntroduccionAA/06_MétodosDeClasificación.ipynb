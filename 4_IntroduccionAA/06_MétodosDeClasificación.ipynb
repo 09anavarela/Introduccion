{
 "cells": [
  {
   "cell_type": "markdown",
   "id": "a208dee5-6b62-49b0-be10-833031908622",
   "metadata": {},
   "source": [
    "# Métodos de clasificación\n",
    "\n",
    "Verónica E. Arriola  \n",
    "[Licencia CC BY-NC 4.0](https://creativecommons.org/licenses/by-nc/4.0/)"
   ]
  },
  {
   "cell_type": "code",
   "execution_count": null,
   "id": "45835c44-2376-4279-83fd-b442a2295007",
   "metadata": {},
   "outputs": [],
   "source": [
    "# Método específico de clasificación: naive bayes, svm, random forest, boosting"
   ]
  },
  {
   "cell_type": "markdown",
   "id": "583c50ed-eb6e-4bd2-86c3-da4247fb80ae",
   "metadata": {},
   "source": [
    "## Árboles de decisión"
   ]
  },
  {
   "cell_type": "code",
   "execution_count": 6,
   "id": "84224bc5-7514-4f73-84ca-a49ffbacc897",
   "metadata": {
    "tags": []
   },
   "outputs": [],
   "source": [
    "import numpy as np\n",
    "from matplotlib import pyplot as plt\n",
    "\n",
    "from sklearn.model_selection import train_test_split\n",
    "from sklearn.datasets import load_iris\n",
    "from sklearn.tree import DecisionTreeClassifier\n",
    "from sklearn import tree\n",
    "\n",
    "from ipywidgets import interact, interactive, fixed\n",
    "import ipywidgets as widgets\n",
    "from IPython.display import display"
   ]
  },
  {
   "cell_type": "markdown",
   "id": "0002f6a3-9d09-4042-87e2-23561fd2992c",
   "metadata": {},
   "source": [
    "A partir del ejemplo [Understanding the decision tree structure](https://scikit-learn.org/stable/auto_examples/tree/plot_unveil_tree_structure.html#sphx-glr-auto-examples-tree-plot-unveil-tree-structure-py) podemos visualizar fácilmente el funcionamiento de este algoritmo."
   ]
  },
  {
   "cell_type": "code",
   "execution_count": 5,
   "id": "70b21636-53d3-4e40-a39b-dc236f10a6ce",
   "metadata": {
    "tags": []
   },
   "outputs": [],
   "source": [
    "# Datos\n",
    "\n",
    "iris = load_iris()\n",
    "X = iris.data\n",
    "y = iris.target\n",
    "X_train, X_test, y_train, y_test = train_test_split(X, y, random_state=0)"
   ]
  },
  {
   "cell_type": "code",
   "execution_count": 11,
   "id": "84dc7e2f-a89e-477c-8f37-e90f147c6966",
   "metadata": {
    "tags": []
   },
   "outputs": [
    {
     "data": {
      "application/vnd.jupyter.widget-view+json": {
       "model_id": "189feeb55c1648daa87dd2d5e9b49b2a",
       "version_major": 2,
       "version_minor": 0
      },
      "text/plain": [
       "interactive(children=(IntSlider(value=3, description='max_num_hojas', max=10, min=2), Output()), _dom_classes=…"
      ]
     },
     "metadata": {},
     "output_type": "display_data"
    }
   ],
   "source": [
    "@interact(max_num_hojas = widgets.IntSlider(min=2, max=10, value=3))\n",
    "def árboles_para_iris(max_num_hojas):\n",
    "    clf = DecisionTreeClassifier(max_leaf_nodes=max_num_hojas, random_state=0)\n",
    "    clf.fit(X_train, y_train)\n",
    "    tree.plot_tree(clf)\n",
    "    plt.show()"
   ]
  },
  {
   "cell_type": "code",
   "execution_count": null,
   "id": "122a3843-3aab-4759-8baf-5bcb86f1bf8a",
   "metadata": {},
   "outputs": [],
   "source": []
  }
 ],
 "metadata": {
  "kernelspec": {
   "display_name": "Python 3 (ipykernel)",
   "language": "python",
   "name": "python3"
  },
  "language_info": {
   "codemirror_mode": {
    "name": "ipython",
    "version": 3
   },
   "file_extension": ".py",
   "mimetype": "text/x-python",
   "name": "python",
   "nbconvert_exporter": "python",
   "pygments_lexer": "ipython3",
   "version": "3.10.6"
  }
 },
 "nbformat": 4,
 "nbformat_minor": 5
}
