{
 "cells": [
  {
   "cell_type": "markdown",
   "id": "a208dee5-6b62-49b0-be10-833031908622",
   "metadata": {},
   "source": [
    "# Métodos de clasificación\n",
    "\n",
    "Verónica E. Arriola  \n",
    "[Licencia CC BY-NC 4.0](https://creativecommons.org/licenses/by-nc/4.0/)"
   ]
  },
  {
   "cell_type": "markdown",
   "id": "583c50ed-eb6e-4bd2-86c3-da4247fb80ae",
   "metadata": {},
   "source": [
    "## Árboles de decisión\n",
    "\n",
    "[Decision Trees](https://scikit-learn.org/stable/modules/tree.html)"
   ]
  },
  {
   "cell_type": "markdown",
   "id": "a67883b7-b105-4ce1-ab56-93aedd94918c",
   "metadata": {},
   "source": [
    "<div class=\"alert alert-success\">\n",
    "    La complejidad al utilizar el árbol para realizar una predicción es <b>logarítimica</b> en el número de datos utilizados para entrenar el árbol.\n",
    "</div>"
   ]
  },
  {
   "cell_type": "code",
   "execution_count": 1,
   "id": "84224bc5-7514-4f73-84ca-a49ffbacc897",
   "metadata": {
    "tags": []
   },
   "outputs": [],
   "source": [
    "import numpy as np\n",
    "from scipy.stats import entropy\n",
    "import pandas as pd\n",
    "from matplotlib import pyplot as plt\n",
    "\n",
    "from sklearn.model_selection import train_test_split\n",
    "from sklearn.datasets import load_iris\n",
    "\n",
    "# Sólo para variables continuas, aún no soporta categorías\n",
    "from sklearn.tree import DecisionTreeClassifier\n",
    "from sklearn import tree\n",
    "\n",
    "from ipywidgets import interact, interactive, fixed\n",
    "import ipywidgets as widgets\n",
    "from IPython.display import display"
   ]
  },
  {
   "cell_type": "markdown",
   "id": "889fecc5-5035-4317-8886-df6edeb77770",
   "metadata": {},
   "source": [
    "## ID3\n",
    "\n",
    "El agoritmo ID3 crea árboles con variables **categóricas** eligiendo preguntar primero por el atributo que produce la mayor **ganancia** de información, pues reduce más la **entropía** del conjunto tras haberlo subdivido con esta categoría.\n",
    "\n",
    "Tom Mitchell, _\"Machine Learning\"_, McGrawHill."
   ]
  },
  {
   "cell_type": "code",
   "execution_count": 2,
   "id": "afeb2629-d981-4c40-adbd-4d987889644a",
   "metadata": {
    "tags": []
   },
   "outputs": [
    {
     "data": {
      "text/html": [
       "<div>\n",
       "<style scoped>\n",
       "    .dataframe tbody tr th:only-of-type {\n",
       "        vertical-align: middle;\n",
       "    }\n",
       "\n",
       "    .dataframe tbody tr th {\n",
       "        vertical-align: top;\n",
       "    }\n",
       "\n",
       "    .dataframe thead th {\n",
       "        text-align: right;\n",
       "    }\n",
       "</style>\n",
       "<table border=\"1\" class=\"dataframe\">\n",
       "  <thead>\n",
       "    <tr style=\"text-align: right;\">\n",
       "      <th></th>\n",
       "      <th>Clima</th>\n",
       "      <th>Temperatura</th>\n",
       "      <th>Humedad</th>\n",
       "      <th>Viento</th>\n",
       "      <th>¿Jugar tenis?</th>\n",
       "    </tr>\n",
       "  </thead>\n",
       "  <tbody>\n",
       "    <tr>\n",
       "      <th>0</th>\n",
       "      <td>Soleado</td>\n",
       "      <td>Cálido</td>\n",
       "      <td>Alta</td>\n",
       "      <td>Débil</td>\n",
       "      <td>0</td>\n",
       "    </tr>\n",
       "    <tr>\n",
       "      <th>1</th>\n",
       "      <td>Soleado</td>\n",
       "      <td>Cálido</td>\n",
       "      <td>Alta</td>\n",
       "      <td>Fuerte</td>\n",
       "      <td>0</td>\n",
       "    </tr>\n",
       "    <tr>\n",
       "      <th>2</th>\n",
       "      <td>Nublado</td>\n",
       "      <td>Cálido</td>\n",
       "      <td>Alta</td>\n",
       "      <td>Débil</td>\n",
       "      <td>1</td>\n",
       "    </tr>\n",
       "    <tr>\n",
       "      <th>3</th>\n",
       "      <td>Lluvioso</td>\n",
       "      <td>Templado</td>\n",
       "      <td>Alta</td>\n",
       "      <td>Débil</td>\n",
       "      <td>1</td>\n",
       "    </tr>\n",
       "    <tr>\n",
       "      <th>4</th>\n",
       "      <td>Lluvioso</td>\n",
       "      <td>Frío</td>\n",
       "      <td>Normal</td>\n",
       "      <td>Débil</td>\n",
       "      <td>1</td>\n",
       "    </tr>\n",
       "    <tr>\n",
       "      <th>5</th>\n",
       "      <td>Lluvioso</td>\n",
       "      <td>Frío</td>\n",
       "      <td>Normal</td>\n",
       "      <td>Fuerte</td>\n",
       "      <td>0</td>\n",
       "    </tr>\n",
       "    <tr>\n",
       "      <th>6</th>\n",
       "      <td>Nublado</td>\n",
       "      <td>Frío</td>\n",
       "      <td>Normal</td>\n",
       "      <td>Fuerte</td>\n",
       "      <td>1</td>\n",
       "    </tr>\n",
       "    <tr>\n",
       "      <th>7</th>\n",
       "      <td>Soleado</td>\n",
       "      <td>Templado</td>\n",
       "      <td>Alta</td>\n",
       "      <td>Débil</td>\n",
       "      <td>0</td>\n",
       "    </tr>\n",
       "    <tr>\n",
       "      <th>8</th>\n",
       "      <td>Soleado</td>\n",
       "      <td>Frío</td>\n",
       "      <td>Normal</td>\n",
       "      <td>Débil</td>\n",
       "      <td>1</td>\n",
       "    </tr>\n",
       "    <tr>\n",
       "      <th>9</th>\n",
       "      <td>Lluvioso</td>\n",
       "      <td>Templado</td>\n",
       "      <td>Normal</td>\n",
       "      <td>Débil</td>\n",
       "      <td>1</td>\n",
       "    </tr>\n",
       "    <tr>\n",
       "      <th>10</th>\n",
       "      <td>Soleado</td>\n",
       "      <td>Templado</td>\n",
       "      <td>Normal</td>\n",
       "      <td>Fuerte</td>\n",
       "      <td>1</td>\n",
       "    </tr>\n",
       "    <tr>\n",
       "      <th>11</th>\n",
       "      <td>Nublado</td>\n",
       "      <td>Templado</td>\n",
       "      <td>Alta</td>\n",
       "      <td>Fuerte</td>\n",
       "      <td>1</td>\n",
       "    </tr>\n",
       "    <tr>\n",
       "      <th>12</th>\n",
       "      <td>Nublado</td>\n",
       "      <td>Cálido</td>\n",
       "      <td>Normal</td>\n",
       "      <td>Débil</td>\n",
       "      <td>1</td>\n",
       "    </tr>\n",
       "    <tr>\n",
       "      <th>13</th>\n",
       "      <td>Lluvioso</td>\n",
       "      <td>Templado</td>\n",
       "      <td>Alta</td>\n",
       "      <td>Fuerte</td>\n",
       "      <td>0</td>\n",
       "    </tr>\n",
       "  </tbody>\n",
       "</table>\n",
       "</div>"
      ],
      "text/plain": [
       "       Clima Temperatura Humedad  Viento  ¿Jugar tenis?\n",
       "0    Soleado      Cálido    Alta   Débil              0\n",
       "1    Soleado      Cálido    Alta  Fuerte              0\n",
       "2    Nublado      Cálido    Alta   Débil              1\n",
       "3   Lluvioso    Templado    Alta   Débil              1\n",
       "4   Lluvioso        Frío  Normal   Débil              1\n",
       "5   Lluvioso        Frío  Normal  Fuerte              0\n",
       "6    Nublado        Frío  Normal  Fuerte              1\n",
       "7    Soleado    Templado    Alta   Débil              0\n",
       "8    Soleado        Frío  Normal   Débil              1\n",
       "9   Lluvioso    Templado  Normal   Débil              1\n",
       "10   Soleado    Templado  Normal  Fuerte              1\n",
       "11   Nublado    Templado    Alta  Fuerte              1\n",
       "12   Nublado      Cálido  Normal   Débil              1\n",
       "13  Lluvioso    Templado    Alta  Fuerte              0"
      ]
     },
     "execution_count": 2,
     "metadata": {},
     "output_type": "execute_result"
    }
   ],
   "source": [
    "# Implementación del ejemplo descrito por Tom Mitchell.\n",
    "\n",
    "data = [['Soleado', 'Cálido', 'Alta', 'Débil', 0],\n",
    "        ['Soleado', 'Cálido', 'Alta', 'Fuerte', 0],\n",
    "        ['Nublado', 'Cálido', 'Alta', 'Débil', 1],\n",
    "        ['Lluvioso', 'Templado', 'Alta', 'Débil', 1],\n",
    "        ['Lluvioso', 'Frío', 'Normal', 'Débil', 1],\n",
    "        ['Lluvioso', 'Frío', 'Normal', 'Fuerte', 0],\n",
    "        ['Nublado', 'Frío', 'Normal', 'Fuerte', 1],\n",
    "        ['Soleado', 'Templado', 'Alta', 'Débil', 0],\n",
    "        ['Soleado', 'Frío', 'Normal', 'Débil', 1],\n",
    "        ['Lluvioso', 'Templado', 'Normal', 'Débil', 1],\n",
    "        ['Soleado', 'Templado', 'Normal', 'Fuerte', 1],\n",
    "        ['Nublado', 'Templado', 'Alta', 'Fuerte', 1],\n",
    "        ['Nublado', 'Cálido', 'Normal', 'Débil', 1],\n",
    "        ['Lluvioso', 'Templado', 'Alta', 'Fuerte', 0],\n",
    "       ]\n",
    "df = pd.DataFrame(data, columns=['Clima', 'Temperatura', 'Humedad', 'Viento', '¿Jugar tenis?'])\n",
    "df"
   ]
  },
  {
   "cell_type": "markdown",
   "id": "ff948a96-02ea-4a3a-8f2e-921958033f44",
   "metadata": {},
   "source": [
    "### Entropía"
   ]
  },
  {
   "cell_type": "code",
   "execution_count": 3,
   "id": "7cd2582d-354d-4432-bd8c-257bd8b7ab48",
   "metadata": {
    "tags": []
   },
   "outputs": [],
   "source": [
    "def entropía(df, nombre_característica):\n",
    "    \"\"\"\n",
    "    Calcula la entropía de la característica discreta indicada en el dataFrame.\n",
    "    \"\"\"\n",
    "    col = df[nombre_característica]\n",
    "    \n",
    "    elems_por_clase = col.value_counts().values\n",
    "    elems_por_clase = elems_por_clase[elems_por_clase != 0] # Evitamos 0*log2(0)\n",
    "    total = elems_por_clase.sum()\n",
    "    \n",
    "    pk = elems_por_clase / total  # Ejemplares por clase\n",
    "    \n",
    "    return -np.sum(pk * np.log2(pk))"
   ]
  },
  {
   "cell_type": "code",
   "execution_count": 4,
   "id": "0003c9e7-29a4-488b-83b3-795ad204dee1",
   "metadata": {
    "tags": []
   },
   "outputs": [
    {
     "data": {
      "text/plain": [
       "0.9402859586706311"
      ]
     },
     "execution_count": 4,
     "metadata": {},
     "output_type": "execute_result"
    }
   ],
   "source": [
    "# Entropía inicial del conjunto\n",
    "entropía(df, '¿Jugar tenis?')"
   ]
  },
  {
   "cell_type": "markdown",
   "id": "5500927a-3f43-4e6e-8295-74ec8751cd71",
   "metadata": {},
   "source": [
    "### Árbol de decisión"
   ]
  },
  {
   "cell_type": "code",
   "execution_count": 8,
   "id": "f96f898c-ee3a-4d4d-b878-38c2e16167bd",
   "metadata": {
    "tags": []
   },
   "outputs": [
    {
     "name": "stdout",
     "output_type": "stream",
     "text": [
      "Raíz : entropía:  0.9402859586706311\n",
      "\n",
      "Clima\n",
      "Lluvioso\n",
      "   Temperatura Humedad  Viento  ¿Jugar tenis?\n",
      "3     Templado    Alta   Débil              1\n",
      "4         Frío  Normal   Débil              1\n",
      "5         Frío  Normal  Fuerte              0\n",
      "9     Templado  Normal   Débil              1\n",
      "13    Templado    Alta  Fuerte              0\n",
      "Lluvioso : entropía:  0.9709505944546686\n",
      "\n",
      "Viento\n",
      "Débil\n",
      "  Temperatura Humedad  ¿Jugar tenis?\n",
      "3    Templado    Alta              1\n",
      "4        Frío  Normal              1\n",
      "9    Templado  Normal              1\n",
      "Débil : entropía:  -0.0\n",
      "\n",
      "Fuerte\n",
      "   Temperatura Humedad  ¿Jugar tenis?\n",
      "5         Frío  Normal              0\n",
      "13    Templado    Alta              0\n",
      "Fuerte : entropía:  -0.0\n",
      "\n",
      "Nublado\n",
      "   Temperatura Humedad  Viento  ¿Jugar tenis?\n",
      "2       Cálido    Alta   Débil              1\n",
      "6         Frío  Normal  Fuerte              1\n",
      "11    Templado    Alta  Fuerte              1\n",
      "12      Cálido  Normal   Débil              1\n",
      "Nublado : entropía:  -0.0\n",
      "\n",
      "Soleado\n",
      "   Temperatura Humedad  Viento  ¿Jugar tenis?\n",
      "0       Cálido    Alta   Débil              0\n",
      "1       Cálido    Alta  Fuerte              0\n",
      "7     Templado    Alta   Débil              0\n",
      "8         Frío  Normal   Débil              1\n",
      "10    Templado  Normal  Fuerte              1\n",
      "Soleado : entropía:  0.9709505944546686\n",
      "\n",
      "Humedad\n",
      "Alta\n",
      "  Temperatura  Viento  ¿Jugar tenis?\n",
      "0      Cálido   Débil              0\n",
      "1      Cálido  Fuerte              0\n",
      "7    Templado   Débil              0\n",
      "Alta : entropía:  -0.0\n",
      "\n",
      "Normal\n",
      "   Temperatura  Viento  ¿Jugar tenis?\n",
      "8         Frío   Débil              1\n",
      "10    Templado  Fuerte              1\n",
      "Normal : entropía:  -0.0\n",
      "\n"
     ]
    }
   ],
   "source": [
    "class Nodo:\n",
    "    def __init__(self, nombre, df, col_objetivo_y):\n",
    "        \"\"\"\n",
    "        df: DataFrame con los datos asignados a este nodo\n",
    "        \"\"\"\n",
    "        self._nombre = nombre\n",
    "        self._df = df\n",
    "        self._col_objetivo = col_objetivo_y\n",
    "        \n",
    "        self._entropía = entropía(df, col_objetivo_y)\n",
    "        print(self._nombre, \": entropía: \", self._entropía)\n",
    "        print()\n",
    "        \n",
    "        # Condición estricta\n",
    "        if self._entropía > 0.0001:\n",
    "            self._genera_hijos()\n",
    "            self._es_hoja = False\n",
    "        else:\n",
    "            self._es_hoja = True\n",
    "            \n",
    "    def _genera_hijos(self):\n",
    "        # Probar a cada característica para dividir el conjunto de datos\n",
    "        candidatos = {}\n",
    "        for h in list(self._df.columns):\n",
    "            if h == self._col_objetivo:\n",
    "                continue\n",
    "            candidatos[h] = self._divide(h)\n",
    "        #print(candidatos)\n",
    "        #print()\n",
    "        #for car, (ganancia, hijos) in candidatos.items():\n",
    "        #    print(car, ganancia)\n",
    "            \n",
    "        # Obtener la característica con mayor ganancia\n",
    "        car, (ganancia, hijos) = max(candidatos.items(), key = lambda tupla: tupla[1][0])\n",
    "        self._pregunta = car\n",
    "        self._ganancia = ganancia\n",
    "        self._hijos = {}\n",
    "        \n",
    "        print(car)\n",
    "        for dict in hijos:\n",
    "            valor = dict['valor']\n",
    "            data = dict['data']\n",
    "            print(valor)\n",
    "            print(data)\n",
    "            self._hijos[valor] = Nodo(valor, data, self._col_objetivo)\n",
    "\n",
    "    def _divide(self, característica):\n",
    "        \"\"\"\n",
    "        Divide el DataFrame según los valores de la característica\n",
    "        indicada, devuelve la ganancia y los nodos resultantes.\n",
    "        \"\"\"\n",
    "        grp = self._df.groupby(característica)\n",
    "        lista_hijos = []\n",
    "        entropía_hijos = 0\n",
    "        cuenta = len(self._df)\n",
    "        for valor, data in grp:\n",
    "            data = data.drop(columns=característica)\n",
    "            d = {}\n",
    "            d['valor'] = valor\n",
    "            d['data'] = data\n",
    "            entropía_hijo = entropía(data, self._col_objetivo)\n",
    "            cuenta_hijo = len(data)\n",
    "            entropía_hijos += (cuenta_hijo * entropía_hijo) / cuenta\n",
    "            lista_hijos.append(d)\n",
    "        \n",
    "        ganancia = self.entropía - entropía_hijos\n",
    "        return (ganancia, lista_hijos)\n",
    "        \n",
    "    \n",
    "    @property\n",
    "    def entropía(self):\n",
    "        return self._entropía\n",
    "        \n",
    "class Árbol:\n",
    "    def ajústate(self, df, col_objetivo_y):\n",
    "        \"\"\"\n",
    "        df: DataFrame con los datos a analizar\n",
    "        col_objetivo_y: Nombre de la columna con el concepto a aprender\n",
    "        \"\"\"\n",
    "        self._df = df\n",
    "        self._col_objetivo = col_objetivo_y\n",
    "        self.raíz = Nodo('Raíz', df, col_objetivo_y)\n",
    "\n",
    "árbol = Árbol()\n",
    "árbol.ajústate(df, '¿Jugar tenis?')"
   ]
  },
  {
   "cell_type": "markdown",
   "id": "f1946e5c-eea9-43a0-8f21-25c6121b6486",
   "metadata": {
    "tags": []
   },
   "source": [
    "## CART\n",
    "\n",
    "Permite que los atributos de entrada sean categóricos o continuos. [Decision Trees, scikit](https://scikit-learn.org/stable/modules/tree.html#tree-algorithms-id3-c4-5-c5-0-and-cart).  La implementación de scikit por el momento sólo cubre variables continuas."
   ]
  },
  {
   "cell_type": "markdown",
   "id": "1aa89c91-39d7-4064-a52d-58776bbc1d83",
   "metadata": {
    "tags": []
   },
   "source": [
    "### Datos\n",
    "\n",
    "Clasificación de flores Iris."
   ]
  },
  {
   "cell_type": "code",
   "execution_count": 11,
   "id": "70b21636-53d3-4e40-a39b-dc236f10a6ce",
   "metadata": {
    "tags": []
   },
   "outputs": [],
   "source": [
    "# Datos\n",
    "\n",
    "iris = load_iris()\n",
    "X = iris.data\n",
    "y = iris.target\n",
    "\n",
    "# Entrenamiento, validación y prueba\n",
    "X_train, X_temp, y_train, y_temp = train_test_split(X, y, train_size=0.7, random_state=0)\n",
    "X_val, X_test, y_val, y_test = train_test_split(X_temp, y_temp, train_size=0.6, random_state=0)"
   ]
  },
  {
   "cell_type": "code",
   "execution_count": 12,
   "id": "f083cdc2-1990-41ec-a3c0-e8c9b0b9a5f6",
   "metadata": {
    "tags": []
   },
   "outputs": [
    {
     "name": "stdout",
     "output_type": "stream",
     "text": [
      ".. _iris_dataset:\n",
      "\n",
      "Iris plants dataset\n",
      "--------------------\n",
      "\n",
      "**Data Set Characteristics:**\n",
      "\n",
      "    :Number of Instances: 150 (50 in each of three classes)\n",
      "    :Number of Attributes: 4 numeric, predictive attributes and the class\n",
      "    :Attribute Information:\n",
      "        - sepal length in cm\n",
      "        - sepal width in cm\n",
      "        - petal length in cm\n",
      "        - petal width in cm\n",
      "        - class:\n",
      "                - Iris-Setosa\n",
      "                - Iris-Versicolour\n",
      "                - Iris-Virginica\n",
      "                \n",
      "    :Summary Statistics:\n",
      "\n",
      "    ============== ==== ==== ======= ===== ====================\n",
      "                    Min  Max   Mean    SD   Class Correlation\n",
      "    ============== ==== ==== ======= ===== ====================\n",
      "    sepal length:   4.3  7.9   5.84   0.83    0.7826\n",
      "    sepal width:    2.0  4.4   3.05   0.43   -0.4194\n",
      "    petal length:   1.0  6.9   3.76   1.76    0.9490  (high!)\n",
      "    petal width:    0.1  2.5   1.20   0.76    0.9565  (high!)\n",
      "    ============== ==== ==== ======= ===== ====================\n",
      "\n",
      "    :Missing Attribute Values: None\n",
      "    :Class Distribution: 33.3% for each of 3 classes.\n",
      "    :Creator: R.A. Fisher\n",
      "    :Donor: Michael Marshall (MARSHALL%PLU@io.arc.nasa.gov)\n",
      "    :Date: July, 1988\n",
      "\n",
      "The famous Iris database, first used by Sir R.A. Fisher. The dataset is taken\n",
      "from Fisher's paper. Note that it's the same as in R, but not as in the UCI\n",
      "Machine Learning Repository, which has two wrong data points.\n",
      "\n",
      "This is perhaps the best known database to be found in the\n",
      "pattern recognition literature.  Fisher's paper is a classic in the field and\n",
      "is referenced frequently to this day.  (See Duda & Hart, for example.)  The\n",
      "data set contains 3 classes of 50 instances each, where each class refers to a\n",
      "type of iris plant.  One class is linearly separable from the other 2; the\n",
      "latter are NOT linearly separable from each other.\n",
      "\n",
      ".. topic:: References\n",
      "\n",
      "   - Fisher, R.A. \"The use of multiple measurements in taxonomic problems\"\n",
      "     Annual Eugenics, 7, Part II, 179-188 (1936); also in \"Contributions to\n",
      "     Mathematical Statistics\" (John Wiley, NY, 1950).\n",
      "   - Duda, R.O., & Hart, P.E. (1973) Pattern Classification and Scene Analysis.\n",
      "     (Q327.D83) John Wiley & Sons.  ISBN 0-471-22361-1.  See page 218.\n",
      "   - Dasarathy, B.V. (1980) \"Nosing Around the Neighborhood: A New System\n",
      "     Structure and Classification Rule for Recognition in Partially Exposed\n",
      "     Environments\".  IEEE Transactions on Pattern Analysis and Machine\n",
      "     Intelligence, Vol. PAMI-2, No. 1, 67-71.\n",
      "   - Gates, G.W. (1972) \"The Reduced Nearest Neighbor Rule\".  IEEE Transactions\n",
      "     on Information Theory, May 1972, 431-433.\n",
      "   - See also: 1988 MLC Proceedings, 54-64.  Cheeseman et al\"s AUTOCLASS II\n",
      "     conceptual clustering system finds 3 classes in the data.\n",
      "   - Many, many more ...\n"
     ]
    }
   ],
   "source": [
    "print(iris['DESCR'])"
   ]
  },
  {
   "cell_type": "code",
   "execution_count": 13,
   "id": "986d39c1-697e-4d34-963e-8322716467fe",
   "metadata": {
    "tags": []
   },
   "outputs": [
    {
     "name": "stdout",
     "output_type": "stream",
     "text": [
      "Características:  ['sepal length (cm)', 'sepal width (cm)', 'petal length (cm)', 'petal width (cm)']\n",
      "                  ['        0        ', '        1        ', '        2        ', '        3        ']\n",
      "Clases:           ['setosa' 'versicolor' 'virginica']\n"
     ]
    }
   ],
   "source": [
    "print(\"Características: \", iris.feature_names)\n",
    "print(\"                 \", [\"        \" + str(i) + \"        \"  for i in range(len(iris.feature_names))])\n",
    "print(\"Clases:          \", iris.target_names)"
   ]
  },
  {
   "cell_type": "markdown",
   "id": "906ebb2d-b23b-44a2-b821-547fc5d3aec6",
   "metadata": {},
   "source": [
    "### Espacio de hipótesis"
   ]
  },
  {
   "cell_type": "markdown",
   "id": "0002f6a3-9d09-4042-87e2-23561fd2992c",
   "metadata": {},
   "source": [
    "A partir del ejemplo [Understanding the decision tree structure](https://scikit-learn.org/stable/auto_examples/tree/plot_unveil_tree_structure.html#sphx-glr-auto-examples-tree-plot-unveil-tree-structure-py) podemos visualizar fácilmente el resultado de aplicar CART a nuestro conjunto de datos."
   ]
  },
  {
   "cell_type": "code",
   "execution_count": 14,
   "id": "84dc7e2f-a89e-477c-8f37-e90f147c6966",
   "metadata": {
    "tags": []
   },
   "outputs": [
    {
     "data": {
      "application/vnd.jupyter.widget-view+json": {
       "model_id": "2534925e7d1b4776975051d77dd9d72e",
       "version_major": 2,
       "version_minor": 0
      },
      "text/plain": [
       "interactive(children=(IntSlider(value=3, description='max_num_hojas', max=10, min=2), Output()), _dom_classes=…"
      ]
     },
     "metadata": {},
     "output_type": "display_data"
    }
   ],
   "source": [
    "clf = None\n",
    "@interact(max_num_hojas = widgets.IntSlider(min=2, max=10, value=3))\n",
    "def árboles_para_iris(max_num_hojas):\n",
    "    global clf\n",
    "    clf = DecisionTreeClassifier(max_leaf_nodes=max_num_hojas, random_state=0)\n",
    "    clf.fit(X_train, y_train)\n",
    "    tree.plot_tree(clf,\n",
    "                   feature_names=iris.feature_names,\n",
    "                   class_names=iris.target_names,\n",
    "                   rounded=True, filled=True, # Añade color dependiendo de la clase\n",
    "                  )\n",
    "    plt.show()"
   ]
  },
  {
   "cell_type": "code",
   "execution_count": 15,
   "id": "749ca78a-916c-4855-b2ed-adbe1b80055f",
   "metadata": {
    "tags": []
   },
   "outputs": [
    {
     "data": {
      "text/html": [
       "<style>#sk-container-id-1 {color: black;background-color: white;}#sk-container-id-1 pre{padding: 0;}#sk-container-id-1 div.sk-toggleable {background-color: white;}#sk-container-id-1 label.sk-toggleable__label {cursor: pointer;display: block;width: 100%;margin-bottom: 0;padding: 0.3em;box-sizing: border-box;text-align: center;}#sk-container-id-1 label.sk-toggleable__label-arrow:before {content: \"▸\";float: left;margin-right: 0.25em;color: #696969;}#sk-container-id-1 label.sk-toggleable__label-arrow:hover:before {color: black;}#sk-container-id-1 div.sk-estimator:hover label.sk-toggleable__label-arrow:before {color: black;}#sk-container-id-1 div.sk-toggleable__content {max-height: 0;max-width: 0;overflow: hidden;text-align: left;background-color: #f0f8ff;}#sk-container-id-1 div.sk-toggleable__content pre {margin: 0.2em;color: black;border-radius: 0.25em;background-color: #f0f8ff;}#sk-container-id-1 input.sk-toggleable__control:checked~div.sk-toggleable__content {max-height: 200px;max-width: 100%;overflow: auto;}#sk-container-id-1 input.sk-toggleable__control:checked~label.sk-toggleable__label-arrow:before {content: \"▾\";}#sk-container-id-1 div.sk-estimator input.sk-toggleable__control:checked~label.sk-toggleable__label {background-color: #d4ebff;}#sk-container-id-1 div.sk-label input.sk-toggleable__control:checked~label.sk-toggleable__label {background-color: #d4ebff;}#sk-container-id-1 input.sk-hidden--visually {border: 0;clip: rect(1px 1px 1px 1px);clip: rect(1px, 1px, 1px, 1px);height: 1px;margin: -1px;overflow: hidden;padding: 0;position: absolute;width: 1px;}#sk-container-id-1 div.sk-estimator {font-family: monospace;background-color: #f0f8ff;border: 1px dotted black;border-radius: 0.25em;box-sizing: border-box;margin-bottom: 0.5em;}#sk-container-id-1 div.sk-estimator:hover {background-color: #d4ebff;}#sk-container-id-1 div.sk-parallel-item::after {content: \"\";width: 100%;border-bottom: 1px solid gray;flex-grow: 1;}#sk-container-id-1 div.sk-label:hover label.sk-toggleable__label {background-color: #d4ebff;}#sk-container-id-1 div.sk-serial::before {content: \"\";position: absolute;border-left: 1px solid gray;box-sizing: border-box;top: 0;bottom: 0;left: 50%;z-index: 0;}#sk-container-id-1 div.sk-serial {display: flex;flex-direction: column;align-items: center;background-color: white;padding-right: 0.2em;padding-left: 0.2em;position: relative;}#sk-container-id-1 div.sk-item {position: relative;z-index: 1;}#sk-container-id-1 div.sk-parallel {display: flex;align-items: stretch;justify-content: center;background-color: white;position: relative;}#sk-container-id-1 div.sk-item::before, #sk-container-id-1 div.sk-parallel-item::before {content: \"\";position: absolute;border-left: 1px solid gray;box-sizing: border-box;top: 0;bottom: 0;left: 50%;z-index: -1;}#sk-container-id-1 div.sk-parallel-item {display: flex;flex-direction: column;z-index: 1;position: relative;background-color: white;}#sk-container-id-1 div.sk-parallel-item:first-child::after {align-self: flex-end;width: 50%;}#sk-container-id-1 div.sk-parallel-item:last-child::after {align-self: flex-start;width: 50%;}#sk-container-id-1 div.sk-parallel-item:only-child::after {width: 0;}#sk-container-id-1 div.sk-dashed-wrapped {border: 1px dashed gray;margin: 0 0.4em 0.5em 0.4em;box-sizing: border-box;padding-bottom: 0.4em;background-color: white;}#sk-container-id-1 div.sk-label label {font-family: monospace;font-weight: bold;display: inline-block;line-height: 1.2em;}#sk-container-id-1 div.sk-label-container {text-align: center;}#sk-container-id-1 div.sk-container {/* jupyter's `normalize.less` sets `[hidden] { display: none; }` but bootstrap.min.css set `[hidden] { display: none !important; }` so we also need the `!important` here to be able to override the default hidden behavior on the sphinx rendered scikit-learn.org. See: https://github.com/scikit-learn/scikit-learn/issues/21755 */display: inline-block !important;position: relative;}#sk-container-id-1 div.sk-text-repr-fallback {display: none;}</style><div id=\"sk-container-id-1\" class=\"sk-top-container\"><div class=\"sk-text-repr-fallback\"><pre>DecisionTreeClassifier(max_leaf_nodes=3, random_state=0)</pre><b>In a Jupyter environment, please rerun this cell to show the HTML representation or trust the notebook. <br />On GitHub, the HTML representation is unable to render, please try loading this page with nbviewer.org.</b></div><div class=\"sk-container\" hidden><div class=\"sk-item\"><div class=\"sk-estimator sk-toggleable\"><input class=\"sk-toggleable__control sk-hidden--visually\" id=\"sk-estimator-id-1\" type=\"checkbox\" checked><label for=\"sk-estimator-id-1\" class=\"sk-toggleable__label sk-toggleable__label-arrow\">DecisionTreeClassifier</label><div class=\"sk-toggleable__content\"><pre>DecisionTreeClassifier(max_leaf_nodes=3, random_state=0)</pre></div></div></div></div></div>"
      ],
      "text/plain": [
       "DecisionTreeClassifier(max_leaf_nodes=3, random_state=0)"
      ]
     },
     "execution_count": 15,
     "metadata": {},
     "output_type": "execute_result"
    }
   ],
   "source": [
    "clf"
   ]
  },
  {
   "cell_type": "code",
   "execution_count": 17,
   "id": "6a15e371-c79f-4403-bbb0-5810b273d787",
   "metadata": {
    "tags": []
   },
   "outputs": [
    {
     "name": "stdout",
     "output_type": "stream",
     "text": [
      "Árbol:  <sklearn.tree._tree.Tree object at 0x7f29a4e069c0>\n",
      "El árbol tiene 5 nodos\n",
      "Hijos izquierdos:  [ 1 -1  3 -1 -1]\n",
      "Hijos derechos:  [ 2 -1  4 -1 -1]\n"
     ]
    }
   ],
   "source": [
    "print(\"Árbol: \", clf.tree_)\n",
    "print(f\"El árbol tiene {clf.tree_.node_count} nodos\")\n",
    "print(\"Hijos izquierdos: \", clf.tree_.children_left)\n",
    "print(\"Hijos derechos: \", clf.tree_.children_right)\n",
    "#dir(clf.tree_)\n",
    "#help(tree._tree.Tree)"
   ]
  },
  {
   "cell_type": "markdown",
   "id": "c5c9b782-3dd4-4d79-95e4-3213577b8633",
   "metadata": {},
   "source": [
    "### Entrenamiento"
   ]
  },
  {
   "cell_type": "markdown",
   "id": "0378f235-7830-4c74-a222-e4f1aae60daa",
   "metadata": {},
   "source": [
    "<div class=\"alert alert-block alert-warning\">\n",
    "  <b>Ejercicio 1:</b><br/>\n",
    "    Utiliza ahora el conjunto de <b>validación</b> para decidir cuál es el mejor valor para el <b>máximo número de hojas</b>.\n",
    "</div>"
   ]
  },
  {
   "cell_type": "code",
   "execution_count": 20,
   "id": "e789dda3-c1fe-4c5d-b957-79460c5e0c59",
   "metadata": {
    "tags": []
   },
   "outputs": [],
   "source": [
    "# TODO: Agrega las celdas que necesites con tu código"
   ]
  },
  {
   "cell_type": "markdown",
   "id": "b2761d7c-90d2-4a3a-92b1-7ee3546040ee",
   "metadata": {},
   "source": [
    "<div class=\"alert alert-block alert-warning\">\n",
    "  <b>Ejercicio 2:</b><br/>\n",
    "    Utiliza el conjunto de <b>prueba</b> para evaluar el desempeño del valor que elegiste.\n",
    "</div>"
   ]
  },
  {
   "cell_type": "code",
   "execution_count": 21,
   "id": "dcf7af30-417c-41e0-8c85-6e1468a6e7c4",
   "metadata": {
    "tags": []
   },
   "outputs": [],
   "source": [
    "# TODO: Agrega las celdas que necesites con tu código"
   ]
  },
  {
   "cell_type": "markdown",
   "id": "c1a0c077-6a75-4d92-b96e-11289e4aacdf",
   "metadata": {},
   "source": [
    "### Regresión\n",
    "\n",
    "También es posible utilizar estos árboles para aproximar funciones como un problema de regresión, aunque no suele ser tan eficiente como otras técnicas. [Decision Tree Regression](https://scikit-learn.org/stable/auto_examples/tree/plot_tree_regression.html#sphx-glr-auto-examples-tree-plot-tree-regression-py)\n",
    "<figure>\n",
    " <center>\n",
    "  <img src=\"https://scikit-learn.org/stable/_images/sphx_glr_plot_tree_regression_001.png\" alt=\"Uso en regresión\">\n",
    " <figcaption>Ejemplo tomado de la documentaciónd de scikit</figcaption>\n",
    " </center>    \n",
    "</figure>"
   ]
  },
  {
   "cell_type": "markdown",
   "id": "811b3c2f-afed-44eb-96cd-54439ad79c7a",
   "metadata": {},
   "source": [
    "# Bosques aleatorios"
   ]
  },
  {
   "cell_type": "code",
   "execution_count": 22,
   "id": "9d0d56e7-efaa-4baf-bc91-61649e72e6bf",
   "metadata": {
    "tags": []
   },
   "outputs": [],
   "source": [
    "from sklearn.ensemble import RandomForestClassifier"
   ]
  },
  {
   "cell_type": "code",
   "execution_count": 24,
   "id": "a21d33ad-4a62-48d0-818d-100b5cc07d39",
   "metadata": {
    "tags": []
   },
   "outputs": [
    {
     "data": {
      "text/html": [
       "<style>#sk-container-id-3 {color: black;background-color: white;}#sk-container-id-3 pre{padding: 0;}#sk-container-id-3 div.sk-toggleable {background-color: white;}#sk-container-id-3 label.sk-toggleable__label {cursor: pointer;display: block;width: 100%;margin-bottom: 0;padding: 0.3em;box-sizing: border-box;text-align: center;}#sk-container-id-3 label.sk-toggleable__label-arrow:before {content: \"▸\";float: left;margin-right: 0.25em;color: #696969;}#sk-container-id-3 label.sk-toggleable__label-arrow:hover:before {color: black;}#sk-container-id-3 div.sk-estimator:hover label.sk-toggleable__label-arrow:before {color: black;}#sk-container-id-3 div.sk-toggleable__content {max-height: 0;max-width: 0;overflow: hidden;text-align: left;background-color: #f0f8ff;}#sk-container-id-3 div.sk-toggleable__content pre {margin: 0.2em;color: black;border-radius: 0.25em;background-color: #f0f8ff;}#sk-container-id-3 input.sk-toggleable__control:checked~div.sk-toggleable__content {max-height: 200px;max-width: 100%;overflow: auto;}#sk-container-id-3 input.sk-toggleable__control:checked~label.sk-toggleable__label-arrow:before {content: \"▾\";}#sk-container-id-3 div.sk-estimator input.sk-toggleable__control:checked~label.sk-toggleable__label {background-color: #d4ebff;}#sk-container-id-3 div.sk-label input.sk-toggleable__control:checked~label.sk-toggleable__label {background-color: #d4ebff;}#sk-container-id-3 input.sk-hidden--visually {border: 0;clip: rect(1px 1px 1px 1px);clip: rect(1px, 1px, 1px, 1px);height: 1px;margin: -1px;overflow: hidden;padding: 0;position: absolute;width: 1px;}#sk-container-id-3 div.sk-estimator {font-family: monospace;background-color: #f0f8ff;border: 1px dotted black;border-radius: 0.25em;box-sizing: border-box;margin-bottom: 0.5em;}#sk-container-id-3 div.sk-estimator:hover {background-color: #d4ebff;}#sk-container-id-3 div.sk-parallel-item::after {content: \"\";width: 100%;border-bottom: 1px solid gray;flex-grow: 1;}#sk-container-id-3 div.sk-label:hover label.sk-toggleable__label {background-color: #d4ebff;}#sk-container-id-3 div.sk-serial::before {content: \"\";position: absolute;border-left: 1px solid gray;box-sizing: border-box;top: 0;bottom: 0;left: 50%;z-index: 0;}#sk-container-id-3 div.sk-serial {display: flex;flex-direction: column;align-items: center;background-color: white;padding-right: 0.2em;padding-left: 0.2em;position: relative;}#sk-container-id-3 div.sk-item {position: relative;z-index: 1;}#sk-container-id-3 div.sk-parallel {display: flex;align-items: stretch;justify-content: center;background-color: white;position: relative;}#sk-container-id-3 div.sk-item::before, #sk-container-id-3 div.sk-parallel-item::before {content: \"\";position: absolute;border-left: 1px solid gray;box-sizing: border-box;top: 0;bottom: 0;left: 50%;z-index: -1;}#sk-container-id-3 div.sk-parallel-item {display: flex;flex-direction: column;z-index: 1;position: relative;background-color: white;}#sk-container-id-3 div.sk-parallel-item:first-child::after {align-self: flex-end;width: 50%;}#sk-container-id-3 div.sk-parallel-item:last-child::after {align-self: flex-start;width: 50%;}#sk-container-id-3 div.sk-parallel-item:only-child::after {width: 0;}#sk-container-id-3 div.sk-dashed-wrapped {border: 1px dashed gray;margin: 0 0.4em 0.5em 0.4em;box-sizing: border-box;padding-bottom: 0.4em;background-color: white;}#sk-container-id-3 div.sk-label label {font-family: monospace;font-weight: bold;display: inline-block;line-height: 1.2em;}#sk-container-id-3 div.sk-label-container {text-align: center;}#sk-container-id-3 div.sk-container {/* jupyter's `normalize.less` sets `[hidden] { display: none; }` but bootstrap.min.css set `[hidden] { display: none !important; }` so we also need the `!important` here to be able to override the default hidden behavior on the sphinx rendered scikit-learn.org. See: https://github.com/scikit-learn/scikit-learn/issues/21755 */display: inline-block !important;position: relative;}#sk-container-id-3 div.sk-text-repr-fallback {display: none;}</style><div id=\"sk-container-id-3\" class=\"sk-top-container\"><div class=\"sk-text-repr-fallback\"><pre>RandomForestClassifier(n_estimators=3)</pre><b>In a Jupyter environment, please rerun this cell to show the HTML representation or trust the notebook. <br />On GitHub, the HTML representation is unable to render, please try loading this page with nbviewer.org.</b></div><div class=\"sk-container\" hidden><div class=\"sk-item\"><div class=\"sk-estimator sk-toggleable\"><input class=\"sk-toggleable__control sk-hidden--visually\" id=\"sk-estimator-id-3\" type=\"checkbox\" checked><label for=\"sk-estimator-id-3\" class=\"sk-toggleable__label sk-toggleable__label-arrow\">RandomForestClassifier</label><div class=\"sk-toggleable__content\"><pre>RandomForestClassifier(n_estimators=3)</pre></div></div></div></div></div>"
      ],
      "text/plain": [
       "RandomForestClassifier(n_estimators=3)"
      ]
     },
     "execution_count": 24,
     "metadata": {},
     "output_type": "execute_result"
    }
   ],
   "source": [
    "forest = RandomForestClassifier(n_estimators=3)\n",
    "\n",
    "forest.fit(X_train, y_train)"
   ]
  },
  {
   "cell_type": "code",
   "execution_count": null,
   "id": "032e26bd-3a7c-4c25-b145-f6209b8f110d",
   "metadata": {},
   "outputs": [],
   "source": []
  }
 ],
 "metadata": {
  "kernelspec": {
   "display_name": "Python 3 (ipykernel)",
   "language": "python",
   "name": "python3"
  },
  "language_info": {
   "codemirror_mode": {
    "name": "ipython",
    "version": 3
   },
   "file_extension": ".py",
   "mimetype": "text/x-python",
   "name": "python",
   "nbconvert_exporter": "python",
   "pygments_lexer": "ipython3",
   "version": "3.10.6"
  }
 },
 "nbformat": 4,
 "nbformat_minor": 5
}
