{
 "cells": [
  {
   "cell_type": "markdown",
   "metadata": {
    "nbgrader": {
     "grade": false,
     "grade_id": "cell-e3d7a27fbff25324",
     "locked": true,
     "schema_version": 3,
     "solution": false,
     "task": false
    },
    "tags": []
   },
   "source": [
    "# Introducción a Python para IA.\n",
    "\n",
    " <p xmlns:cc=\"http://creativecommons.org/ns#\" xmlns:dct=\"http://purl.org/dc/terms/\"><a property=\"dct:title\" rel=\"cc:attributionURL\" href=\"https://github.com/luiggix/intro_MeIA_2023\">Introducción a Python para IA</a> by <span property=\"cc:attributionName\">Luis Miguel de la Cruz Salas</span> is licensed under <a href=\"http://creativecommons.org/licenses/by-nc-sa/4.0/?ref=chooser-v1\" target=\"_blank\" rel=\"license noopener noreferrer\" style=\"display:inline-block;\">CC BY-NC-SA 4.0<img style=\"height:22px!important;margin-left:3px;vertical-align:text-bottom;\" src=\"https://mirrors.creativecommons.org/presskit/icons/cc.svg?ref=chooser-v1\"><img style=\"height:22px!important;margin-left:3px;vertical-align:text-bottom;\" src=\"https://mirrors.creativecommons.org/presskit/icons/by.svg?ref=chooser-v1\"><img style=\"height:22px!important;margin-left:3px;vertical-align:text-bottom;\" src=\"https://mirrors.creativecommons.org/presskit/icons/nc.svg?ref=chooser-v1\"><img style=\"height:22px!important;margin-left:3px;vertical-align:text-bottom;\" src=\"https://mirrors.creativecommons.org/presskit/icons/sa.svg?ref=chooser-v1\"></a></p> \n",
    "\n",
    "# Objetivos.\n",
    "\n",
    "Hacer uso de los conceptos de etiquetas, palabras reservadas, expresiones, declaraciones, tipos y operadores, importación de bibliotecas (módulos), estructura de datos, control de flujo, entrada y salida estándar para implementar una fórmula matemática."
   ]
  },
  {
   "cell_type": "markdown",
   "metadata": {
    "nbgrader": {
     "grade": false,
     "grade_id": "cell-a1ffcb795543d06e",
     "locked": true,
     "schema_version": 3,
     "solution": false,
     "task": false
    },
    "tags": []
   },
   "source": [
    "# El huevo cocido perfecto\n",
    "\n",
    "¿Cuál es el tiempo ideal para cocinar un huevo?\n",
    "\n",
    "<img src=\"../utils/fig/huevo_cocido.jpg\"  style=\"width: 500px;\"/>\n",
    "\n",
    "\n",
    "Para lograr un **huevo cocido** suave, la clara debe haberse calentado el tiempo suficiente para coagular a una temperatura superior a $63^oC$, pero la yema no debe calentarse por encima de $70^oC$.\n",
    "\n",
    "Para lograr un **huevo duro**, el centro de la yema debe de alcanzar los $70^oC$.\n",
    "\n",
    "## Fórmula para calcular el tiempo de cocción.\n",
    "La siguiente fórmula expresa el tiempo $t$, en segundos, que le toma a la yema alcanzar la temperatura $T_y$, en grados Celsius.\n",
    "\n",
    "$$t = \\dfrac{M^{2/3} c \\rho^{1/3}}{K \\pi^2 (4\\pi/3)^{2/3}} \\ln \\left[ 0.76 \\dfrac{T_o - T_w}{T_y - T_w}\\right]$$\n",
    "\n",
    "donde las propiedades son:\n",
    "\n",
    "- $M$ masa; \n",
    "- $\\rho$ densidad; \n",
    "- $c$ capacidad calorífica específica; \n",
    "- $K$ conductividad térmica; \n",
    "- $T_w$ es la temperatura de ebullición del agua;\n",
    "- $T_o$ es la temperatura original del huevo antes de meterlo al agua;\n",
    "- $T_y$ es la temperatura que debe alcanzar la yema."
   ]
  },
  {
   "cell_type": "markdown",
   "metadata": {
    "nbgrader": {
     "grade": false,
     "grade_id": "cell-da61131b1cb20b8f",
     "locked": true,
     "schema_version": 3,
     "solution": false,
     "task": false
    },
    "tags": []
   },
   "source": [
    "---\n",
    "## **<font color=\"DodgerBlue\">Ejercicio 1. </font>**\n",
    "\n",
    "<font color=\"DarkBlue\">\n",
    "Calcular el tiempo de cocción necesario para un huevo duro pequeño de $M$ = 47 g \n",
    "(la masa de un huevo grande es 67 g), para cuando la temperatura inicial \n",
    "del huevo es:\n",
    "    \n",
    "1. Temperatura ambiente: $T_o = 20^oC$.\n",
    "2. Temperatura en el refrigerador: $T_o = 4^oC$.\n",
    "\n",
    "**Datos**:\n",
    "- $M$ = 47 g \n",
    "- $\\rho$ = 1.038 g / cm$^3$\n",
    "- $c$ = 3.7 J / g K\n",
    "- $K$ = 5.4 $\\times 10^{-3}$ W / cm K\n",
    "- $T_w = 100^oC$\n",
    "- $T_y = 70^oC$\n",
    "</font>\n",
    "\n",
    "---\n"
   ]
  },
  {
   "cell_type": "markdown",
   "metadata": {
    "nbgrader": {
     "grade": false,
     "grade_id": "cell-5b40a4feaac6dbe1",
     "locked": true,
     "schema_version": 3,
     "solution": false,
     "task": false
    },
    "tags": []
   },
   "source": [
    "### Paso 1. Numerador.\n",
    "Calcular la primera parte de la fórmula: numerador = $M^{2/3} c \\rho^{1/3}$. Definir los elementos de esta primera parte de la fórmula de tal manera que: $M$ sea un entero, $\\rho$ y $c$ flotantes."
   ]
  },
  {
   "cell_type": "code",
   "execution_count": 1,
   "metadata": {
    "tags": []
   },
   "outputs": [
    {
     "name": "stdout",
     "output_type": "stream",
     "text": [
      "47 <class 'int'> 140732205037800\n",
      "1.038 <class 'float'> 2931489792880\n",
      "3.7 <class 'float'> 2931489794288\n"
     ]
    }
   ],
   "source": [
    "# Definimos las etiquetas necesarias\n",
    "M   = 47    # Un entero\n",
    "rho = 1.038 # Un flotante\n",
    "c   = 3.7   # Otro flotante\n",
    "\n",
    "# Imprimimos el contenido, el tipo y el id de cada objeto\n",
    "print(M, type(M), id(M))\n",
    "print(rho, type(rho), id(rho))\n",
    "print(c, type(c), id(c))"
   ]
  },
  {
   "cell_type": "markdown",
   "metadata": {
    "nbgrader": {
     "grade": false,
     "grade_id": "cell-fcbf6885a8dc8da3",
     "locked": true,
     "schema_version": 3,
     "solution": false,
     "task": false
    },
    "tags": []
   },
   "source": [
    "Con los datos anteriores cálculamos el `numerador`:"
   ]
  },
  {
   "cell_type": "code",
   "execution_count": 2,
   "metadata": {
    "tags": []
   },
   "outputs": [
    {
     "name": "stdout",
     "output_type": "stream",
     "text": [
      "48.790216719661984 <class 'float'> 2931489793488\n"
     ]
    }
   ],
   "source": [
    "numerador = M**(2/3) * c * rho**(1/3)\n",
    "print(numerador, type(numerador), id(numerador))"
   ]
  },
  {
   "cell_type": "markdown",
   "metadata": {
    "nbgrader": {
     "grade": false,
     "grade_id": "cell-f12aa130bb567139",
     "locked": true,
     "schema_version": 3,
     "solution": false,
     "task": false
    },
    "tags": []
   },
   "source": [
    "<div class=\"alert alert-success\">\n",
    "<b>Revisa lo siguiente.</b>\n",
    "\n",
    "Antes de continuar con este ejemplo y para completar tus aprendizajes del uso de etiquetas, palabras reservadas, expresiones, declaraciones, tipos y operaciones entre ellos, revisa las siguientes notebooks: \n",
    "* [<a href=\"./T01_Etiquetas_y_Palabras_Reservadas.ipynb\">etiquetas y palabras reservadas</a>]\n",
    "* [<a href=\"./T02_Expr_Decla_Tipos_Oper.ipynb\">expresiones, declaraciones, tipos y operadores</a>].\n",
    "</div>"
   ]
  },
  {
   "cell_type": "markdown",
   "metadata": {
    "nbgrader": {
     "grade": false,
     "grade_id": "cell-1ab397439f4b251d",
     "locked": true,
     "schema_version": 3,
     "solution": false,
     "task": false
    },
    "tags": []
   },
   "source": [
    "También es posible usar el símbolo $\\rho$ como la etiqueta para la densidad:"
   ]
  },
  {
   "cell_type": "code",
   "execution_count": 3,
   "metadata": {
    "tags": []
   },
   "outputs": [],
   "source": [
    "𝜌 = 1.038"
   ]
  },
  {
   "cell_type": "code",
   "execution_count": 4,
   "metadata": {
    "tags": []
   },
   "outputs": [
    {
     "name": "stdout",
     "output_type": "stream",
     "text": [
      "48.790216719661984 <class 'float'> 2931489793712\n"
     ]
    }
   ],
   "source": [
    "numerador = M**(2/3) * c * 𝜌**(1/3)\n",
    "print(numerador, type(numerador), id(numerador))"
   ]
  },
  {
   "cell_type": "markdown",
   "metadata": {
    "nbgrader": {
     "grade": false,
     "grade_id": "cell-554bea5d4d93a3ba",
     "locked": true,
     "schema_version": 3,
     "solution": false,
     "task": false
    },
    "tags": []
   },
   "source": [
    "### Paso 2. Numerador e `import math`\n",
    "Implementar la segunda parte de la fórmula: $K \\pi^2 (4\\pi/3)^{2/3}$. \n",
    "\n",
    "Como puedes observar, en esta parte de la fórmula, se requiere del valor de $\\pi$. Esta es una constante que podemos obtener del módulo `math` de Python. Para ello debemos importar esta biblioteca y lo podemos hacer de las siguientes maneras:\n",
    "\n",
    "1. Importar toda la biblioteca `math` y entonces siempre debes anteponer el nombre de la biblioteca para usar sus componentes:\n",
    "```python\n",
    "import math\n",
    "print(math.pi)\n",
    "```\n",
    "2. Importar toda la biblioteca `math` y definir un nombre para usar sus componentes:\n",
    "```python\n",
    "import math as m\n",
    "print(m.pi)\n",
    "```\n",
    "\n",
    "3. Importar solo la componente de `math` que requieres usar:\n",
    "```python\n",
    "from math import pi\n",
    "print(pi)\n",
    "```\n",
    "\n",
    "4. Importar solo la componente de `math` que requieres usar y definir un nombre para esa componente:\n",
    "```python\n",
    "from math import pi as PI\n",
    "print(PI)\n",
    "```\n",
    "Incluso podrías usar:\n",
    "```python\n",
    "from math import pi as π\n",
    "print(π)\n",
    "```\n",
    "\n",
    "En este ejemplo usaremos esta última forma, pero cualquiera de las anteriores es válida. "
   ]
  },
  {
   "cell_type": "code",
   "execution_count": 5,
   "metadata": {
    "tags": []
   },
   "outputs": [
    {
     "name": "stdout",
     "output_type": "stream",
     "text": [
      "0.13849026450902358 <class 'float'> 2931489793872\n"
     ]
    }
   ],
   "source": [
    "from math import pi as π\n",
    "\n",
    "K = 5.4e-3\n",
    "denominador = K * π**2 * (4 * π / 3)**(2/3)\n",
    "print(denominador, type(denominador), id(denominador))"
   ]
  },
  {
   "cell_type": "markdown",
   "metadata": {
    "nbgrader": {
     "grade": false,
     "grade_id": "cell-5d2a76ca7cf34809",
     "locked": true,
     "schema_version": 3,
     "solution": false,
     "task": false
    },
    "tags": []
   },
   "source": [
    "### Paso 3. Tercera parte de la fórmula.\n",
    "\n",
    "Nos falta implementar $\\ln \\left[ 0.76 \\dfrac{T_o - T_w}{T_y - T_w}\\right]$. En este caso se requiere de la función logaritmo natural, la cual puede ser obtenida del módulo `math`. También requerimos definir los valores para $T_o$, $T_w$ y $T_y$.\n",
    "\n",
    "Para el caso cuando el huevo está a temperatura ambiente tenemos $T_o = 20^oC$. Entonces la implementación final sería como sigue:"
   ]
  },
  {
   "cell_type": "code",
   "execution_count": 6,
   "metadata": {
    "tags": []
   },
   "outputs": [
    {
     "name": "stdout",
     "output_type": "stream",
     "text": [
      "0.7063924073099658 <class 'float'> 2931489796496\n"
     ]
    }
   ],
   "source": [
    "from math import log as ln\n",
    "\n",
    "To = 20  # Temperatura ambiente\n",
    "Tw = 100\n",
    "Ty = 70\n",
    "\n",
    "factor = ln(0.76 * (To - Tw) / (Ty - Tw))\n",
    "print(factor, type(factor), id(factor))"
   ]
  },
  {
   "cell_type": "markdown",
   "metadata": {
    "nbgrader": {
     "grade": false,
     "grade_id": "cell-01e8dca9b2be1271",
     "locked": true,
     "schema_version": 3,
     "solution": false,
     "task": false
    },
    "tags": []
   },
   "source": [
    "### Paso 4. Fórmula completa.\n",
    "\n",
    "Ya que tenemos todos los ingredientes de la fórmula, podemos hacer el cálculo final:"
   ]
  },
  {
   "cell_type": "code",
   "execution_count": 7,
   "metadata": {
    "tags": []
   },
   "outputs": [
    {
     "name": "stdout",
     "output_type": "stream",
     "text": [
      "248.86253747844736 <class 'float'> 2931489793456\n"
     ]
    }
   ],
   "source": [
    "t = numerador / denominador * factor\n",
    "print(t, type(t), id(t))"
   ]
  },
  {
   "cell_type": "markdown",
   "metadata": {
    "nbgrader": {
     "grade": false,
     "grade_id": "cell-14cc0a647ea4707a",
     "locked": true,
     "schema_version": 3,
     "solution": false,
     "task": false
    },
    "tags": []
   },
   "source": [
    "El resultado nos da un número flotante que representa el tiempo de cocción del huevo en segundos, cuando su temperatura inicial es de $20^oC$. \n",
    "\n",
    "Podemos escribir toda la fórmula en una sola línea como sigue"
   ]
  },
  {
   "cell_type": "code",
   "execution_count": 8,
   "metadata": {
    "tags": []
   },
   "outputs": [
    {
     "data": {
      "text/plain": [
       "248.86253747844736"
      ]
     },
     "execution_count": 8,
     "metadata": {},
     "output_type": "execute_result"
    }
   ],
   "source": [
    "t = M**(2/3) * c * 𝜌**(1/3) / ( K * π**2 * (4 * π / 3)**(2/3) ) * ln(0.76 * (To - Tw) / (Ty - Tw))\n",
    "t"
   ]
  },
  {
   "cell_type": "markdown",
   "metadata": {
    "nbgrader": {
     "grade": false,
     "grade_id": "cell-97f3793a60816caa",
     "locked": true,
     "schema_version": 3,
     "solution": false,
     "task": false
    },
    "tags": []
   },
   "source": [
    "<div class=\"alert alert-success\">\n",
    "<b>Precedencia de operadores</b>.\n",
    "    \n",
    "Observa que en la implementación anterior se ha tomado en cuenta la precedencia de operadores para que el resultado sea correcto. Revisa estas reglas de precedencia en esta <a href=\"./T02_Expr_Decla_Tipos_Oper.ipynb\">notebook</a> y confirma que la implementación anterior es correcta.\n",
    "</div>"
   ]
  },
  {
   "cell_type": "markdown",
   "metadata": {
    "nbgrader": {
     "grade": false,
     "grade_id": "cell-f03f5b39d26dfe7d",
     "locked": true,
     "schema_version": 3,
     "solution": false,
     "task": false
    },
    "tags": []
   },
   "source": [
    "Ya con todos los ingredientes de la fórmula, podemos calcular el tiempo de cocción para un huevo a temperatura inicial de $T_o = 4^oC$."
   ]
  },
  {
   "cell_type": "code",
   "execution_count": 9,
   "metadata": {
    "tags": []
   },
   "outputs": [
    {
     "name": "stdout",
     "output_type": "stream",
     "text": [
      "313.09454902221637\n"
     ]
    }
   ],
   "source": [
    "To = 4 \n",
    "t = M**(2/3) * c * 𝜌**(1/3) / ( K * π**2 * (4 * π / 3)**(2/3) ) * ln(0.76 * (To - Tw) / (Ty - Tw))\n",
    "print(t)"
   ]
  },
  {
   "cell_type": "markdown",
   "metadata": {
    "nbgrader": {
     "grade": false,
     "grade_id": "cell-122abf405819f6cc",
     "locked": true,
     "schema_version": 3,
     "solution": false,
     "task": false
    },
    "tags": []
   },
   "source": [
    "Observa que el tiempo es mayor que en el caso anterior, lo cual se debe a que en este último caso el huevo está a una temperatura más baja."
   ]
  },
  {
   "cell_type": "markdown",
   "metadata": {
    "nbgrader": {
     "grade": false,
     "grade_id": "cell-a09171a4cac6bb51",
     "locked": true,
     "schema_version": 3,
     "solution": false,
     "task": false
    },
    "tags": []
   },
   "source": [
    "---\n",
    "## **<font color=\"DodgerBlue\">Ejercicio 2. </font>**\n",
    "\n",
    "<font color=\"DarkBlue\">\n",
    "Calcular el tiempo para las temperaturas $20^oC$ y $4^oC$ e imprimir el resultado en el siguiente formato usando cadenas:<br> <br>\n",
    "    \n",
    "    `El tiempo de cocción óptimo es: 313.1 [s] (5.2 [m])`\n",
    " \n",
    "<br>\n",
    "    \n",
    "En este formato estamos poniendo entre corchetes las unidades del tiempo: `[s]` son segundos y `[m]` son minutos. Entonces debes transformar los segundos en minutos también.\n",
    "</font>\n",
    "\n",
    "---"
   ]
  },
  {
   "cell_type": "markdown",
   "metadata": {
    "nbgrader": {
     "grade": false,
     "grade_id": "cell-7486d15ba337a7bb",
     "locked": true,
     "schema_version": 3,
     "solution": false,
     "task": false
    },
    "tags": []
   },
   "source": [
    "Primero volvemos a calcular los dos tiempos para $20^oC$ y $4^oC$:"
   ]
  },
  {
   "cell_type": "code",
   "execution_count": 10,
   "metadata": {
    "tags": []
   },
   "outputs": [],
   "source": [
    "To = 4\n",
    "logaritmo = ln(0.76 * (To - Tw) / (Ty - Tw))\n",
    "t1 = numerador /denominador * logaritmo\n",
    "\n",
    "To = 20\n",
    "logaritmo = ln(0.76 * (To - Tw) / (Ty - Tw))\n",
    "t2 = numerador /denominador * logaritmo"
   ]
  },
  {
   "cell_type": "markdown",
   "metadata": {
    "nbgrader": {
     "grade": false,
     "grade_id": "cell-b5ebf7b258b962ff",
     "locked": true,
     "schema_version": 3,
     "solution": false,
     "task": false
    },
    "tags": []
   },
   "source": [
    "### Solución 1:"
   ]
  },
  {
   "cell_type": "code",
   "execution_count": 11,
   "metadata": {
    "tags": []
   },
   "outputs": [
    {
     "name": "stdout",
     "output_type": "stream",
     "text": [
      "El tiempo de cocción óptimo es: 313.09454902221637  [s] ( 5.218242483703606  [m])\n",
      "El tiempo de cocción óptimo es: 248.86253747844736  [s] ( 4.147708957974123  [m])\n"
     ]
    }
   ],
   "source": [
    "print('El tiempo de cocción óptimo es:', t1,' [s] (', t1/60, ' [m])')\n",
    "print('El tiempo de cocción óptimo es:', t2,' [s] (', t2/60, ' [m])')"
   ]
  },
  {
   "cell_type": "markdown",
   "metadata": {
    "nbgrader": {
     "grade": false,
     "grade_id": "cell-966316cdc6272602",
     "locked": true,
     "schema_version": 3,
     "solution": false,
     "task": false
    },
    "tags": []
   },
   "source": [
    "Observa que en esta solución se imprimen muchos decimales en los tiempos, por lo que no es la solución óptima."
   ]
  },
  {
   "cell_type": "markdown",
   "metadata": {
    "nbgrader": {
     "grade": false,
     "grade_id": "cell-769f0d539b86a78b",
     "locked": true,
     "schema_version": 3,
     "solution": false,
     "task": false
    },
    "tags": []
   },
   "source": [
    "### Solución 2:"
   ]
  },
  {
   "cell_type": "code",
   "execution_count": 12,
   "metadata": {
    "tags": []
   },
   "outputs": [
    {
     "name": "stdout",
     "output_type": "stream",
     "text": [
      "El tiempo de cocción óptimo es: 313.09454902221637 [s] (5.218242483703606 [m])\n",
      "El tiempo de cocción óptimo es: 248.86253747844736 [s] (4.147708957974123 [m])\n"
     ]
    }
   ],
   "source": [
    "cadena1 = 'El tiempo de cocción óptimo es: '\n",
    "cadena2 = str(t1) + ' [s] (' + str(t1/60) + ' [m])'\n",
    "cadena3 = str(t2) + ' [s] (' + str(t2/60) + ' [m])'\n",
    "print(cadena1 + cadena2)\n",
    "print(cadena1 + cadena3)"
   ]
  },
  {
   "cell_type": "markdown",
   "metadata": {
    "nbgrader": {
     "grade": false,
     "grade_id": "cell-e7202639bdaf2b82",
     "locked": true,
     "schema_version": 3,
     "solution": false,
     "task": false
    },
    "tags": []
   },
   "source": [
    "Observa que en esta solución tenemos el mismo problema que en la Solución 1."
   ]
  },
  {
   "cell_type": "markdown",
   "metadata": {
    "nbgrader": {
     "grade": false,
     "grade_id": "cell-d5243efa221307ab",
     "locked": true,
     "schema_version": 3,
     "solution": false,
     "task": false
    },
    "tags": []
   },
   "source": [
    "### Solución 3:"
   ]
  },
  {
   "cell_type": "code",
   "execution_count": 13,
   "metadata": {
    "tags": []
   },
   "outputs": [
    {
     "name": "stdout",
     "output_type": "stream",
     "text": [
      "El tiempo de cocción óptimo es: 313.09454902221637 [s] ( 5.218242483703606 [m])\n",
      "El tiempo de cocción óptimo es: 248.86253747844736 [s] ( 4.147708957974123 [m])\n"
     ]
    }
   ],
   "source": [
    "cadena2 = '{} [s] ( {} [m])'.format(t1, t1/60)\n",
    "cadena3 = '{} [s] ( {} [m])'.format(t2, t2/60)\n",
    "print(cadena1 + cadena2)\n",
    "print(cadena1 + cadena3)"
   ]
  },
  {
   "cell_type": "markdown",
   "metadata": {
    "nbgrader": {
     "grade": false,
     "grade_id": "cell-36074713226a210d",
     "locked": true,
     "schema_version": 3,
     "solution": false,
     "task": false
    },
    "tags": []
   },
   "source": [
    "Esta solución sigue presentando el problema de las dos soluciones anteriores."
   ]
  },
  {
   "cell_type": "markdown",
   "metadata": {
    "nbgrader": {
     "grade": false,
     "grade_id": "cell-e72a0734328a15a1",
     "locked": true,
     "schema_version": 3,
     "solution": false,
     "task": false
    },
    "tags": []
   },
   "source": [
    "### Solución 4:"
   ]
  },
  {
   "cell_type": "code",
   "execution_count": 16,
   "metadata": {
    "tags": []
   },
   "outputs": [
    {
     "name": "stdout",
     "output_type": "stream",
     "text": [
      "El tiempo de cocción óptimo es: 313.1 [s] (5.2 [m])\n",
      "El tiempo de cocción óptimo es: 248.9 [s] (4.1 [m])\n"
     ]
    }
   ],
   "source": [
    "cadena2 = '{:.1f} [s] ({:.1f} [m])'.format(t1, t1/60)\n",
    "cadena3 = '{:.1f} [s] ({:.1f} [m])'.format(t2, t2/60)\n",
    "print(cadena1 + cadena2)\n",
    "print(cadena1 + cadena3)"
   ]
  },
  {
   "cell_type": "markdown",
   "metadata": {
    "nbgrader": {
     "grade": false,
     "grade_id": "cell-62d6cd1f9adf2b25",
     "locked": true,
     "schema_version": 3,
     "solution": false,
     "task": false
    },
    "tags": []
   },
   "source": [
    "Gracias al uso de `{:.1f}` esta solución imprime lo que se solicita correctamente."
   ]
  },
  {
   "cell_type": "markdown",
   "metadata": {
    "nbgrader": {
     "grade": false,
     "grade_id": "cell-5dbc40c0bb09a50d",
     "locked": true,
     "schema_version": 3,
     "solution": false,
     "task": false
    },
    "tags": []
   },
   "source": [
    "### Solución 5:"
   ]
  },
  {
   "cell_type": "code",
   "execution_count": 15,
   "metadata": {
    "tags": []
   },
   "outputs": [
    {
     "name": "stdout",
     "output_type": "stream",
     "text": [
      "El tiempo de cocción óptimo es: 313.1 [s] (5.2 [m])\n",
      "El tiempo de cocción óptimo es: 248.9 [s] (4.1 [m])\n"
     ]
    }
   ],
   "source": [
    "# Solución 5:\n",
    "print('El tiempo de cocción óptimo es: {:0.1f} [s] ({:0.1f} [m])'.format(t1, t1/60))\n",
    "print('El tiempo de cocción óptimo es: {:0.1f} [s] ({:0.1f} [m])'.format(t2, t2/60))"
   ]
  },
  {
   "cell_type": "markdown",
   "metadata": {
    "nbgrader": {
     "grade": false,
     "grade_id": "cell-1f482fd4f027dd0b",
     "locked": true,
     "schema_version": 3,
     "solution": false,
     "task": false
    },
    "tags": []
   },
   "source": [
    "Esta última solución genera el resultado correcto y es la más recomendada.\n",
    "\n",
    "<div class=\"alert alert-success\">\n",
    "<b>Salida estándar</b>.\n",
    "    \n",
    "Para conocer más acerca del formato de salida en Python, debes revisar la siguiente  <a href=\"./T05_Entrada_Salida_Archivos.ipynb\">notebook</a>.\n",
    "</div>"
   ]
  },
  {
   "cell_type": "markdown",
   "metadata": {
    "nbgrader": {
     "grade": false,
     "grade_id": "cell-e5b220d44975c46b",
     "locked": true,
     "schema_version": 3,
     "solution": false,
     "task": false
    },
    "tags": []
   },
   "source": [
    "---\n",
    "## **<font color=\"DodgerBlue\">Ejercicio 3. </font>**\n",
    "\n",
    "<font color=\"DarkBlue\">\n",
    "Hacer una lista de tiempos de cocción para temperaturas de huevos, desde la que se tiene en el refrigerador, $4^oC$, hasta temperatura ambiente, $20^oC$, en pasos de $1^oC$.\n",
    "    \n",
    "1. Imprimir dos columnas: temperatura inicial ($T_o$) y tiempo ($t$).\n",
    "2. Imprimir los tiempos en el formato: `min:seg` (por ejemplo 5:30).\n",
    "3. Imprimir un encabezado para identificar las columnas.\n",
    "\n",
    "</font>\n",
    "\n",
    "```\n",
    "Temperatura \t Tiempo\n",
    " 4 \t\t 5:13\n",
    " 5 \t\t 5:09\n",
    "...\t\t...\n",
    " 19 \t\t 4:13\n",
    " 20 \t\t 4:08\n",
    "```\n",
    "---"
   ]
  },
  {
   "cell_type": "markdown",
   "metadata": {
    "nbgrader": {
     "grade": false,
     "grade_id": "cell-c7db766ffc981c0a",
     "locked": true,
     "schema_version": 3,
     "solution": false,
     "task": false
    },
    "tags": []
   },
   "source": [
    "<div class=\"alert alert-success\">\n",
    "<b>Estructuras de datos y control de flujo</b>.\n",
    "    \n",
    "Para realizar este ejemplo, necesitas conocer las estructuras de datos que pueden usarse en Python, así como las herramientas para el control del flujo del programa. Entonces debes revisar primero las siguientes dos notebooks:\n",
    "    \n",
    "<ul>\n",
    "<li><a href=\"./T03_Estructura_de_Datos.ipynb\">Estructura de datos</a></li>\n",
    "<li><a href=\"./T04_Control_de_flujo.ipynb\">Control de flujo</a></li>\n",
    "</ul>\n",
    "\n",
    "</div>"
   ]
  },
  {
   "cell_type": "markdown",
   "metadata": {
    "nbgrader": {
     "grade": false,
     "grade_id": "cell-443634cf27e82de8",
     "locked": true,
     "schema_version": 3,
     "solution": false,
     "task": false
    },
    "tags": []
   },
   "source": [
    "### Solución.\n",
    "\n",
    "Recordemos la fórmula $$t = \\dfrac{M^{2/3} c \\rho^{1/3}}{K \\pi^2 (4\\pi/3)^{2/3}} \\ln \\left[ 0.76 \\dfrac{T_o - T_w}{T_y - T_w}\\right]$$\n",
    "\n",
    "`numerador` = $M^{2/3} c \\rho^{1/3}$\n",
    "\n",
    "`denominador` = $K \\pi^2 (4\\pi/3)^{2/3}$\n",
    "\n",
    "`factor` = $ln \\left[ 0.76 \\dfrac{T_o - T_w}{T_y - T_w}\\right]$\n",
    "\n",
    "Observamos que lo único que cambia es `factor` cuando cambia $T_o$.\n",
    "\n",
    "Construyamos primero un ciclo para recorrer los valores de $T_o$ desde $1$ hasta $20$."
   ]
  },
  {
   "cell_type": "code",
   "execution_count": 17,
   "metadata": {
    "tags": []
   },
   "outputs": [
    {
     "name": "stdout",
     "output_type": "stream",
     "text": [
      "4\n",
      "5\n",
      "6\n",
      "7\n",
      "8\n",
      "9\n",
      "10\n",
      "11\n",
      "12\n",
      "13\n",
      "14\n",
      "15\n",
      "16\n",
      "17\n",
      "18\n",
      "19\n",
      "20\n"
     ]
    }
   ],
   "source": [
    "for To in range(4,21): # El ciclo va de 4 a 20\n",
    "    print(To)"
   ]
  },
  {
   "cell_type": "markdown",
   "metadata": {
    "nbgrader": {
     "grade": false,
     "grade_id": "cell-fddbb9767acc8780",
     "locked": true,
     "schema_version": 3,
     "solution": false,
     "task": false
    },
    "tags": []
   },
   "source": [
    "Ahora, dentro del ciclo vamos a implementar la fórmula para calcular el tiempo y se imprime el tiempo y la temperatura inicial $T_o$:"
   ]
  },
  {
   "cell_type": "code",
   "execution_count": 18,
   "metadata": {
    "tags": []
   },
   "outputs": [
    {
     "name": "stdout",
     "output_type": "stream",
     "text": [
      "4 313.09454902221637\n",
      "5 309.4055027800624\n",
      "6 305.67741828677\n",
      "7 301.9094604759048\n",
      "8 298.100767196758\n",
      "9 294.2504480302776\n",
      "10 290.3575830395756\n",
      "11 286.42122145062837\n",
      "12 282.44038025843554\n",
      "13 278.4140427535251\n",
      "14 274.34115696328047\n",
      "15 270.22063400211084\n",
      "16 266.05134632399177\n",
      "17 261.83212587036\n",
      "18 257.5617621057524\n",
      "19 253.23899993292162\n",
      "20 248.86253747844736\n"
     ]
    }
   ],
   "source": [
    "for To in range(4, 21):\n",
    "    factor = ln(0.76 * (To - Tw) / (Ty - Tw))\n",
    "    t = numerador / denominador * factor\n",
    "    print(To, t)"
   ]
  },
  {
   "cell_type": "markdown",
   "metadata": {
    "nbgrader": {
     "grade": false,
     "grade_id": "cell-27bd700db6fbd9c1",
     "locked": true,
     "schema_version": 3,
     "solution": false,
     "task": false
    },
    "tags": []
   },
   "source": [
    "Necesitamos convertir el tiempo en el formato `min:seg` :"
   ]
  },
  {
   "cell_type": "code",
   "execution_count": 20,
   "metadata": {
    "tags": []
   },
   "outputs": [
    {
     "name": "stdout",
     "output_type": "stream",
     "text": [
      "Temperatura \t Tiempo\n",
      " 4 \t\t 5:13\n",
      " 5 \t\t 5:09\n",
      " 6 \t\t 5:05\n",
      " 7 \t\t 5:01\n",
      " 8 \t\t 4:58\n",
      " 9 \t\t 4:54\n",
      " 10 \t\t 4:50\n",
      " 11 \t\t 4:46\n",
      " 12 \t\t 4:42\n",
      " 13 \t\t 4:38\n",
      " 14 \t\t 4:34\n",
      " 15 \t\t 4:30\n",
      " 16 \t\t 4:26\n",
      " 17 \t\t 4:21\n",
      " 18 \t\t 4:17\n",
      " 19 \t\t 4:13\n",
      " 20 \t\t 4:08\n"
     ]
    }
   ],
   "source": [
    "print('Temperatura \\t Tiempo') # Se imprime el encabezado antes del ciclo\n",
    "\n",
    "for To in range(4, 21):\n",
    "    factor = ln(0.76 * (To - Tw) / (Ty - Tw))\n",
    "    t = numerador / denominador * factor\n",
    "    \n",
    "    # Conversión del tiempo al formato requerido\n",
    "    t_min = int(t / 60)\n",
    "    t_seg = int(t - t_min * 60) \n",
    "    \n",
    "    # Impresión del resultado\n",
    "    print(' {} \\t\\t {}:{:02d}'.format(To, t_min, t_seg))"
   ]
  },
  {
   "cell_type": "markdown",
   "metadata": {
    "nbgrader": {
     "grade": false,
     "grade_id": "cell-92a03c962fe0c336",
     "locked": true,
     "schema_version": 3,
     "solution": false,
     "task": false
    },
    "tags": []
   },
   "source": [
    "Observa que en el formato de impresión de los resultados se usa `{:02d}` lo cual indica que se imprimen 2 dígitos enteros, y cuando solo se tiene un dígito se completa con un cero a la izquierda."
   ]
  },
  {
   "cell_type": "markdown",
   "metadata": {
    "nbgrader": {
     "grade": false,
     "grade_id": "cell-37240fc806664886",
     "locked": true,
     "schema_version": 3,
     "solution": false,
     "task": false
    },
    "tags": []
   },
   "source": [
    "---\n",
    "## **<font color=\"DodgerBlue\">Ejercicio 4. </font>**\n",
    "\n",
    "<font color=\"DarkBlue\">\n",
    "Realizar lo mismo que en el Ejercicio 3 pero usando dos listas: una para las temperaturas y otra para los tiempos.\n",
    "</font>\n",
    "\n",
    "---"
   ]
  },
  {
   "cell_type": "code",
   "execution_count": 21,
   "metadata": {
    "tags": []
   },
   "outputs": [
    {
     "name": "stdout",
     "output_type": "stream",
     "text": [
      "Temperatura \t Tiempo\n",
      " 4 \t\t 5:13\n",
      " 5 \t\t 5:09\n",
      " 6 \t\t 5:05\n",
      " 7 \t\t 5:01\n",
      " 8 \t\t 4:58\n",
      " 9 \t\t 4:54\n",
      " 10 \t\t 4:50\n",
      " 11 \t\t 4:46\n",
      " 12 \t\t 4:42\n",
      " 13 \t\t 4:38\n",
      " 14 \t\t 4:34\n",
      " 15 \t\t 4:30\n",
      " 16 \t\t 4:26\n",
      " 17 \t\t 4:21\n",
      " 18 \t\t 4:17\n",
      " 19 \t\t 4:13\n",
      " 20 \t\t 4:08\n"
     ]
    }
   ],
   "source": [
    "print('Temperatura \\t Tiempo') # Se imprime el encabezado antes del ciclo\n",
    "\n",
    "# Se definen dos lista vacías\n",
    "Ts = [] # Lista de temperaturas\n",
    "ts = [] # Lista de tiempos\n",
    "\n",
    "for To in range(4,21):\n",
    "    Ts.append(To) # Se agrega la temperatura a la lista\n",
    "    \n",
    "    # Se calcula el tiempo de cocción\n",
    "    factor = ln(0.76 * (To - Tw) / (Ty - Tw))\n",
    "    t = numerador / denominador * factor\n",
    "    \n",
    "    # Se convierte el tiempo al formato min:seg\n",
    "    t_min = int(t / 60)\n",
    "    t_seg = int(t - t_min * 60) \n",
    "    \n",
    "    # Se agrega el tiempo a la lista\n",
    "    ts.append('{}:{:02d}'.format(t_min, t_seg)) \n",
    "\n",
    "# Se imprime el resultado final\n",
    "for T, t in zip(Ts, ts):\n",
    "    print(' {} \\t\\t {}'.format(T, t))"
   ]
  },
  {
   "cell_type": "markdown",
   "metadata": {
    "nbgrader": {
     "grade": false,
     "grade_id": "cell-5d197ce7e4133f72",
     "locked": true,
     "schema_version": 3,
     "solution": false,
     "task": false
    },
    "tags": []
   },
   "source": [
    "---\n",
    "## **<font color=\"DodgerBlue\">Ejercicio 5. </font>**\n",
    "\n",
    "<font color=\"DarkBlue\">\n",
    "Realizar lo mismo que en el Ejercicio 3 pero con un diccionario.\n",
    "</font>\n",
    "\n",
    "---"
   ]
  },
  {
   "cell_type": "code",
   "execution_count": 22,
   "metadata": {
    "tags": []
   },
   "outputs": [
    {
     "name": "stdout",
     "output_type": "stream",
     "text": [
      "Temperatura \t Tiempo\n",
      " 4 \t\t 5:13\n",
      " 5 \t\t 5:09\n",
      " 6 \t\t 5:05\n",
      " 7 \t\t 5:01\n",
      " 8 \t\t 4:58\n",
      " 9 \t\t 4:54\n",
      " 10 \t\t 4:50\n",
      " 11 \t\t 4:46\n",
      " 12 \t\t 4:42\n",
      " 13 \t\t 4:38\n",
      " 14 \t\t 4:34\n",
      " 15 \t\t 4:30\n",
      " 16 \t\t 4:26\n",
      " 17 \t\t 4:21\n",
      " 18 \t\t 4:17\n",
      " 19 \t\t 4:13\n",
      " 20 \t\t 4:08\n"
     ]
    }
   ],
   "source": [
    "print('Temperatura \\t Tiempo') # Se imprime el encabezado antes del ciclo\n",
    "\n",
    "# Se construye un diccionario vacío\n",
    "tiempos_huevo = {}\n",
    "\n",
    "for To in range(4,21):\n",
    "    \n",
    "    # Se calcula el tiempo de cocción\n",
    "    factor = ln(0.76 * (To - Tw) / (Ty - Tw))\n",
    "    t = numerador / denominador * factor\n",
    "    \n",
    "    # Se convierte el tiempo al formato min:seg\n",
    "    t_min = int(t / 60)\n",
    "    t_seg = int(t - t_min * 60) \n",
    "    \n",
    "    # Se agrega la temperatura como Key y \n",
    "    # el tiempo como value al diccionario:\n",
    "    tiempos_huevo[To] = '{}:{:02d}'.format(t_min, t_seg)\n",
    "\n",
    "# Se imprime el resultado final\n",
    "for key in tiempos_huevo:\n",
    "    print(' {} \\t\\t {}'.format(key, tiempos_huevo[key]))"
   ]
  },
  {
   "cell_type": "markdown",
   "metadata": {
    "nbgrader": {
     "grade": false,
     "grade_id": "cell-07b4903b5117d85c",
     "locked": true,
     "schema_version": 3,
     "solution": false,
     "task": false
    },
    "tags": []
   },
   "source": [
    "Un diccionario se puede recorrer de varias maneras. Observa los siguiente ejemplos:"
   ]
  },
  {
   "cell_type": "code",
   "execution_count": 23,
   "metadata": {
    "tags": []
   },
   "outputs": [
    {
     "name": "stdout",
     "output_type": "stream",
     "text": [
      "(4, '5:13')\n",
      "(5, '5:09')\n",
      "(6, '5:05')\n",
      "(7, '5:01')\n",
      "(8, '4:58')\n",
      "(9, '4:54')\n",
      "(10, '4:50')\n",
      "(11, '4:46')\n",
      "(12, '4:42')\n",
      "(13, '4:38')\n",
      "(14, '4:34')\n",
      "(15, '4:30')\n",
      "(16, '4:26')\n",
      "(17, '4:21')\n",
      "(18, '4:17')\n",
      "(19, '4:13')\n",
      "(20, '4:08')\n"
     ]
    }
   ],
   "source": [
    "# Recorrido usando los items, cada item es una tupla\n",
    "# que contiene el Key y el Value.\n",
    "for item in tiempos_huevo.items():\n",
    "    print(item)"
   ]
  },
  {
   "cell_type": "code",
   "execution_count": 24,
   "metadata": {
    "tags": []
   },
   "outputs": [
    {
     "name": "stdout",
     "output_type": "stream",
     "text": [
      "4 5:13\n",
      "5 5:09\n",
      "6 5:05\n",
      "7 5:01\n",
      "8 4:58\n",
      "9 4:54\n",
      "10 4:50\n",
      "11 4:46\n",
      "12 4:42\n",
      "13 4:38\n",
      "14 4:34\n",
      "15 4:30\n",
      "16 4:26\n",
      "17 4:21\n",
      "18 4:17\n",
      "19 4:13\n",
      "20 4:08\n"
     ]
    }
   ],
   "source": [
    "# Recorrido usando los items y extrayendo el Key  \n",
    "# y el Value en las etiquetas k e i\n",
    "for k, i in tiempos_huevo.items():\n",
    "    print(k, i)"
   ]
  },
  {
   "cell_type": "code",
   "execution_count": 25,
   "metadata": {
    "tags": []
   },
   "outputs": [
    {
     "name": "stdout",
     "output_type": "stream",
     "text": [
      "4\n",
      "5\n",
      "6\n",
      "7\n",
      "8\n",
      "9\n",
      "10\n",
      "11\n",
      "12\n",
      "13\n",
      "14\n",
      "15\n",
      "16\n",
      "17\n",
      "18\n",
      "19\n",
      "20\n"
     ]
    }
   ],
   "source": [
    "# Recorrido usando las Keys:\n",
    "for key in tiempos_huevo.keys():\n",
    "    print(key)"
   ]
  },
  {
   "cell_type": "code",
   "execution_count": 26,
   "metadata": {
    "tags": []
   },
   "outputs": [
    {
     "name": "stdout",
     "output_type": "stream",
     "text": [
      "5:13\n",
      "5:09\n",
      "5:05\n",
      "5:01\n",
      "4:58\n",
      "4:54\n",
      "4:50\n",
      "4:46\n",
      "4:42\n",
      "4:38\n",
      "4:34\n",
      "4:30\n",
      "4:26\n",
      "4:21\n",
      "4:17\n",
      "4:13\n",
      "4:08\n"
     ]
    }
   ],
   "source": [
    "# Recorrido unsando los Values:\n",
    "for val in tiempos_huevo.values():\n",
    "    print(val)"
   ]
  },
  {
   "cell_type": "markdown",
   "metadata": {
    "nbgrader": {
     "grade": false,
     "grade_id": "cell-ec02543441f451f0",
     "locked": true,
     "schema_version": 3,
     "solution": false,
     "task": false
    },
    "tags": []
   },
   "source": [
    "---\n",
    "## **<font color=\"DodgerBlue\">Ejercicio 6. </font>**\n",
    "\n",
    "<font color=\"DarkBlue\">\n",
    "Utilice la versión que más le agrade para escribir las temperaturas y los tiempos de cocción de un huevo duro, y modifíquela para que haga lo siguiente:\n",
    "    \n",
    "1. Al principio de la ejecución solicite al usuario:\n",
    "    - el nombre de un archivo donde va a guardar la tabla de resultados\n",
    "    - el peso del huevo\n",
    "2. Imprima la tabla de resultados en pantalla.\n",
    "3. Guarde la tabla en el archivo.\n",
    "4. Muestre un mensaje al usuario diciendo el nombre del archivo donde se guardó el resultado.\n",
    "    \n",
    "</font>\n",
    "\n",
    "---"
   ]
  },
  {
   "cell_type": "markdown",
   "metadata": {
    "nbgrader": {
     "grade": false,
     "grade_id": "cell-b4d9ce606846a524",
     "locked": true,
     "schema_version": 3,
     "solution": false,
     "task": false
    },
    "tags": []
   },
   "source": [
    "<div class=\"alert alert-success\">\n",
    "<b>Entrada/salida y gestión de archivos</b>.\n",
    "    \n",
    "Para realizar este ejemplo, necesitas saber como manejar la entrada y la salida estándar, así como el manejo de archivos. Para ello debes revisar la siguiente notebook:\n",
    "\n",
    "<ul>\n",
    "<li ><a href=\"./T05_Entrada_Salida_Archivos.ipynb\">Entrada, Salida y Archivos</a>.</li>\n",
    "</ul>\n",
    "    \n",
    "</div>"
   ]
  },
  {
   "cell_type": "markdown",
   "metadata": {
    "nbgrader": {
     "grade": false,
     "grade_id": "cell-4015788f56516a60",
     "locked": true,
     "schema_version": 3,
     "solution": false,
     "task": false
    },
    "tags": []
   },
   "source": [
    "### Solución 1: `dict`"
   ]
  },
  {
   "cell_type": "code",
   "execution_count": 27,
   "metadata": {
    "tags": []
   },
   "outputs": [
    {
     "name": "stdin",
     "output_type": "stream",
     "text": [
      "Nombre del archivo:  borrame\n",
      "Peso del huevo =  47\n"
     ]
    },
    {
     "name": "stdout",
     "output_type": "stream",
     "text": [
      "Temperatura \t Tiempo\n",
      " 4 \t\t 5:13\n",
      " 5 \t\t 5:09\n",
      " 6 \t\t 5:05\n",
      " 7 \t\t 5:01\n",
      " 8 \t\t 4:58\n",
      " 9 \t\t 4:54\n",
      " 10 \t\t 4:50\n",
      " 11 \t\t 4:46\n",
      " 12 \t\t 4:42\n",
      " 13 \t\t 4:38\n",
      " 14 \t\t 4:34\n",
      " 15 \t\t 4:30\n",
      " 16 \t\t 4:26\n",
      " 17 \t\t 4:21\n",
      " 18 \t\t 4:17\n",
      " 19 \t\t 4:13\n",
      " 20 \t\t 4:08\n",
      "La tabla de tiempos de cocción se guardó en el archivo: \"borrame\"\n"
     ]
    }
   ],
   "source": [
    "# Se solicita el nombre del archivo\n",
    "nombre_archivo = input('Nombre del archivo: ')\n",
    "\n",
    "# Se solicita el peso del huevo.\n",
    "M = float(input('Peso del huevo = '))\n",
    "\n",
    "# Imprimimos el encabezado\n",
    "print('Temperatura \\t Tiempo')\n",
    "\n",
    "# Recalculamos el numerador con el valor de M\n",
    "numerador = M**(2/3) * c * 𝜌**(1/3)\n",
    "\n",
    "# Diccionario vacío\n",
    "tiempos_huevo = {} \n",
    "\n",
    "for To in range(4,21):\n",
    "    \n",
    "    # Se calcula el tiempo de cocción\n",
    "    factor = ln(0.76 * (To - Tw) / (Ty - Tw))\n",
    "    t = numerador / denominador * factor\n",
    "    \n",
    "    # Se convierte el tiempo al formato min:seg\n",
    "    t_min = int(t / 60)\n",
    "    t_seg = int(t - t_min * 60) \n",
    "    \n",
    "    # Se guarda la información en el diccionario\n",
    "    tiempos_huevo[To] = '{}:{:02d}'.format(t_min, t_seg)\n",
    "\n",
    "# Usando un gestor de contexto abrimos el archivo.\n",
    "with open(nombre_archivo, 'w') as archivo_abierto:\n",
    "    \n",
    "    # Escribimos el encabezado en el archivo\n",
    "    archivo_abierto.write('Temperatura \\t Tiempo\\n')\n",
    "    \n",
    "    # Escribimos los tiempos y temperaturas en el archivo\n",
    "    for key in tiempos_huevo:\n",
    "        print(' {} \\t\\t {}'.format(key, tiempos_huevo[key]))\n",
    "        archivo_abierto.write(' {} \\t\\t {}\\n'.format(key, tiempos_huevo[key]))\n",
    "\n",
    "print('La tabla de tiempos de cocción se guardó en el archivo: \"{}\"'.format(nombre_archivo))"
   ]
  },
  {
   "cell_type": "markdown",
   "metadata": {
    "nbgrader": {
     "grade": false,
     "grade_id": "cell-88db7e8ecf049ded",
     "locked": true,
     "schema_version": 3,
     "solution": false,
     "task": false
    },
    "tags": []
   },
   "source": [
    "Verifica que el archivo se guardó correctamente y verificar su contenido."
   ]
  },
  {
   "cell_type": "markdown",
   "metadata": {
    "nbgrader": {
     "grade": false,
     "grade_id": "cell-64b2ff7a3aa03ddf",
     "locked": true,
     "schema_version": 3,
     "solution": false,
     "task": false
    },
    "tags": []
   },
   "source": [
    "### Solución 2: `list`"
   ]
  },
  {
   "cell_type": "code",
   "execution_count": 28,
   "metadata": {
    "tags": []
   },
   "outputs": [
    {
     "name": "stdin",
     "output_type": "stream",
     "text": [
      "Nombre del archivo:  borrame\n",
      "Peso del huevo =  47\n"
     ]
    },
    {
     "name": "stdout",
     "output_type": "stream",
     "text": [
      "Temperatura \t Tiempo\n",
      " 4 \t\t 5:13\n",
      " 5 \t\t 5:09\n",
      " 6 \t\t 5:05\n",
      " 7 \t\t 5:01\n",
      " 8 \t\t 4:58\n",
      " 9 \t\t 4:54\n",
      " 10 \t\t 4:50\n",
      " 11 \t\t 4:46\n",
      " 12 \t\t 4:42\n",
      " 13 \t\t 4:38\n",
      " 14 \t\t 4:34\n",
      " 15 \t\t 4:30\n",
      " 16 \t\t 4:26\n",
      " 17 \t\t 4:21\n",
      " 18 \t\t 4:17\n",
      " 19 \t\t 4:13\n",
      " 20 \t\t 4:08\n",
      "La tabla de tiempos de cocción se guardó en el archivo: \"borrame\"\n"
     ]
    }
   ],
   "source": [
    "# Se solicita el nombre del archivo\n",
    "nombre_archivo = input('Nombre del archivo: ')\n",
    "\n",
    "# Se solicita el peso del huevo.\n",
    "M = float(input('Peso del huevo = '))\n",
    "\n",
    "# Imprimimos el encabezado\n",
    "print('Temperatura \\t Tiempo')\n",
    "\n",
    "# Recalculamos el numerador con el valor de M\n",
    "numerador = M**(2/3) * c * 𝜌**(1/3)\n",
    "\n",
    "# Creamos dos listas vacías\n",
    "Ts = []\n",
    "ts = []\n",
    "\n",
    "for To in range(4,21):\n",
    "    Ts.append(To)\n",
    "    \n",
    "    # Se calcula el tiempo de cocción \n",
    "    factor = ln(0.76 * (To - Tw) / (Ty - Tw))\n",
    "    t = numerador / denominador * factor\n",
    "\n",
    "    # Se convierte el tiempo al formato min:seg\n",
    "    t_min = int(t / 60)\n",
    "    t_seg = int(t - t_min * 60) \n",
    "\n",
    "    # Se agrega el tiempo a la lista\n",
    "    t1 = '{}:{:02d}'.format(t_min, t_seg)\n",
    "    ts.append(t1)\n",
    "\n",
    "# Usando un gestor de contexto abrimos el archivo.\n",
    "with open(nombre_archivo, 'w') as archivo_abierto:\n",
    "    # Escribimos el encabezado en el archivo\n",
    "    archivo_abierto.write('Temperatura \\t Tiempo\\n')\n",
    "    \n",
    "    # Escribimos los tiempos y temperaturas en el archivo    \n",
    "    for i in range(len(Ts)):\n",
    "        print(' {} \\t\\t {}'.format(Ts[i], ts[i]))\n",
    "        archivo_abierto.write(' {} \\t\\t {}\\n'.format(Ts[i], ts[i]))\n",
    "\n",
    "print('La tabla de tiempos de cocción se guardó en el archivo: \"{}\"'.format(nombre_archivo))"
   ]
  },
  {
   "cell_type": "markdown",
   "metadata": {
    "nbgrader": {
     "grade": false,
     "grade_id": "cell-4887634832fdbb87",
     "locked": true,
     "schema_version": 3,
     "solution": false,
     "task": false
    },
    "tags": []
   },
   "source": [
    "Verifica que el archivo se guardó correctamente y verificar su contenido."
   ]
  },
  {
   "cell_type": "markdown",
   "metadata": {
    "nbgrader": {
     "grade": false,
     "grade_id": "cell-9dc4b6e167421f25",
     "locked": true,
     "schema_version": 3,
     "solution": false,
     "task": false
    },
    "tags": []
   },
   "source": [
    "---\n",
    "## **<font color=\"DodgerBlue\">Ejercicio 7. </font>**\n",
    "\n",
    "<font color=\"DarkBlue\">\n",
    "Modificar el código del ejercicio 4 para que el nombre del archivo contenga el peso del huevo. Por ejemplo, si el usuario teclea <b>tiempo_coccion</b> en el nombre del archivo y <b>67</b> en el peso del huevo, el resultado final se almacenará en un archivo de nombre <b>tiempo_coccion_67</b>.\n",
    "</font>\n",
    "\n",
    "---"
   ]
  },
  {
   "cell_type": "code",
   "execution_count": 29,
   "metadata": {
    "tags": []
   },
   "outputs": [
    {
     "name": "stdin",
     "output_type": "stream",
     "text": [
      "Nombre del archivo:  borrame\n",
      "Peso del huevo =  47\n"
     ]
    },
    {
     "name": "stdout",
     "output_type": "stream",
     "text": [
      "Temperatura \t Tiempo\n",
      " 4 \t\t 5:13\n",
      " 5 \t\t 5:09\n",
      " 6 \t\t 5:05\n",
      " 7 \t\t 5:01\n",
      " 8 \t\t 4:58\n",
      " 9 \t\t 4:54\n",
      " 10 \t\t 4:50\n",
      " 11 \t\t 4:46\n",
      " 12 \t\t 4:42\n",
      " 13 \t\t 4:38\n",
      " 14 \t\t 4:34\n",
      " 15 \t\t 4:30\n",
      " 16 \t\t 4:26\n",
      " 17 \t\t 4:21\n",
      " 18 \t\t 4:17\n",
      " 19 \t\t 4:13\n",
      " 20 \t\t 4:08\n",
      "La tabla de tiempos de cocción se guardó en el archivo: \"borrame_47\"\n"
     ]
    }
   ],
   "source": [
    "# Se solicita el nombre del archivo\n",
    "nombre_archivo = input('Nombre del archivo: ')\n",
    "\n",
    "# Se solicita el peso del huevo.\n",
    "M = float(input('Peso del huevo = '))\n",
    "\n",
    "# Imprimimos el encabezado\n",
    "print('Temperatura \\t Tiempo')\n",
    "\n",
    "# Recalculamos el numerador con el valor de M\n",
    "numerador = M**(2/3) * c * 𝜌**(1/3)\n",
    "\n",
    "# Construcción del nombre del archivo\n",
    "etiqueta = str(int(M))\n",
    "nombre_archivo += '_' + etiqueta\n",
    "\n",
    "# Construimos un diccionario vacío\n",
    "tiempos_huevo = {} \n",
    "\n",
    "for To in range(4,21):\n",
    "    \n",
    "    # Se calcula el tiempo de cocción \n",
    "    factor = ln(0.76 * (To - Tw) / (Ty - Tw))\n",
    "    t = numerador / denominador * factor\n",
    "    \n",
    "    # Se convierte el tiempo al formato min:seg\n",
    "    t_min = int(t / 60)\n",
    "    t_seg = int(t - t_min * 60) \n",
    "    \n",
    "    # Se guarda la información en el diccionario\n",
    "    tiempos_huevo[To] = '{}:{:02d}'.format(t_min, t_seg)\n",
    "\n",
    "# Usando un gestor de contexto abrimos el archivo.\n",
    "with open(nombre_archivo, 'w') as archivo_abierto:\n",
    "    \n",
    "    # Escribimos el encabezado en el archivo    \n",
    "    archivo_abierto.write('Temperatura \\t Tiempo\\n')\n",
    "\n",
    "    # Escribimos los tiempos y temperaturas en el archivo    \n",
    "    for key in tiempos_huevo:\n",
    "        print(' {} \\t\\t {}'.format(key, tiempos_huevo[key]))\n",
    "        archivo_abierto.write(' {} \\t\\t {}\\n'.format(key, tiempos_huevo[key]))\n",
    "    \n",
    "print('La tabla de tiempos de cocción se guardó en el archivo: \"{}\"'.format(nombre_archivo))"
   ]
  },
  {
   "cell_type": "markdown",
   "metadata": {
    "nbgrader": {
     "grade": false,
     "grade_id": "cell-28244d533e65015d",
     "locked": true,
     "schema_version": 3,
     "solution": false,
     "task": false
    },
    "tags": []
   },
   "source": [
    "---\n",
    "## **<font color=\"DodgerBlue\">Ejercicio 8. </font>**\n",
    "\n",
    "<font color=\"DarkBlue\">\n",
    "Determina el intervalo de temperaturas, en que debería estar la temperatura del huevo inicialmente para que el tiempo de cocción sea exactamente de 6 minutos para un huevo de 67 gramos.\n",
    "</font>\n",
    "\n",
    "---"
   ]
  },
  {
   "cell_type": "code",
   "execution_count": 30,
   "metadata": {
    "tags": []
   },
   "outputs": [
    {
     "name": "stdout",
     "output_type": "stream",
     "text": [
      "6:50 \t 1\n",
      "6:48 \t 1.5\n",
      "6:45 \t 2.0\n",
      "6:43 \t 2.5\n",
      "6:41 \t 3.0\n",
      "6:38 \t 3.5\n",
      "6:36 \t 4.0\n",
      "6:34 \t 4.5\n",
      "6:31 \t 5.0\n",
      "6:29 \t 5.5\n",
      "6:27 \t 6.0\n",
      "6:24 \t 6.5\n",
      "6:22 \t 7.0\n",
      "6:20 \t 7.5\n",
      "6:17 \t 8.0\n",
      "6:15 \t 8.5\n",
      "6:12 \t 9.0\n",
      "6:10 \t 9.5\n",
      "6:07 \t 10.0\n",
      "6:05 \t 10.5\n",
      "6:02 \t 11.0\n",
      "6:00 \t 11.5\n",
      "La temperatura inicial 11.5 [C] requiere de 6:00\n"
     ]
    }
   ],
   "source": [
    "# Peso del huevo\n",
    "M = 67\n",
    "\n",
    "# Recalculamos el numerador con el valor de M\n",
    "numerador = M**(2/3) * c * 𝜌**(1/3)\n",
    "\n",
    "To = 1\n",
    "\n",
    "count = 0\n",
    "while True:\n",
    "    \n",
    "    # Se calcula el tiempo de cocción \n",
    "    factor = ln(0.76 * (To - Tw) / (Ty - Tw))\n",
    "    t = numerador / denominador * factor\n",
    "\n",
    "    # Se convierte el tiempo al formato min:seg\n",
    "    t_min = int(t / 60)\n",
    "    t_seg = int(t - t_min * 60) \n",
    "    \n",
    "    print('{}:{:02d} \\t {}'.format(t_min, t_seg, To))\n",
    "    \n",
    "    if t_min > 6:\n",
    "        To += 0.5\n",
    "    elif t_min < 6:\n",
    "        To -= 0.5\n",
    "    else:\n",
    "        if t_seg > 0:\n",
    "            To += 0.5\n",
    "        else:\n",
    "            print('La temperatura inicial {} [C] requiere de {}:{:02d}'.format(To, t_min, t_seg))\n",
    "            break\n",
    "            \n",
    "    count += 1 \n",
    "    if count > 100:\n",
    "        break"
   ]
  },
  {
   "cell_type": "markdown",
   "metadata": {
    "nbgrader": {
     "grade": false,
     "grade_id": "cell-d1aa4a533351f7c0",
     "locked": true,
     "schema_version": 3,
     "solution": false,
     "task": false
    },
    "tags": []
   },
   "source": [
    "---\n",
    "## **<font color=\"DodgerBlue\">Ejercicio 9. </font>**\n",
    "\n",
    "<font color=\"DarkBlue\">\n",
    "Construye la función <b>calc_tiempo()</b> para calcular el tiempo de cocción. Esta función debe recibir todos los parámetros necesarios para evaluar la fórmula con valores por omisión, excepto para $M$ y $T_o$. La función debe regresar el tiempo calculado en una cadena en formato <b>min:seg</b>.\n",
    "</font>\n",
    "\n",
    "---"
   ]
  },
  {
   "cell_type": "markdown",
   "metadata": {
    "nbgrader": {
     "grade": false,
     "grade_id": "cell-109b7caac41b4081",
     "locked": true,
     "schema_version": 3,
     "solution": false,
     "task": false
    },
    "tags": []
   },
   "source": [
    "<div class=\"alert alert-success\">\n",
    "<b>Funciones y manejo de excepciones</b>.\n",
    "    \n",
    "Para realizar los ejemplos 9 y 10, necesitas saber como construir y usar funciones, documentar dichas funciones y manejar excepciones. Para ello debes revisar las siguientes notebooks:\n",
    "\n",
    "<ul>\n",
    "<li><a href=\"./T06_Funciones_y_Documentacion.ipynb\">Funciones y documentación</a>.</li>\n",
    "<li><a href=\"./T07_Excepciones.ipynb\">Manejo de excepciones</a>.</li>\n",
    "</ul>\n",
    "    \n",
    "</div>"
   ]
  },
  {
   "cell_type": "code",
   "execution_count": 32,
   "metadata": {
    "tags": []
   },
   "outputs": [],
   "source": [
    "from math import pi as π\n",
    "from math import log as ln\n",
    "\n",
    "def calc_tiempo(M, To, c = 3.7, 𝜌 = 1.038, K = 5.4e-3, Tw = 100, Ty = 70):\n",
    "\n",
    "    # Se calcula el tiempo de cocción \n",
    "    t = M**(2/3) * c * 𝜌**(1/3) / ( K * π**2 * (4 * π / 3)**(2/3) ) * ln(0.76 * (To - Tw) / (Ty - Tw))\n",
    "\n",
    "    # Se convierte el tiempo al formato min:seg\n",
    "    t_min = int(t / 60)\n",
    "    t_seg = int(t - t_min * 60)\n",
    "    \n",
    "    return '{}:{:02d}'.format(t_min, t_seg)"
   ]
  },
  {
   "cell_type": "code",
   "execution_count": 33,
   "metadata": {
    "tags": []
   },
   "outputs": [
    {
     "data": {
      "text/plain": [
       "'5:13'"
      ]
     },
     "execution_count": 33,
     "metadata": {},
     "output_type": "execute_result"
    }
   ],
   "source": [
    "calc_tiempo(47, 4)"
   ]
  },
  {
   "cell_type": "markdown",
   "metadata": {
    "nbgrader": {
     "grade": false,
     "grade_id": "cell-4ee3a27bdbf3a4ac",
     "locked": true,
     "schema_version": 3,
     "solution": false,
     "task": false
    },
    "tags": []
   },
   "source": [
    "---\n",
    "## **<font color=\"DodgerBlue\">Ejercicio 10. </font>**\n",
    "\n",
    "<font color=\"DarkBlue\">\n",
    "Usando la función construida en el ejemplo 9, modfíquela para que maneje excepciones. En este caso, la excepción debe manejar el error de tipo <b>TypeError</b>, es decir cuando el usuario use un tipo de dato incorrecto, por ejemplo: <b>calc_tiempo('47', 4)</b>. Documente la función usando <i>docstring</i>. \n",
    "</font>\n",
    "\n",
    "---"
   ]
  },
  {
   "cell_type": "code",
   "execution_count": 34,
   "metadata": {
    "tags": []
   },
   "outputs": [],
   "source": [
    "import math\n",
    "\n",
    "def calc_tiempo(M, To, c = 3.7, 𝜌 = 1.038, K = 5.4e-3, Tw = 100, Ty = 70):\n",
    "    \"\"\"\n",
    "    Esta función calcula el tiempo de un huevo dados ciertos parámetros físicos.\n",
    "    \n",
    "    Parameters\n",
    "    ----------\n",
    "    M : float\n",
    "    Masa del huevo ek gramos.\n",
    "    \n",
    "    To : float\n",
    "    Temperatura original del huevo, en grados Celsius, antes de meterlo al agua.\n",
    "    \n",
    "    c : float\n",
    "    Capacidad calorífica específica.\n",
    "    \n",
    "    𝜌 : float\n",
    "    Densidad.\n",
    "    \n",
    "    K : float\n",
    "    Conductividad térmica.\n",
    "    \n",
    "    Tw : float\n",
    "    Temperatura de ebullición del agua.\n",
    "    \n",
    "    Ty : float\n",
    "    Temperatura que debe alcanzar la yema.\n",
    "\n",
    "    Returns\n",
    "    -------\n",
    "    str: Tiempo de cocción del huevo en format min:seg\n",
    "    \"\"\"\n",
    "    π = math.pi\n",
    "    \n",
    "    ocurre_error = False\n",
    "    try:\n",
    "        # Se calcula el tiempo de cocción \n",
    "        t = M**(2/3) * c * 𝜌**(1/3) / ( K * π**2 * (4 * π / 3)**(2/3) ) * ln(0.76 * (To - Tw) / (Ty - Tw))\n",
    "\n",
    "        # Se convierte el tiempo al formato min:seg\n",
    "        t_min = int(t / 60)\n",
    "        t_seg = int(t - t_min * 60)\n",
    "        \n",
    "        resultado = '{}:{:02d}'.format(t_min, t_seg)\n",
    "    except TypeError as detalles:\n",
    "        ocurre_error = True\n",
    "        resultado = \"Ocurrió un error (TypeError): \\n {}\".format(detalles)\n",
    "    except:\n",
    "        ocurre_error = True\n",
    "        resultado = \"Ocurrió algo misterioso\"\n",
    "        \n",
    "    if ocurre_error:\n",
    "        print(resultado)\n",
    "        print('Revisa el correcto funcionamiento de la función.')\n",
    "    else:\n",
    "        return resultado    \n"
   ]
  },
  {
   "cell_type": "code",
   "execution_count": 37,
   "metadata": {
    "tags": []
   },
   "outputs": [
    {
     "data": {
      "text/plain": [
       "'5:13'"
      ]
     },
     "execution_count": 37,
     "metadata": {},
     "output_type": "execute_result"
    }
   ],
   "source": [
    "calc_tiempo(47,4)"
   ]
  },
  {
   "cell_type": "markdown",
   "metadata": {
    "nbgrader": {
     "grade": false,
     "grade_id": "cell-0d2914869425251d",
     "locked": true,
     "schema_version": 3,
     "solution": false,
     "task": false
    },
    "tags": []
   },
   "source": [
    "Debido a que esta última función ya está documentada con *docstring*, es posible poner el cursor en el nombre de la función y teclear [Shift+Tab] para obtener la ayuda."
   ]
  },
  {
   "cell_type": "markdown",
   "metadata": {
    "nbgrader": {
     "grade": false,
     "grade_id": "cell-a31e024bff9617f5",
     "locked": true,
     "schema_version": 3,
     "solution": false,
     "task": false
    },
    "tags": []
   },
   "source": [
    "**Si deseas probar tus aprendizajes, intenta realizar e siguiente miniproyecto.**\n",
    "\n",
    "---\n",
    "## **<font color=\"DodgerBlue\">Miniproyecto 1. </font>** (Opcional)\n",
    "\n",
    "<font color=\"DarkBlue\">Calcule las tablas de tiempos para huevos con peso mínimo de 47 y máximo de 67 gramos, en pasos de 1 gramo, para las temperaturas iniciales desde $T_o = 4^o C$ y hasta $T_o = 20^o C$ en pasos de $1^o C$. Imprima al principio de cada tabla la leyenda: `Peso del huevo = 67 [g]`. Almacenar estas tablas en una lista de diccionarios, donde cada elemento de la lista es un diccionario que contiene la información para una determinada $M$. Guardar las tablas de manera secuencial en un archivo cuyo nombre debe ser proporcionado por el usuario. Finalmente preguntar al usuario la tabla de tiempos que desea ver (con base en el peso del huevo) en pantalla. </font>\n",
    "\n",
    "---"
   ]
  },
  {
   "cell_type": "code",
   "execution_count": 94,
   "metadata": {
    "nbgrader": {
     "grade": false,
     "grade_id": "cell-d8ac7e0e04104a5f",
     "locked": false,
     "schema_version": 3,
     "solution": true,
     "task": false
    },
    "tags": []
   },
   "outputs": [
    {
     "name": "stdin",
     "output_type": "stream",
     "text": [
      "Nombre del archivo:  borrame\n"
     ]
    },
    {
     "name": "stdout",
     "output_type": "stream",
     "text": [
      "Peso del huevo = 47 [g]\n",
      "Temperatura \t Tiempo\n",
      " 4 \t\t 5:13\n",
      " 5 \t\t 5:09\n",
      " 6 \t\t 5:05\n",
      " 7 \t\t 5:01\n",
      " 8 \t\t 4:58\n",
      " 9 \t\t 4:54\n",
      " 10 \t\t 4:50\n",
      " 11 \t\t 4:46\n",
      " 12 \t\t 4:42\n",
      " 13 \t\t 4:38\n",
      " 14 \t\t 4:34\n",
      " 15 \t\t 4:30\n",
      " 16 \t\t 4:26\n",
      " 17 \t\t 4:21\n",
      " 18 \t\t 4:17\n",
      " 19 \t\t 4:13\n",
      " 20 \t\t 4:08\n",
      "Peso del huevo = 48 [g]\n",
      "Temperatura \t Tiempo\n",
      " 4 \t\t 5:17\n",
      " 5 \t\t 5:13\n",
      " 6 \t\t 5:09\n",
      " 7 \t\t 5:06\n",
      " 8 \t\t 5:02\n",
      " 9 \t\t 4:58\n",
      " 10 \t\t 4:54\n",
      " 11 \t\t 4:50\n",
      " 12 \t\t 4:46\n",
      " 13 \t\t 4:42\n",
      " 14 \t\t 4:38\n",
      " 15 \t\t 4:34\n",
      " 16 \t\t 4:29\n",
      " 17 \t\t 4:25\n",
      " 18 \t\t 4:21\n",
      " 19 \t\t 4:16\n",
      " 20 \t\t 4:12\n",
      "Peso del huevo = 49 [g]\n",
      "Temperatura \t Tiempo\n",
      " 4 \t\t 5:21\n",
      " 5 \t\t 5:18\n",
      " 6 \t\t 5:14\n",
      " 7 \t\t 5:10\n",
      " 8 \t\t 5:06\n",
      " 9 \t\t 5:02\n",
      " 10 \t\t 4:58\n",
      " 11 \t\t 4:54\n",
      " 12 \t\t 4:50\n",
      " 13 \t\t 4:46\n",
      " 14 \t\t 4:42\n",
      " 15 \t\t 4:37\n",
      " 16 \t\t 4:33\n",
      " 17 \t\t 4:29\n",
      " 18 \t\t 4:24\n",
      " 19 \t\t 4:20\n",
      " 20 \t\t 4:15\n",
      "Peso del huevo = 50 [g]\n",
      "Temperatura \t Tiempo\n",
      " 4 \t\t 5:26\n",
      " 5 \t\t 5:22\n",
      " 6 \t\t 5:18\n",
      " 7 \t\t 5:14\n",
      " 8 \t\t 5:10\n",
      " 9 \t\t 5:06\n",
      " 10 \t\t 5:02\n",
      " 11 \t\t 4:58\n",
      " 12 \t\t 4:54\n",
      " 13 \t\t 4:50\n",
      " 14 \t\t 4:45\n",
      " 15 \t\t 4:41\n",
      " 16 \t\t 4:37\n",
      " 17 \t\t 4:32\n",
      " 18 \t\t 4:28\n",
      " 19 \t\t 4:23\n",
      " 20 \t\t 4:19\n",
      "Peso del huevo = 51 [g]\n",
      "Temperatura \t Tiempo\n",
      " 4 \t\t 5:30\n",
      " 5 \t\t 5:26\n",
      " 6 \t\t 5:22\n",
      " 7 \t\t 5:18\n",
      " 8 \t\t 5:14\n",
      " 9 \t\t 5:10\n",
      " 10 \t\t 5:06\n",
      " 11 \t\t 5:02\n",
      " 12 \t\t 4:58\n",
      " 13 \t\t 4:53\n",
      " 14 \t\t 4:49\n",
      " 15 \t\t 4:45\n",
      " 16 \t\t 4:40\n",
      " 17 \t\t 4:36\n",
      " 18 \t\t 4:31\n",
      " 19 \t\t 4:27\n",
      " 20 \t\t 4:22\n",
      "Peso del huevo = 52 [g]\n",
      "Temperatura \t Tiempo\n",
      " 4 \t\t 5:34\n",
      " 5 \t\t 5:30\n",
      " 6 \t\t 5:26\n",
      " 7 \t\t 5:22\n",
      " 8 \t\t 5:18\n",
      " 9 \t\t 5:14\n",
      " 10 \t\t 5:10\n",
      " 11 \t\t 5:06\n",
      " 12 \t\t 5:02\n",
      " 13 \t\t 4:57\n",
      " 14 \t\t 4:53\n",
      " 15 \t\t 4:49\n",
      " 16 \t\t 4:44\n",
      " 17 \t\t 4:40\n",
      " 18 \t\t 4:35\n",
      " 19 \t\t 4:30\n",
      " 20 \t\t 4:26\n",
      "Peso del huevo = 53 [g]\n",
      "Temperatura \t Tiempo\n",
      " 4 \t\t 5:39\n",
      " 5 \t\t 5:35\n",
      " 6 \t\t 5:31\n",
      " 7 \t\t 5:27\n",
      " 8 \t\t 5:22\n",
      " 9 \t\t 5:18\n",
      " 10 \t\t 5:14\n",
      " 11 \t\t 5:10\n",
      " 12 \t\t 5:05\n",
      " 13 \t\t 5:01\n",
      " 14 \t\t 4:57\n",
      " 15 \t\t 4:52\n",
      " 16 \t\t 4:48\n",
      " 17 \t\t 4:43\n",
      " 18 \t\t 4:39\n",
      " 19 \t\t 4:34\n",
      " 20 \t\t 4:29\n",
      "Peso del huevo = 54 [g]\n",
      "Temperatura \t Tiempo\n",
      " 4 \t\t 5:43\n",
      " 5 \t\t 5:39\n",
      " 6 \t\t 5:35\n",
      " 7 \t\t 5:31\n",
      " 8 \t\t 5:27\n",
      " 9 \t\t 5:22\n",
      " 10 \t\t 5:18\n",
      " 11 \t\t 5:14\n",
      " 12 \t\t 5:09\n",
      " 13 \t\t 5:05\n",
      " 14 \t\t 5:00\n",
      " 15 \t\t 4:56\n",
      " 16 \t\t 4:51\n",
      " 17 \t\t 4:47\n",
      " 18 \t\t 4:42\n",
      " 19 \t\t 4:37\n",
      " 20 \t\t 4:32\n",
      "Peso del huevo = 55 [g]\n",
      "Temperatura \t Tiempo\n",
      " 4 \t\t 5:47\n",
      " 5 \t\t 5:43\n",
      " 6 \t\t 5:39\n",
      " 7 \t\t 5:35\n",
      " 8 \t\t 5:31\n",
      " 9 \t\t 5:26\n",
      " 10 \t\t 5:22\n",
      " 11 \t\t 5:18\n",
      " 12 \t\t 5:13\n",
      " 13 \t\t 5:09\n",
      " 14 \t\t 5:04\n",
      " 15 \t\t 5:00\n",
      " 16 \t\t 4:55\n",
      " 17 \t\t 4:50\n",
      " 18 \t\t 4:46\n",
      " 19 \t\t 4:41\n",
      " 20 \t\t 4:36\n",
      "Peso del huevo = 56 [g]\n",
      "Temperatura \t Tiempo\n",
      " 4 \t\t 5:51\n",
      " 5 \t\t 5:47\n",
      " 6 \t\t 5:43\n",
      " 7 \t\t 5:39\n",
      " 8 \t\t 5:35\n",
      " 9 \t\t 5:30\n",
      " 10 \t\t 5:26\n",
      " 11 \t\t 5:21\n",
      " 12 \t\t 5:17\n",
      " 13 \t\t 5:12\n",
      " 14 \t\t 5:08\n",
      " 15 \t\t 5:03\n",
      " 16 \t\t 4:59\n",
      " 17 \t\t 4:54\n",
      " 18 \t\t 4:49\n",
      " 19 \t\t 4:44\n",
      " 20 \t\t 4:39\n",
      "Peso del huevo = 57 [g]\n",
      "Temperatura \t Tiempo\n",
      " 4 \t\t 5:56\n",
      " 5 \t\t 5:51\n",
      " 6 \t\t 5:47\n",
      " 7 \t\t 5:43\n",
      " 8 \t\t 5:39\n",
      " 9 \t\t 5:34\n",
      " 10 \t\t 5:30\n",
      " 11 \t\t 5:25\n",
      " 12 \t\t 5:21\n",
      " 13 \t\t 5:16\n",
      " 14 \t\t 5:11\n",
      " 15 \t\t 5:07\n",
      " 16 \t\t 5:02\n",
      " 17 \t\t 4:57\n",
      " 18 \t\t 4:52\n",
      " 19 \t\t 4:47\n",
      " 20 \t\t 4:43\n",
      "Peso del huevo = 58 [g]\n",
      "Temperatura \t Tiempo\n",
      " 4 \t\t 6:00\n",
      " 5 \t\t 5:55\n",
      " 6 \t\t 5:51\n",
      " 7 \t\t 5:47\n",
      " 8 \t\t 5:42\n",
      " 9 \t\t 5:38\n",
      " 10 \t\t 5:34\n",
      " 11 \t\t 5:29\n",
      " 12 \t\t 5:24\n",
      " 13 \t\t 5:20\n",
      " 14 \t\t 5:15\n",
      " 15 \t\t 5:10\n",
      " 16 \t\t 5:06\n",
      " 17 \t\t 5:01\n",
      " 18 \t\t 4:56\n",
      " 19 \t\t 4:51\n",
      " 20 \t\t 4:46\n",
      "Peso del huevo = 59 [g]\n",
      "Temperatura \t Tiempo\n",
      " 4 \t\t 6:04\n",
      " 5 \t\t 6:00\n",
      " 6 \t\t 5:55\n",
      " 7 \t\t 5:51\n",
      " 8 \t\t 5:46\n",
      " 9 \t\t 5:42\n",
      " 10 \t\t 5:37\n",
      " 11 \t\t 5:33\n",
      " 12 \t\t 5:28\n",
      " 13 \t\t 5:23\n",
      " 14 \t\t 5:19\n",
      " 15 \t\t 5:14\n",
      " 16 \t\t 5:09\n",
      " 17 \t\t 5:04\n",
      " 18 \t\t 4:59\n",
      " 19 \t\t 4:54\n",
      " 20 \t\t 4:49\n",
      "Peso del huevo = 60 [g]\n",
      "Temperatura \t Tiempo\n",
      " 4 \t\t 6:08\n",
      " 5 \t\t 6:04\n",
      " 6 \t\t 5:59\n",
      " 7 \t\t 5:55\n",
      " 8 \t\t 5:50\n",
      " 9 \t\t 5:46\n",
      " 10 \t\t 5:41\n",
      " 11 \t\t 5:37\n",
      " 12 \t\t 5:32\n",
      " 13 \t\t 5:27\n",
      " 14 \t\t 5:22\n",
      " 15 \t\t 5:17\n",
      " 16 \t\t 5:13\n",
      " 17 \t\t 5:08\n",
      " 18 \t\t 5:03\n",
      " 19 \t\t 4:58\n",
      " 20 \t\t 4:52\n",
      "Peso del huevo = 61 [g]\n",
      "Temperatura \t Tiempo\n",
      " 4 \t\t 6:12\n",
      " 5 \t\t 6:08\n",
      " 6 \t\t 6:03\n",
      " 7 \t\t 5:59\n",
      " 8 \t\t 5:54\n",
      " 9 \t\t 5:50\n",
      " 10 \t\t 5:45\n",
      " 11 \t\t 5:40\n",
      " 12 \t\t 5:36\n",
      " 13 \t\t 5:31\n",
      " 14 \t\t 5:26\n",
      " 15 \t\t 5:21\n",
      " 16 \t\t 5:16\n",
      " 17 \t\t 5:11\n",
      " 18 \t\t 5:06\n",
      " 19 \t\t 5:01\n",
      " 20 \t\t 4:56\n",
      "Peso del huevo = 62 [g]\n",
      "Temperatura \t Tiempo\n",
      " 4 \t\t 6:16\n",
      " 5 \t\t 6:12\n",
      " 6 \t\t 6:07\n",
      " 7 \t\t 6:03\n",
      " 8 \t\t 5:58\n",
      " 9 \t\t 5:53\n",
      " 10 \t\t 5:49\n",
      " 11 \t\t 5:44\n",
      " 12 \t\t 5:39\n",
      " 13 \t\t 5:34\n",
      " 14 \t\t 5:29\n",
      " 15 \t\t 5:25\n",
      " 16 \t\t 5:20\n",
      " 17 \t\t 5:14\n",
      " 18 \t\t 5:09\n",
      " 19 \t\t 5:04\n",
      " 20 \t\t 4:59\n",
      "Peso del huevo = 63 [g]\n",
      "Temperatura \t Tiempo\n",
      " 4 \t\t 6:20\n",
      " 5 \t\t 6:16\n",
      " 6 \t\t 6:11\n",
      " 7 \t\t 6:07\n",
      " 8 \t\t 6:02\n",
      " 9 \t\t 5:57\n",
      " 10 \t\t 5:52\n",
      " 11 \t\t 5:48\n",
      " 12 \t\t 5:43\n",
      " 13 \t\t 5:38\n",
      " 14 \t\t 5:33\n",
      " 15 \t\t 5:28\n",
      " 16 \t\t 5:23\n",
      " 17 \t\t 5:18\n",
      " 18 \t\t 5:13\n",
      " 19 \t\t 5:07\n",
      " 20 \t\t 5:02\n",
      "Peso del huevo = 64 [g]\n",
      "Temperatura \t Tiempo\n",
      " 4 \t\t 6:24\n",
      " 5 \t\t 6:20\n",
      " 6 \t\t 6:15\n",
      " 7 \t\t 6:10\n",
      " 8 \t\t 6:06\n",
      " 9 \t\t 6:01\n",
      " 10 \t\t 5:56\n",
      " 11 \t\t 5:51\n",
      " 12 \t\t 5:46\n",
      " 13 \t\t 5:42\n",
      " 14 \t\t 5:37\n",
      " 15 \t\t 5:31\n",
      " 16 \t\t 5:26\n",
      " 17 \t\t 5:21\n",
      " 18 \t\t 5:16\n",
      " 19 \t\t 5:11\n",
      " 20 \t\t 5:05\n",
      "Peso del huevo = 65 [g]\n",
      "Temperatura \t Tiempo\n",
      " 4 \t\t 6:28\n",
      " 5 \t\t 6:24\n",
      " 6 \t\t 6:19\n",
      " 7 \t\t 6:14\n",
      " 8 \t\t 6:10\n",
      " 9 \t\t 6:05\n",
      " 10 \t\t 6:00\n",
      " 11 \t\t 5:55\n",
      " 12 \t\t 5:50\n",
      " 13 \t\t 5:45\n",
      " 14 \t\t 5:40\n",
      " 15 \t\t 5:35\n",
      " 16 \t\t 5:30\n",
      " 17 \t\t 5:25\n",
      " 18 \t\t 5:19\n",
      " 19 \t\t 5:14\n",
      " 20 \t\t 5:08\n",
      "Peso del huevo = 66 [g]\n",
      "Temperatura \t Tiempo\n",
      " 4 \t\t 6:32\n",
      " 5 \t\t 6:27\n",
      " 6 \t\t 6:23\n",
      " 7 \t\t 6:18\n",
      " 8 \t\t 6:13\n",
      " 9 \t\t 6:08\n",
      " 10 \t\t 6:04\n",
      " 11 \t\t 5:59\n",
      " 12 \t\t 5:54\n",
      " 13 \t\t 5:49\n",
      " 14 \t\t 5:44\n",
      " 15 \t\t 5:38\n",
      " 16 \t\t 5:33\n",
      " 17 \t\t 5:28\n",
      " 18 \t\t 5:22\n",
      " 19 \t\t 5:17\n",
      " 20 \t\t 5:12\n",
      "Peso del huevo = 67 [g]\n",
      "Temperatura \t Tiempo\n",
      " 4 \t\t 6:36\n",
      " 5 \t\t 6:31\n",
      " 6 \t\t 6:27\n",
      " 7 \t\t 6:22\n",
      " 8 \t\t 6:17\n",
      " 9 \t\t 6:12\n",
      " 10 \t\t 6:07\n",
      " 11 \t\t 6:02\n",
      " 12 \t\t 5:57\n",
      " 13 \t\t 5:52\n",
      " 14 \t\t 5:47\n",
      " 15 \t\t 5:42\n",
      " 16 \t\t 5:36\n",
      " 17 \t\t 5:31\n",
      " 18 \t\t 5:26\n",
      " 19 \t\t 5:20\n",
      " 20 \t\t 5:15\n",
      "La tabla de tiempos de cocción se guardó en el archivo: \"borrame\"\n"
     ]
    }
   ],
   "source": [
    "### BEGIN SOLUTION\n",
    "# Se solicita el nombre del archivo\n",
    "nombre_archivo = input('Nombre del archivo: ')\n",
    "\n",
    "# Recalculamos el numerador con el valor de M\n",
    "numerador = M**(2/3) * c * 𝜌**(1/3)\n",
    "\n",
    "# Construimos una lista vacía\n",
    "lista_de_diccionarios = []\n",
    "\n",
    "with open(nombre_archivo, 'w') as archivo_abierto:\n",
    "    for M in range(47, 68):\n",
    "        dummy_dict = {}\n",
    "\n",
    "        print('Peso del huevo = {} [g]'.format(M))\n",
    "        print('Temperatura \\t Tiempo')\n",
    "        archivo_abierto.write('Peso del huevo = {} [g]\\n'.format(M))\n",
    "        archivo_abierto.write('Temperatura \\t Tiempo\\n')\n",
    "        \n",
    "        for To in range(4,21):\n",
    "            t = calc_tiempo(M,To)\n",
    "            dummy_dict[To] = t\n",
    "            print(' {} \\t\\t {}'.format(To, t))\n",
    "            archivo_abierto.write(' {} \\t\\t {}\\n'.format(To, t))\n",
    "\n",
    "        lista_de_diccionarios.append(dummy_dict)\n",
    "    \n",
    "print('La tabla de tiempos de cocción se guardó en el archivo: \"{}\"'.format(nombre_archivo))\n",
    "### END SOLUTION"
   ]
  },
  {
   "cell_type": "markdown",
   "metadata": {},
   "source": [
    "<div class=\"alert alert-success\">\n",
    "<b>Revisa lo siguiente.</b>\n",
    "\n",
    "Antes de continuar con los siguientes ejemplos es importante que revises las siguientes notebooks: \n",
    "    \n",
    "* [<a href=\"./T08_IterablesMapFilter.ipynb\">T08_IterablesMapFilter.ipynb</a>]\n",
    "* [<a href=\"./T09_LambdaExpressions_Reduce.ipynb\">T09_LambdaExpressions_Reduce.ipynb</a>].\n",
    "* [<a href=\"./T10_Comprehensions.ipynb\">T10_Comprehensions.ipynb</a>]\n",
    "* [<a href=\"./T11_IteradoresGeneradores.ipynb\">T11_IteradoresGeneradores.ipynb</a>].\n",
    "* [<a href=\"./T12_Decoradores.ipynb\">T12_Decoradores.ipynb</a>]\n",
    "* [<a href=\"./T13_BibliotecaEstandar.ipynb\">T13_BibliotecaEstandar.ipynb</a>].\n",
    "</div>"
   ]
  },
  {
   "cell_type": "markdown",
   "metadata": {},
   "source": [
    "---\n",
    "## **<font color=\"DodgerBlue\">Ejercicio 11. </font>**\n",
    "\n",
    "<font color=\"DarkBlue\">\n",
    "Construir una lista de temperaturas de $4^oC$ hasta $20^oC$ solo almacenando los valores pares usando una <i>comprehension list</i> y aplicar la función <b>calc_tiempo()</b> para generar una lista de los tiempos correspondientes e imprimir las columas de temperaturas y tiempos como antes.\n",
    "</font>\n",
    "\n",
    "---"
   ]
  },
  {
   "cell_type": "code",
   "execution_count": 39,
   "metadata": {
    "tags": []
   },
   "outputs": [
    {
     "data": {
      "text/plain": [
       "[4, 6, 8, 10, 12, 14, 16, 18, 20]"
      ]
     },
     "execution_count": 39,
     "metadata": {},
     "output_type": "execute_result"
    }
   ],
   "source": [
    "T_pares = [T for T in range(4,21,2)]\n",
    "T_pares"
   ]
  },
  {
   "cell_type": "code",
   "execution_count": 44,
   "metadata": {
    "tags": []
   },
   "outputs": [
    {
     "data": {
      "text/plain": [
       "['5:13', '5:05', '4:58', '4:50', '4:42', '4:34', '4:26', '4:17', '4:08']"
      ]
     },
     "execution_count": 44,
     "metadata": {},
     "output_type": "execute_result"
    }
   ],
   "source": [
    "t_pares = [calc_tiempo(47, T) for T in T_pares]\n",
    "t_pares"
   ]
  },
  {
   "cell_type": "code",
   "execution_count": 45,
   "metadata": {
    "tags": []
   },
   "outputs": [
    {
     "data": {
      "text/plain": [
       "['5:13', '5:05', '4:58', '4:50', '4:42', '4:34', '4:26', '4:17', '4:08']"
      ]
     },
     "execution_count": 45,
     "metadata": {},
     "output_type": "execute_result"
    }
   ],
   "source": [
    "[calc_tiempo(47, T) for T in range(4,21,2)]"
   ]
  },
  {
   "cell_type": "code",
   "execution_count": 48,
   "metadata": {
    "tags": []
   },
   "outputs": [
    {
     "name": "stdout",
     "output_type": "stream",
     "text": [
      "Temperatura \t Tiempo\n",
      " 4 \t\t 5:13\n",
      " 6 \t\t 5:05\n",
      " 8 \t\t 4:58\n",
      " 10 \t\t 4:50\n",
      " 12 \t\t 4:42\n",
      " 14 \t\t 4:34\n",
      " 16 \t\t 4:26\n",
      " 18 \t\t 4:17\n",
      " 20 \t\t 4:08\n"
     ]
    }
   ],
   "source": [
    "T_pares = [T for T in range(4,21,2)]\n",
    "t_pares = [calc_tiempo(47, T) for T in T_pares]\n",
    "\n",
    "print('Temperatura \\t Tiempo')\n",
    "\n",
    "for T, t in zip(T_pares, t_pares):\n",
    "    print(' {} \\t\\t {}'.format(T, t))"
   ]
  },
  {
   "cell_type": "markdown",
   "metadata": {
    "tags": []
   },
   "source": [
    "---\n",
    "## **<font color=\"DodgerBlue\">Ejercicio 12. </font>**\n",
    "\n",
    "<font color=\"DarkBlue\">\n",
    "Convertir la lista anterior a grados Fahrenheit usando un mapeo y una función anónima para la conversión. Imprimir el resultado como antes pero usando los grados Fahrenheit.\n",
    "</font>\n",
    "\n",
    "---"
   ]
  },
  {
   "cell_type": "code",
   "execution_count": 49,
   "metadata": {
    "tags": []
   },
   "outputs": [],
   "source": [
    "toFahrenheit = lambda T: (9/5)*T + 32"
   ]
  },
  {
   "cell_type": "code",
   "execution_count": 65,
   "metadata": {
    "tags": []
   },
   "outputs": [
    {
     "data": {
      "text/plain": [
       "<map at 0x2aa8b85e3e0>"
      ]
     },
     "execution_count": 65,
     "metadata": {},
     "output_type": "execute_result"
    }
   ],
   "source": [
    "T_pares = [T for T in range(4,21,2)]\n",
    "F_pares = map(toFahrenheit, T_pares)\n",
    "F_pares"
   ]
  },
  {
   "cell_type": "code",
   "execution_count": 66,
   "metadata": {
    "tags": []
   },
   "outputs": [
    {
     "data": {
      "text/plain": [
       "[39.2, 42.8, 46.4, 50.0, 53.6, 57.2, 60.8, 64.4, 68.0]"
      ]
     },
     "execution_count": 66,
     "metadata": {},
     "output_type": "execute_result"
    }
   ],
   "source": [
    "list(F_pares)"
   ]
  },
  {
   "cell_type": "code",
   "execution_count": 70,
   "metadata": {
    "tags": []
   },
   "outputs": [
    {
     "name": "stdout",
     "output_type": "stream",
     "text": [
      "Temperatura \t Tiempo\n",
      " 39.2 \t\t 5:13\n",
      " 42.8 \t\t 5:05\n",
      " 46.4 \t\t 4:58\n",
      " 50.0 \t\t 4:50\n",
      " 53.6 \t\t 4:42\n",
      " 57.2 \t\t 4:34\n",
      " 60.8 \t\t 4:26\n",
      " 64.4 \t\t 4:17\n",
      " 68.0 \t\t 4:08\n"
     ]
    }
   ],
   "source": [
    "t_pares = [calc_tiempo(47, T) for T in T_pares]\n",
    "F_pares = list(map(toFahrenheit, T_pares))\n",
    "\n",
    "print('Temperatura \\t Tiempo')\n",
    "\n",
    "for T, t in zip(list(F_pares), t_pares):\n",
    "    print(' {} \\t\\t {}'.format(T, t))"
   ]
  },
  {
   "cell_type": "markdown",
   "metadata": {},
   "source": [
    "---\n",
    "## **<font color=\"DodgerBlue\">Ejercicio 13. </font>**\n",
    "\n",
    "<font color=\"DarkBlue\">\n",
    "Crear una función anónima que detecte un número par y usarla en conjunción con la función <b>filter()</b> para generar la lista de temperaturas pares, luego calcular los tiempos de cocción y finalmente imprimir la lista de temperaturas en grados Fahrenheit junto con los tiempos.\n",
    "</font>\n",
    "\n",
    "---"
   ]
  },
  {
   "cell_type": "code",
   "execution_count": 81,
   "metadata": {
    "tags": []
   },
   "outputs": [],
   "source": [
    "es_par = lambda n: True if n%2 == 0 else False"
   ]
  },
  {
   "cell_type": "code",
   "execution_count": 85,
   "metadata": {
    "tags": []
   },
   "outputs": [
    {
     "data": {
      "text/plain": [
       "[4, 5, 6, 7, 8, 9, 10, 11, 12, 13, 14, 15, 16, 17, 18, 19, 20]"
      ]
     },
     "execution_count": 85,
     "metadata": {},
     "output_type": "execute_result"
    }
   ],
   "source": [
    "list(range(4,21))"
   ]
  },
  {
   "cell_type": "code",
   "execution_count": 86,
   "metadata": {
    "tags": []
   },
   "outputs": [
    {
     "data": {
      "text/plain": [
       "<filter at 0x2aa8b91ecb0>"
      ]
     },
     "execution_count": 86,
     "metadata": {},
     "output_type": "execute_result"
    }
   ],
   "source": [
    "filter(es_par, list(range(4,21)))"
   ]
  },
  {
   "cell_type": "code",
   "execution_count": 87,
   "metadata": {
    "tags": []
   },
   "outputs": [
    {
     "data": {
      "text/plain": [
       "[4, 6, 8, 10, 12, 14, 16, 18, 20]"
      ]
     },
     "execution_count": 87,
     "metadata": {},
     "output_type": "execute_result"
    }
   ],
   "source": [
    "list(filter(es_par, list(range(4,21))))"
   ]
  },
  {
   "cell_type": "code",
   "execution_count": 88,
   "metadata": {
    "tags": []
   },
   "outputs": [
    {
     "name": "stdout",
     "output_type": "stream",
     "text": [
      "Temperatura \t Tiempo\n",
      " 39.2 \t\t 5:13\n",
      " 42.8 \t\t 5:05\n",
      " 46.4 \t\t 4:58\n",
      " 50.0 \t\t 4:50\n",
      " 53.6 \t\t 4:42\n",
      " 57.2 \t\t 4:34\n",
      " 60.8 \t\t 4:26\n",
      " 64.4 \t\t 4:17\n",
      " 68.0 \t\t 4:08\n"
     ]
    }
   ],
   "source": [
    "T_pares = list(filter(es_par, list(range(4,21))))\n",
    "t_pares = [calc_tiempo(47, T) for T in T_pares]\n",
    "F_pares = list(map(toFahrenheit, T_pares))\n",
    "\n",
    "print('Temperatura \\t Tiempo')\n",
    "\n",
    "for T, t in zip(F_pares, t_pares):\n",
    "    print(' {} \\t\\t {}'.format(T, t))"
   ]
  },
  {
   "cell_type": "markdown",
   "metadata": {},
   "source": [
    "---\n",
    "## **<font color=\"DodgerBlue\">Ejercicio 14. </font>**\n",
    "\n",
    "<font color=\"DarkBlue\">\n",
    "Realiza lo mismo que en el Ejercicio 13 pero para número impares.\n",
    "</font>\n",
    "\n",
    "---"
   ]
  },
  {
   "cell_type": "code",
   "execution_count": 93,
   "metadata": {
    "tags": []
   },
   "outputs": [
    {
     "name": "stdout",
     "output_type": "stream",
     "text": [
      "Temperatura \t Tiempo\n",
      " 41.0 \t\t 5:09\n",
      " 44.6 \t\t 5:01\n",
      " 48.2 \t\t 4:54\n",
      " 51.8 \t\t 4:46\n",
      " 55.400000000000006 \t\t 4:38\n",
      " 59.0 \t\t 4:30\n",
      " 62.6 \t\t 4:21\n",
      " 66.2 \t\t 4:13\n"
     ]
    }
   ],
   "source": [
    "### BEGIN SOLUTION\n",
    "es_impar = lambda n: True if n%2 else False\n",
    "\n",
    "T_impares = list(filter(es_impar, list(range(4,21))))\n",
    "t_impares = [calc_tiempo(47, T) for T in T_impares]\n",
    "F_impares = list(map(toFahrenheit, T_impares))\n",
    "\n",
    "print('Temperatura \\t Tiempo')\n",
    "\n",
    "for T, t in zip(F_impares, t_impares):\n",
    "    print(' {} \\t\\t {}'.format(T, t))\n",
    "### END SOLUTION"
   ]
  },
  {
   "cell_type": "markdown",
   "metadata": {},
   "source": [
    "---\n",
    "## **<font color=\"DodgerBlue\">Miniproyecto 2. </font>** (Opcional)\n",
    "\n",
    "<font color=\"DarkBlue\">Modifica el miniproyecto 1 para usar <b>lambda</b>, <b>map</b>, <b>filter</b> y que además pregunte al usuario si desea hacer el cálculo para temperaturas pares o impares. El resultado debe estar en grados Fahrenheit. </font>\n",
    "\n",
    "---"
   ]
  },
  {
   "cell_type": "code",
   "execution_count": 103,
   "metadata": {
    "tags": []
   },
   "outputs": [
    {
     "name": "stdin",
     "output_type": "stream",
     "text": [
      "Nombre del archivo:  borrame\n",
      "¿Pares [p] o Impares [i] ? I\n"
     ]
    },
    {
     "name": "stdout",
     "output_type": "stream",
     "text": [
      "Peso del huevo = 47 [g]\n",
      "Temperatura \t Tiempo\n",
      " 41.0 \t\t 5:09\n",
      " 44.6 \t\t 5:01\n",
      " 48.2 \t\t 4:54\n",
      " 51.8 \t\t 4:46\n",
      " 55.400000000000006 \t\t 4:38\n",
      " 59.0 \t\t 4:30\n",
      " 62.6 \t\t 4:21\n",
      " 66.2 \t\t 4:13\n",
      "Peso del huevo = 48 [g]\n",
      "Temperatura \t Tiempo\n",
      " 41.0 \t\t 5:13\n",
      " 44.6 \t\t 5:06\n",
      " 48.2 \t\t 4:58\n",
      " 51.8 \t\t 4:50\n",
      " 55.400000000000006 \t\t 4:42\n",
      " 59.0 \t\t 4:34\n",
      " 62.6 \t\t 4:25\n",
      " 66.2 \t\t 4:16\n",
      "Peso del huevo = 49 [g]\n",
      "Temperatura \t Tiempo\n",
      " 41.0 \t\t 5:18\n",
      " 44.6 \t\t 5:10\n",
      " 48.2 \t\t 5:02\n",
      " 51.8 \t\t 4:54\n",
      " 55.400000000000006 \t\t 4:46\n",
      " 59.0 \t\t 4:37\n",
      " 62.6 \t\t 4:29\n",
      " 66.2 \t\t 4:20\n",
      "Peso del huevo = 50 [g]\n",
      "Temperatura \t Tiempo\n",
      " 41.0 \t\t 5:22\n",
      " 44.6 \t\t 5:14\n",
      " 48.2 \t\t 5:06\n",
      " 51.8 \t\t 4:58\n",
      " 55.400000000000006 \t\t 4:50\n",
      " 59.0 \t\t 4:41\n",
      " 62.6 \t\t 4:32\n",
      " 66.2 \t\t 4:23\n",
      "Peso del huevo = 51 [g]\n",
      "Temperatura \t Tiempo\n",
      " 41.0 \t\t 5:26\n",
      " 44.6 \t\t 5:18\n",
      " 48.2 \t\t 5:10\n",
      " 51.8 \t\t 5:02\n",
      " 55.400000000000006 \t\t 4:53\n",
      " 59.0 \t\t 4:45\n",
      " 62.6 \t\t 4:36\n",
      " 66.2 \t\t 4:27\n",
      "Peso del huevo = 52 [g]\n",
      "Temperatura \t Tiempo\n",
      " 41.0 \t\t 5:30\n",
      " 44.6 \t\t 5:22\n",
      " 48.2 \t\t 5:14\n",
      " 51.8 \t\t 5:06\n",
      " 55.400000000000006 \t\t 4:57\n",
      " 59.0 \t\t 4:49\n",
      " 62.6 \t\t 4:40\n",
      " 66.2 \t\t 4:30\n",
      "Peso del huevo = 53 [g]\n",
      "Temperatura \t Tiempo\n",
      " 41.0 \t\t 5:35\n",
      " 44.6 \t\t 5:27\n",
      " 48.2 \t\t 5:18\n",
      " 51.8 \t\t 5:10\n",
      " 55.400000000000006 \t\t 5:01\n",
      " 59.0 \t\t 4:52\n",
      " 62.6 \t\t 4:43\n",
      " 66.2 \t\t 4:34\n",
      "Peso del huevo = 54 [g]\n",
      "Temperatura \t Tiempo\n",
      " 41.0 \t\t 5:39\n",
      " 44.6 \t\t 5:31\n",
      " 48.2 \t\t 5:22\n",
      " 51.8 \t\t 5:14\n",
      " 55.400000000000006 \t\t 5:05\n",
      " 59.0 \t\t 4:56\n",
      " 62.6 \t\t 4:47\n",
      " 66.2 \t\t 4:37\n",
      "Peso del huevo = 55 [g]\n",
      "Temperatura \t Tiempo\n",
      " 41.0 \t\t 5:43\n",
      " 44.6 \t\t 5:35\n",
      " 48.2 \t\t 5:26\n",
      " 51.8 \t\t 5:18\n",
      " 55.400000000000006 \t\t 5:09\n",
      " 59.0 \t\t 5:00\n",
      " 62.6 \t\t 4:50\n",
      " 66.2 \t\t 4:41\n",
      "Peso del huevo = 56 [g]\n",
      "Temperatura \t Tiempo\n",
      " 41.0 \t\t 5:47\n",
      " 44.6 \t\t 5:39\n",
      " 48.2 \t\t 5:30\n",
      " 51.8 \t\t 5:21\n",
      " 55.400000000000006 \t\t 5:12\n",
      " 59.0 \t\t 5:03\n",
      " 62.6 \t\t 4:54\n",
      " 66.2 \t\t 4:44\n",
      "Peso del huevo = 57 [g]\n",
      "Temperatura \t Tiempo\n",
      " 41.0 \t\t 5:51\n",
      " 44.6 \t\t 5:43\n",
      " 48.2 \t\t 5:34\n",
      " 51.8 \t\t 5:25\n",
      " 55.400000000000006 \t\t 5:16\n",
      " 59.0 \t\t 5:07\n",
      " 62.6 \t\t 4:57\n",
      " 66.2 \t\t 4:47\n",
      "Peso del huevo = 58 [g]\n",
      "Temperatura \t Tiempo\n",
      " 41.0 \t\t 5:55\n",
      " 44.6 \t\t 5:47\n",
      " 48.2 \t\t 5:38\n",
      " 51.8 \t\t 5:29\n",
      " 55.400000000000006 \t\t 5:20\n",
      " 59.0 \t\t 5:10\n",
      " 62.6 \t\t 5:01\n",
      " 66.2 \t\t 4:51\n",
      "Peso del huevo = 59 [g]\n",
      "Temperatura \t Tiempo\n",
      " 41.0 \t\t 6:00\n",
      " 44.6 \t\t 5:51\n",
      " 48.2 \t\t 5:42\n",
      " 51.8 \t\t 5:33\n",
      " 55.400000000000006 \t\t 5:23\n",
      " 59.0 \t\t 5:14\n",
      " 62.6 \t\t 5:04\n",
      " 66.2 \t\t 4:54\n",
      "Peso del huevo = 60 [g]\n",
      "Temperatura \t Tiempo\n",
      " 41.0 \t\t 6:04\n",
      " 44.6 \t\t 5:55\n",
      " 48.2 \t\t 5:46\n",
      " 51.8 \t\t 5:37\n",
      " 55.400000000000006 \t\t 5:27\n",
      " 59.0 \t\t 5:17\n",
      " 62.6 \t\t 5:08\n",
      " 66.2 \t\t 4:58\n",
      "Peso del huevo = 61 [g]\n",
      "Temperatura \t Tiempo\n",
      " 41.0 \t\t 6:08\n",
      " 44.6 \t\t 5:59\n",
      " 48.2 \t\t 5:50\n",
      " 51.8 \t\t 5:40\n",
      " 55.400000000000006 \t\t 5:31\n",
      " 59.0 \t\t 5:21\n",
      " 62.6 \t\t 5:11\n",
      " 66.2 \t\t 5:01\n",
      "Peso del huevo = 62 [g]\n",
      "Temperatura \t Tiempo\n",
      " 41.0 \t\t 6:12\n",
      " 44.6 \t\t 6:03\n",
      " 48.2 \t\t 5:53\n",
      " 51.8 \t\t 5:44\n",
      " 55.400000000000006 \t\t 5:34\n",
      " 59.0 \t\t 5:25\n",
      " 62.6 \t\t 5:14\n",
      " 66.2 \t\t 5:04\n",
      "Peso del huevo = 63 [g]\n",
      "Temperatura \t Tiempo\n",
      " 41.0 \t\t 6:16\n",
      " 44.6 \t\t 6:07\n",
      " 48.2 \t\t 5:57\n",
      " 51.8 \t\t 5:48\n",
      " 55.400000000000006 \t\t 5:38\n",
      " 59.0 \t\t 5:28\n",
      " 62.6 \t\t 5:18\n",
      " 66.2 \t\t 5:07\n",
      "Peso del huevo = 64 [g]\n",
      "Temperatura \t Tiempo\n",
      " 41.0 \t\t 6:20\n",
      " 44.6 \t\t 6:10\n",
      " 48.2 \t\t 6:01\n",
      " 51.8 \t\t 5:51\n",
      " 55.400000000000006 \t\t 5:42\n",
      " 59.0 \t\t 5:31\n",
      " 62.6 \t\t 5:21\n",
      " 66.2 \t\t 5:11\n",
      "Peso del huevo = 65 [g]\n",
      "Temperatura \t Tiempo\n",
      " 41.0 \t\t 6:24\n",
      " 44.6 \t\t 6:14\n",
      " 48.2 \t\t 6:05\n",
      " 51.8 \t\t 5:55\n",
      " 55.400000000000006 \t\t 5:45\n",
      " 59.0 \t\t 5:35\n",
      " 62.6 \t\t 5:25\n",
      " 66.2 \t\t 5:14\n",
      "Peso del huevo = 66 [g]\n",
      "Temperatura \t Tiempo\n",
      " 41.0 \t\t 6:27\n",
      " 44.6 \t\t 6:18\n",
      " 48.2 \t\t 6:08\n",
      " 51.8 \t\t 5:59\n",
      " 55.400000000000006 \t\t 5:49\n",
      " 59.0 \t\t 5:38\n",
      " 62.6 \t\t 5:28\n",
      " 66.2 \t\t 5:17\n",
      "Peso del huevo = 67 [g]\n",
      "Temperatura \t Tiempo\n",
      " 41.0 \t\t 6:31\n",
      " 44.6 \t\t 6:22\n",
      " 48.2 \t\t 6:12\n",
      " 51.8 \t\t 6:02\n",
      " 55.400000000000006 \t\t 5:52\n",
      " 59.0 \t\t 5:42\n",
      " 62.6 \t\t 5:31\n",
      " 66.2 \t\t 5:20\n",
      "La tabla de tiempos de cocción se guardó en el archivo: \"borrame\"\n"
     ]
    }
   ],
   "source": [
    "### BEGIN SOLUTION\n",
    "# Se solicita el nombre del archivo\n",
    "nombre_archivo = input('Nombre del archivo: ')\n",
    "par_o_impar = input('¿Pares [p] o Impares [i] ?')\n",
    "\n",
    "toFahrenheit = lambda T: (9/5)*T + 32\n",
    "\n",
    "if par_o_impar.lower() == 'P'.lower():\n",
    "    es_par = lambda n: True if n%2 == 0 else False\n",
    "    Ts = list(filter(es_par, list(range(4,21))))\n",
    "elif par_o_impar.lower() == 'I'.lower():\n",
    "    es_impar = lambda n: True if n%2 else False\n",
    "    Ts = list(filter(es_impar, list(range(4,21))))\n",
    "\n",
    "with open(nombre_archivo, 'w') as archivo_abierto:\n",
    "    for M in range(47, 68):\n",
    "        ts = [calc_tiempo(M, T) for T in Ts]\n",
    "        Fs = list(map(toFahrenheit, Ts))        \n",
    "        \n",
    "        dummy_dict = {}\n",
    "\n",
    "        print('Peso del huevo = {} [g]'.format(M))\n",
    "        print('Temperatura \\t Tiempo')\n",
    "        archivo_abierto.write('Peso del huevo = {} [g]\\n'.format(M))\n",
    "        archivo_abierto.write('Temperatura \\t Tiempo\\n')\n",
    "        \n",
    "        for F, t in zip(Fs, ts):\n",
    "            dummy_dict[F] = t\n",
    "            print(' {} \\t\\t {}'.format(F, t))\n",
    "            archivo_abierto.write(' {} \\t\\t {}\\n'.format(F, t))\n",
    "\n",
    "        lista_de_diccionarios.append(dummy_dict)\n",
    "    \n",
    "print('La tabla de tiempos de cocción se guardó en el archivo: \"{}\"'.format(nombre_archivo))\n",
    "### END SOLUTION"
   ]
  },
  {
   "cell_type": "code",
   "execution_count": null,
   "metadata": {},
   "outputs": [],
   "source": []
  }
 ],
 "metadata": {
  "kernelspec": {
   "display_name": "Python 3 (ipykernel)",
   "language": "python",
   "name": "python3"
  },
  "language_info": {
   "codemirror_mode": {
    "name": "ipython",
    "version": 3
   },
   "file_extension": ".py",
   "mimetype": "text/x-python",
   "name": "python",
   "nbconvert_exporter": "python",
   "pygments_lexer": "ipython3",
   "version": "3.11.3"
  }
 },
 "nbformat": 4,
 "nbformat_minor": 4
}
