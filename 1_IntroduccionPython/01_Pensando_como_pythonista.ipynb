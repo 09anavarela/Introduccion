{
 "cells": [
  {
   "cell_type": "markdown",
   "metadata": {
    "nbgrader": {
     "grade": false,
     "grade_id": "cell-b915cc4536cd07a1",
     "locked": true,
     "schema_version": 3,
     "solution": false,
     "task": false
    },
    "tags": []
   },
   "source": [
    "# Introducción a Python para IA.\n",
    "\n",
    "<a href=\"https://github.com/luiggix/intro_MeIA_2023\">intro_MeIA_2023</a> by Luis M. de la Cruz Salas is licensed under <a href=\"https://creativecommons.org/licenses/by-nc-nd/4.0?ref=chooser-v1\">Attribution-NonCommercial-NoDerivatives 4.0 International</a>.\n",
    "\n",
    "# Objetivos.\n",
    "\n",
    "Revisar los conceptos de objetos, etiquetas (nombres, variables), identidad, tipado dinámico,  funciones de la biblioteca estándar, estado interno y comportamiento.\n"
   ]
  },
  {
   "cell_type": "markdown",
   "metadata": {
    "nbgrader": {
     "grade": false,
     "grade_id": "cell-65d224622447df51",
     "locked": true,
     "schema_version": 3,
     "solution": false,
     "task": false
    },
    "tags": []
   },
   "source": [
    "<div class=\"alert alert-info\" role=\"alert\">\n",
    "\n",
    "# Instrucciones.\n",
    "\n",
    "1. Para ejecutar una celda, primero debes posicionarte en dicha celda y posteriormente teclear **una** de las siguientes dos combinaciones de teclas: \n",
    "    * <font color=\"#228B22\"><b>[Shift + Enter]</b></font> o \n",
    "    * <font color=\"#228B22\"><b>[Ctrl + Enter]</b></font>. <br>\n",
    "Te recomendamos acostumbrate a una de estas combinaciones para todo lo que sigue del curso.\n",
    "2. Cuando se modifica el código de cualquier celda, esta se debe re-ejecutar. <br> \n",
    "3. Las celdas que dependan de una celda modificada, se deben re-ejecutar. <br>\n",
    "4. Cuando tenemos el nombre de una función de biblioteca, si ubicamos el cursor sobre el nombre y tecleamos <font color=\"#228B22\"><b>[Shift + Tab]</b></font> obtendremos ayuda sobre dicha función.<br>\n",
    "5. Lo anterior aplica a funciones definidas por el usuario, siempre y cuando se haya documentado la función usando [*docstring*](https://peps.python.org/pep-0257/). Esto también se explica en el notebook <a href=\"T06_Funciones_y_Documentacion.ipynb\">T06_Funciones_y_Documentacion.ipynb</a><br> \n",
    "6. Cuando tecleamos el nombre de un objeto, previamente definido, y le agregamos un **punto**, podemos en ese momento teclear la tecla <font color=\"#228B22\"><b>[Tab]</b></font> para obtener ayuda sobre su comportamiento.\n",
    "7. **Ejecuta todas las celdas en secuencia, excepto aquellas en las que se indíque explícitamente que no se ejecuten.**\n",
    "</div>\n",
    "\n",
    "**NOTAS ADICIONALES.**\n",
    "1. Una caja en color azul como la anterior te proporcionará información adicional para una correcta realización de los ejercicios.\n",
    "2. Una caja en color verde te mostrará sugerencias y ejercicios que debes realizar. Es importante revisar estas sugerencias para completar tus aprendizajes.\n",
    "\n",
    "<div class=\"alert alert-success\">\n",
    "<b>Revisa lo siguiente.</b>\n",
    "</div>\n",
    "\n",
    "3. Una caja en color rojo te dará algunos consejos, advertencias y/o recomendaciones con respecto de posibles errores o *bugs*  que podrían ocurrir durante la ejecución de un código.\n",
    "\n",
    "<div class=\"alert alert-danger\">\n",
    "<b>Cuidado.</b>\n",
    "    \n",
    "</div>\n",
    "    "
   ]
  },
  {
   "cell_type": "markdown",
   "metadata": {
    "nbgrader": {
     "grade": false,
     "grade_id": "cell-c1857f30cdc3ca55",
     "locked": true,
     "schema_version": 3,
     "solution": false,
     "task": false
    },
    "tags": []
   },
   "source": [
    "# Objetos, Etiquetas e Identidad."
   ]
  },
  {
   "cell_type": "markdown",
   "metadata": {
    "nbgrader": {
     "grade": false,
     "grade_id": "cell-1c3ae6889cec936c",
     "locked": true,
     "schema_version": 3,
     "solution": false,
     "task": false
    },
    "tags": []
   },
   "source": [
    "En Python, todo lo que se crea es un **objeto**.\n",
    "\n",
    "En la celda que sigue, teclea\n",
    "```python\n",
    "a = 1\n",
    "```\n",
    "y luego ejecuta la celda para ver el resultado."
   ]
  },
  {
   "cell_type": "code",
   "execution_count": null,
   "metadata": {
    "tags": []
   },
   "outputs": [],
   "source": [
    "a = 1"
   ]
  },
  {
   "cell_type": "markdown",
   "metadata": {
    "nbgrader": {
     "grade": false,
     "grade_id": "cell-4fb47cb3c4a5092e",
     "locked": true,
     "schema_version": 3,
     "solution": false,
     "task": false
    },
    "tags": []
   },
   "source": [
    "¡Acabas de crear un objeto!\n",
    "- El objeto es `1`.\n",
    "- El objeto `1` está etiquetado con la letra `a` (nombre del objeto)\n",
    "\n",
    "\n",
    "<div class=\"alert alert-info\" role=\"alert\">\n",
    "Lo que en otros lenguajes se conoce como variable en Python es una etiqueta. \n",
    "</div>"
   ]
  },
  {
   "cell_type": "markdown",
   "metadata": {
    "nbgrader": {
     "grade": false,
     "grade_id": "cell-d271b54ee7fa1a6a",
     "locked": true,
     "schema_version": 3,
     "solution": false,
     "task": false
    },
    "tags": []
   },
   "source": [
    "Cuando se pone el nombre del objeto `a` en una celda y se ejecuta, generalmente se obtiene su contenido o su tipo; ejecuta la siguiente celda:"
   ]
  },
  {
   "cell_type": "code",
   "execution_count": null,
   "metadata": {
    "tags": []
   },
   "outputs": [],
   "source": [
    "a"
   ]
  },
  {
   "cell_type": "markdown",
   "metadata": {
    "nbgrader": {
     "grade": false,
     "grade_id": "cell-5e57010a0ca0c38a",
     "locked": true,
     "schema_version": 3,
     "solution": false,
     "task": false
    },
    "tags": []
   },
   "source": [
    "Para saber de qué tipo es el objeto, usamos la función `type(a)`"
   ]
  },
  {
   "cell_type": "code",
   "execution_count": null,
   "metadata": {
    "tags": []
   },
   "outputs": [],
   "source": [
    "type(a)"
   ]
  },
  {
   "cell_type": "markdown",
   "metadata": {
    "nbgrader": {
     "grade": false,
     "grade_id": "cell-5ef916df8de5c60d",
     "locked": true,
     "schema_version": 3,
     "solution": false,
     "task": false
    },
    "tags": []
   },
   "source": [
    "Observamos que el objeto cuyo nombre es `a` es de tipo `int` (entero)\n",
    "\n",
    "La función `id()` devuelve un número, el cual es la identidad del objeto `a` en la memoria de la computadora."
   ]
  },
  {
   "cell_type": "code",
   "execution_count": null,
   "metadata": {
    "tags": []
   },
   "outputs": [],
   "source": [
    "id(a)"
   ]
  },
  {
   "cell_type": "markdown",
   "metadata": {
    "nbgrader": {
     "grade": false,
     "grade_id": "cell-bdc36f0471c5775a",
     "locked": true,
     "schema_version": 3,
     "solution": false,
     "task": false
    },
    "tags": []
   },
   "source": [
    "Podemos usar la función `print()` para revisar el contenido de `a`, su tipo y su identidad, al mismo tiempo:"
   ]
  },
  {
   "cell_type": "code",
   "execution_count": null,
   "metadata": {
    "tags": []
   },
   "outputs": [],
   "source": [
    "print(a, type(a), id(a))"
   ]
  },
  {
   "cell_type": "markdown",
   "metadata": {
    "nbgrader": {
     "grade": false,
     "grade_id": "cell-08e405bd480529d3",
     "locked": true,
     "schema_version": 3,
     "solution": false,
     "task": false
    },
    "tags": []
   },
   "source": [
    "Observa que se imprime la información separada por un espacio.\n",
    "\n",
    "Creamos ahora el objeto `2` y lo etiquetamos con la misma letra `a` y luego revisamos la información del objeto con la función `print()`:"
   ]
  },
  {
   "cell_type": "code",
   "execution_count": null,
   "metadata": {
    "tags": []
   },
   "outputs": [],
   "source": [
    "a = 2 "
   ]
  },
  {
   "cell_type": "code",
   "execution_count": null,
   "metadata": {
    "tags": []
   },
   "outputs": [],
   "source": [
    "print(a, type(a), id(a))"
   ]
  },
  {
   "cell_type": "markdown",
   "metadata": {
    "nbgrader": {
     "grade": false,
     "grade_id": "cell-3832ae5ca35ea337",
     "locked": true,
     "schema_version": 3,
     "solution": false,
     "task": false
    },
    "tags": []
   },
   "source": [
    "Observe que el objeto cambió, ahora es `2`; el tipo del objeto es el mismo (`<class int>`); la identidad es diferente."
   ]
  },
  {
   "cell_type": "markdown",
   "metadata": {
    "nbgrader": {
     "grade": false,
     "grade_id": "cell-0632f5bad91f1f4b",
     "locked": true,
     "schema_version": 3,
     "solution": false,
     "task": false
    },
    "tags": []
   },
   "source": [
    "**Pregunta**: ¿Qué pasó con el objeto `1` definido previamente y etiquetado con `a`?"
   ]
  },
  {
   "cell_type": "markdown",
   "metadata": {
    "nbgrader": {
     "grade": false,
     "grade_id": "cell-42670ab8bc922ea7",
     "locked": true,
     "schema_version": 3,
     "solution": false,
     "task": false
    },
    "tags": []
   },
   "source": [
    "Los objetos pueden tener varias etiquetas, por ejemplo si hacemos lo siguiente:"
   ]
  },
  {
   "cell_type": "code",
   "execution_count": null,
   "metadata": {
    "tags": []
   },
   "outputs": [],
   "source": [
    "b = a "
   ]
  },
  {
   "cell_type": "markdown",
   "metadata": {
    "nbgrader": {
     "grade": false,
     "grade_id": "cell-3d5af5be36cc6b0c",
     "locked": true,
     "schema_version": 3,
     "solution": false,
     "task": false
    },
    "tags": []
   },
   "source": [
    "Ahora consultamos la información de `a` y `b`"
   ]
  },
  {
   "cell_type": "code",
   "execution_count": null,
   "metadata": {
    "tags": []
   },
   "outputs": [],
   "source": [
    "# Observa que podemos poner varias instrucciones en una sola celda\n",
    "print(a, type(a), id(a))\n",
    "print(b, type(b), id(b))"
   ]
  },
  {
   "cell_type": "markdown",
   "metadata": {
    "nbgrader": {
     "grade": false,
     "grade_id": "cell-7af018e9bf9062aa",
     "locked": true,
     "schema_version": 3,
     "solution": false,
     "task": false
    },
    "tags": []
   },
   "source": [
    "Obsérve que `b` y `a` tienen el mismo contenido, el mismo tipo y el mismo identificador en memoria. Lo anterior significa que `b` y `a` son dos etiquetas para el mismo objeto; se puede decir que son *\"sinónimos\"*."
   ]
  },
  {
   "cell_type": "markdown",
   "metadata": {
    "nbgrader": {
     "grade": false,
     "grade_id": "cell-d3d8c9eceadab051",
     "locked": true,
     "schema_version": 3,
     "solution": false,
     "task": false
    },
    "tags": []
   },
   "source": [
    "¿Qué pasa si hacemos `a = 5`?"
   ]
  },
  {
   "cell_type": "code",
   "execution_count": null,
   "metadata": {
    "tags": []
   },
   "outputs": [],
   "source": [
    "a = 5"
   ]
  },
  {
   "cell_type": "code",
   "execution_count": null,
   "metadata": {
    "tags": []
   },
   "outputs": [],
   "source": [
    "print(a, type(a), id(a))\n",
    "print(b, type(b), id(b))"
   ]
  },
  {
   "cell_type": "markdown",
   "metadata": {
    "nbgrader": {
     "grade": false,
     "grade_id": "cell-cd5e569da43e1c71",
     "locked": true,
     "schema_version": 3,
     "solution": false,
     "task": false
    },
    "tags": []
   },
   "source": [
    "Observa que ahora `a` es la etiqueta del objeto `5` y `b` sigue etiquetando al objeto `2`."
   ]
  },
  {
   "cell_type": "markdown",
   "metadata": {
    "nbgrader": {
     "grade": false,
     "grade_id": "cell-955396b4334bf53d",
     "locked": true,
     "schema_version": 3,
     "solution": false,
     "task": false
    },
    "tags": []
   },
   "source": [
    "Hagamos `c = b`."
   ]
  },
  {
   "cell_type": "code",
   "execution_count": null,
   "metadata": {
    "tags": []
   },
   "outputs": [],
   "source": [
    "c = b"
   ]
  },
  {
   "cell_type": "markdown",
   "metadata": {
    "nbgrader": {
     "grade": false,
     "grade_id": "cell-7389573ac4c59980",
     "locked": true,
     "schema_version": 3,
     "solution": false,
     "task": false
    },
    "tags": []
   },
   "source": [
    "Ahora consultamos el contenido, el tipo y el identificador de `a`, `b` y `c`:"
   ]
  },
  {
   "cell_type": "code",
   "execution_count": null,
   "metadata": {
    "tags": []
   },
   "outputs": [],
   "source": [
    "print(a, type(a), id(a))\n",
    "print(b, type(b), id(b))\n",
    "print(c, type(c), id(c))"
   ]
  },
  {
   "cell_type": "markdown",
   "metadata": {
    "nbgrader": {
     "grade": false,
     "grade_id": "cell-9cd316673c0638b3",
     "locked": true,
     "schema_version": 3,
     "solution": false,
     "task": false
    },
    "tags": []
   },
   "source": [
    "**Pregunta**: ¿Puedes explicar el resultado de la celda anterior?"
   ]
  },
  {
   "cell_type": "markdown",
   "metadata": {
    "nbgrader": {
     "grade": false,
     "grade_id": "cell-a80aff3451c2a5c7",
     "locked": true,
     "schema_version": 3,
     "solution": false,
     "task": false
    },
    "tags": []
   },
   "source": [
    "Es posible eliminar etiquetas usando la función `del()`"
   ]
  },
  {
   "cell_type": "code",
   "execution_count": null,
   "metadata": {
    "tags": []
   },
   "outputs": [],
   "source": [
    "del(c)"
   ]
  },
  {
   "cell_type": "code",
   "execution_count": null,
   "metadata": {
    "tags": []
   },
   "outputs": [],
   "source": [
    "print(c, type(c), id(c))"
   ]
  },
  {
   "cell_type": "markdown",
   "metadata": {
    "nbgrader": {
     "grade": false,
     "grade_id": "cell-bf893b6802c61914",
     "locked": true,
     "schema_version": 3,
     "solution": false,
     "task": false
    },
    "tags": []
   },
   "source": [
    "Cuando eliminamos una etiqueta, ésta ya no puede ser usada; pero, el objeto al que apuntaba, en este caso el objeto `2`, solo se elimina cuando ya no hay etiquetas que hagan referencia a él. En este caso, el objeto `2` aún está etiquetado por `b`:"
   ]
  },
  {
   "cell_type": "code",
   "execution_count": null,
   "metadata": {
    "tags": []
   },
   "outputs": [],
   "source": [
    "print(b, type(b), id(b))"
   ]
  },
  {
   "cell_type": "markdown",
   "metadata": {
    "nbgrader": {
     "grade": false,
     "grade_id": "cell-d6d9bff3c57b5e64",
     "locked": true,
     "schema_version": 3,
     "solution": false,
     "task": false
    },
    "tags": []
   },
   "source": [
    "# Tipado dinámico\n",
    "\n",
    "Podemos crear objetos de muchos tipos y el tipo del objeto se determina en el momento de su creación. Por ejemplo:"
   ]
  },
  {
   "cell_type": "code",
   "execution_count": null,
   "metadata": {
    "tags": []
   },
   "outputs": [],
   "source": [
    "obj = 100\n",
    "print(obj, type(obj), id(obj))"
   ]
  },
  {
   "cell_type": "code",
   "execution_count": null,
   "metadata": {
    "tags": []
   },
   "outputs": [],
   "source": [
    "obj = 3.141592\n",
    "print(obj, type(obj), id(obj))"
   ]
  },
  {
   "cell_type": "code",
   "execution_count": null,
   "metadata": {
    "tags": []
   },
   "outputs": [],
   "source": [
    "obj = 'Hola Mundo Pythonico!'\n",
    "print(obj, type(obj), id(obj))"
   ]
  },
  {
   "cell_type": "markdown",
   "metadata": {
    "nbgrader": {
     "grade": false,
     "grade_id": "cell-211edce973889c9e",
     "locked": true,
     "schema_version": 3,
     "solution": false,
     "task": false
    },
    "tags": []
   },
   "source": [
    "En los tres ejemplos anteriores observamos que `obj` hace referencia a objetos de tipos diferentes en instantes diferentes, y el tipo del objeto se conoce cuando éste último es creado. Entonces, el tipo de un objeto se determina en el momento de su creación. A esto se le conoce como *tipado dinámico*."
   ]
  },
  {
   "cell_type": "markdown",
   "metadata": {
    "nbgrader": {
     "grade": false,
     "grade_id": "cell-e751364a1a46acbf",
     "locked": true,
     "schema_version": 3,
     "solution": false,
     "task": false
    },
    "tags": []
   },
   "source": [
    "# Funciones de la biblioteca estándar"
   ]
  },
  {
   "cell_type": "markdown",
   "metadata": {
    "nbgrader": {
     "grade": false,
     "grade_id": "cell-b55512ec96b83af1",
     "locked": true,
     "schema_version": 3,
     "solution": false,
     "task": false
    },
    "tags": []
   },
   "source": [
    "Las funciones que hemos estado usando hasta ahora `type()`, `id()`, `print()` son funciones de la biblioteca estándar que se pueden usar directamente en cualquier programa en Python. Puedes encontrar una lista de estas funciones en <a href=\"https://docs.python.org/3.10/library/functions.html\">Built-in Functions</a> (se pueden ver las funciones de diferentes versiones de Python).\n",
    "\n",
    "Una función que proporciona ayuda es `help()`, por ejemplo:"
   ]
  },
  {
   "cell_type": "code",
   "execution_count": null,
   "metadata": {
    "tags": []
   },
   "outputs": [],
   "source": [
    "help(print)"
   ]
  },
  {
   "cell_type": "markdown",
   "metadata": {
    "nbgrader": {
     "grade": false,
     "grade_id": "cell-a139773f536dce82",
     "locked": true,
     "schema_version": 3,
     "solution": false,
     "task": false
    },
    "tags": []
   },
   "source": [
    "También se puede obtener ayuda si ponemos el cursor en el nombre de la función y tecleamos [Shift+Tab]. Por ejemplo ponga el cursor en alguna letra del nombre `print` en la celda siguiente y tecle [Shift+Tab]:"
   ]
  },
  {
   "cell_type": "code",
   "execution_count": null,
   "metadata": {
    "tags": []
   },
   "outputs": [],
   "source": [
    "print()"
   ]
  },
  {
   "cell_type": "markdown",
   "metadata": {
    "nbgrader": {
     "grade": false,
     "grade_id": "cell-68311661428cadaa",
     "locked": true,
     "schema_version": 3,
     "solution": false,
     "task": false
    },
    "tags": []
   },
   "source": [
    "Las funciones de la biblioteca estándar reciben como parámetros objetos de distintos tipos. Algunas de estas funciones no funcionan con ciertos tipos de objetos. Por ejemplo, la función `len()` determina el número de elementos de un arreglo, veamos:"
   ]
  },
  {
   "cell_type": "code",
   "execution_count": null,
   "metadata": {
    "tags": []
   },
   "outputs": [],
   "source": [
    "print(obj, type(obj), len(obj))"
   ]
  },
  {
   "cell_type": "markdown",
   "metadata": {
    "nbgrader": {
     "grade": false,
     "grade_id": "cell-80e84e688732ab98",
     "locked": true,
     "schema_version": 3,
     "solution": false,
     "task": false
    },
    "tags": []
   },
   "source": [
    "`obj` es de tipo `str` y por lo tanto es un arreglo de caracteres; cuando aplicamos la función `len(obj)` obtenemos el número de caractéres que contiene la cadena, en este caso $21$.\n",
    "\n",
    "La función `len()` no se puede aplicar a cualquier objeto. Observa lo que sucede en el siguiente ejemplo:"
   ]
  },
  {
   "cell_type": "code",
   "execution_count": null,
   "metadata": {
    "tags": []
   },
   "outputs": [],
   "source": [
    "p = 3.1416\n",
    "print(p, type(p), len(p))"
   ]
  },
  {
   "cell_type": "markdown",
   "metadata": {
    "nbgrader": {
     "grade": false,
     "grade_id": "cell-014026ef9f1a4866",
     "locked": true,
     "schema_version": 3,
     "solution": false,
     "task": false
    },
    "tags": []
   },
   "source": [
    "Cualquier función en Python, también es un objeto. Si ejecutas las celdas que siguen, obtendrás su tipo de objeto."
   ]
  },
  {
   "cell_type": "code",
   "execution_count": null,
   "metadata": {
    "tags": []
   },
   "outputs": [],
   "source": [
    "print"
   ]
  },
  {
   "cell_type": "code",
   "execution_count": null,
   "metadata": {
    "tags": []
   },
   "outputs": [],
   "source": [
    "print, len, type, id"
   ]
  },
  {
   "cell_type": "code",
   "execution_count": null,
   "metadata": {
    "tags": []
   },
   "outputs": [],
   "source": [
    "print(print, type)"
   ]
  },
  {
   "cell_type": "markdown",
   "metadata": {
    "nbgrader": {
     "grade": false,
     "grade_id": "cell-052210c7e5906a5e",
     "locked": true,
     "schema_version": 3,
     "solution": false,
     "task": false
    },
    "tags": []
   },
   "source": [
    "# Estado interno y comportamiento de los objetos\n",
    "\n",
    "Hemos observado que todo lo que se declara en Python es un objeto. ¿Qué características tiene un objeto?\n",
    "\n",
    "Los objetos tienen dos características importantes:\n",
    "1. estado interno y\n",
    "2. comportamiento.\n",
    "\n",
    "Veamos el siguiente ejemplo:"
   ]
  },
  {
   "cell_type": "code",
   "execution_count": null,
   "metadata": {
    "tags": []
   },
   "outputs": [],
   "source": [
    "saludo = 'Hola mundo pythonico'"
   ]
  },
  {
   "cell_type": "code",
   "execution_count": null,
   "metadata": {
    "tags": []
   },
   "outputs": [],
   "source": [
    "print(type(saludo))"
   ]
  },
  {
   "cell_type": "markdown",
   "metadata": {
    "nbgrader": {
     "grade": false,
     "grade_id": "cell-c7d9d0e8e8405fac",
     "locked": true,
     "schema_version": 3,
     "solution": false,
     "task": false
    },
    "tags": []
   },
   "source": [
    "A partir de ahora haremos referencia al objeto usando su etiqueta y en este caso diremos que el objeto `saludo` tiene comportamiento y estado interno, características que podemos conocer como sigue:\n",
    "\n",
    "- En la siguiente celda tenemos `saludo.`\n",
    "- Coloca el cursor justo después del punto y teclea [Tab]; obtendras una lista de funciones y atributos que se pueden usar sobre los objetos de tipo `str`.\n",
    "\n",
    "<div class=\"alert alert-danger\">\n",
    "<b>Cuidado.</b>\n",
    "No ejecutes la celda, porque obtendrás un error. Probablemente la lista de funciones y atributos tarde un poco en desplegarse, ten paciencia.\n",
    "</div>\n"
   ]
  },
  {
   "cell_type": "code",
   "execution_count": null,
   "metadata": {
    "tags": []
   },
   "outputs": [],
   "source": [
    "saludo."
   ]
  },
  {
   "cell_type": "markdown",
   "metadata": {
    "nbgrader": {
     "grade": false,
     "grade_id": "cell-50527eb8561dee5e",
     "locked": true,
     "schema_version": 3,
     "solution": false,
     "task": false
    },
    "tags": []
   },
   "source": [
    "Usemos por ejemplo la función `split()`:"
   ]
  },
  {
   "cell_type": "code",
   "execution_count": null,
   "metadata": {
    "tags": []
   },
   "outputs": [],
   "source": [
    "saludo.split()"
   ]
  },
  {
   "cell_type": "markdown",
   "metadata": {
    "nbgrader": {
     "grade": false,
     "grade_id": "cell-3002d416941220e0",
     "locked": true,
     "schema_version": 3,
     "solution": false,
     "task": false
    },
    "tags": []
   },
   "source": [
    "En el ejemplo anterior `split()` es una de las funciones que proporcionan comportamiento al objeto. Si quieres saber cómo funciona `split()` coloca el cursor en una letra de esta función y teclea [Shitf + Tab].\n",
    "\n",
    "Intenta ahora con la siguiente instrucción:\n",
    "\n",
    "```python\n",
    "saludo.center(30,'*')\n",
    "```\n",
    "\n",
    "Explica el resultado."
   ]
  },
  {
   "cell_type": "code",
   "execution_count": null,
   "metadata": {
    "tags": []
   },
   "outputs": [],
   "source": [
    "saludo.center(30,'*')"
   ]
  },
  {
   "cell_type": "markdown",
   "metadata": {
    "nbgrader": {
     "grade": false,
     "grade_id": "cell-a8c70eb0ec5f4c9b",
     "locked": true,
     "schema_version": 3,
     "solution": false,
     "task": false
    },
    "tags": []
   },
   "source": [
    "El estado interno de un objeto, es básicamente el valor que contienen sus atributos. En algunos casos podemos conocer ese estado interno usando la función `print()`, por ejemplo:"
   ]
  },
  {
   "cell_type": "code",
   "execution_count": null,
   "metadata": {
    "tags": []
   },
   "outputs": [],
   "source": [
    "print(saludo) # imprime toda la cadena."
   ]
  },
  {
   "cell_type": "code",
   "execution_count": null,
   "metadata": {
    "tags": []
   },
   "outputs": [],
   "source": [
    "print(saludo[6]) # imprime solo la casilla 6 de la cadena"
   ]
  },
  {
   "cell_type": "markdown",
   "metadata": {
    "nbgrader": {
     "grade": false,
     "grade_id": "cell-51c64edab0033bc1",
     "locked": true,
     "schema_version": 3,
     "solution": false,
     "task": false
    },
    "tags": []
   },
   "source": [
    "Veamos ahora lo que se puede hacer con otro tipo de objetos:"
   ]
  },
  {
   "cell_type": "code",
   "execution_count": null,
   "metadata": {
    "tags": []
   },
   "outputs": [],
   "source": [
    "p = 5 # un objeto de tipo int"
   ]
  },
  {
   "cell_type": "code",
   "execution_count": null,
   "metadata": {
    "tags": []
   },
   "outputs": [],
   "source": [
    "p.numerator"
   ]
  },
  {
   "cell_type": "code",
   "execution_count": null,
   "metadata": {
    "tags": []
   },
   "outputs": [],
   "source": [
    "p.denominator"
   ]
  },
  {
   "cell_type": "code",
   "execution_count": null,
   "metadata": {
    "tags": []
   },
   "outputs": [],
   "source": [
    "p = 3.1416 # un objeto de tipo float"
   ]
  },
  {
   "cell_type": "code",
   "execution_count": null,
   "metadata": {
    "tags": []
   },
   "outputs": [],
   "source": [
    "p.imag"
   ]
  },
  {
   "cell_type": "code",
   "execution_count": null,
   "metadata": {
    "tags": []
   },
   "outputs": [],
   "source": [
    "p.conjugate()"
   ]
  },
  {
   "cell_type": "code",
   "execution_count": null,
   "metadata": {
    "tags": []
   },
   "outputs": [],
   "source": [
    "p = 1.0 + 5.0j # un objeto de tipo complex"
   ]
  },
  {
   "cell_type": "code",
   "execution_count": null,
   "metadata": {
    "tags": []
   },
   "outputs": [],
   "source": [
    "print(type(p))"
   ]
  },
  {
   "cell_type": "code",
   "execution_count": null,
   "metadata": {
    "tags": []
   },
   "outputs": [],
   "source": [
    "p.imag"
   ]
  },
  {
   "cell_type": "markdown",
   "metadata": {
    "nbgrader": {
     "grade": false,
     "grade_id": "cell-5a269b66d0ac1460",
     "locked": true,
     "schema_version": 3,
     "solution": false,
     "task": false
    },
    "tags": []
   },
   "source": [
    "# Ejercicios"
   ]
  },
  {
   "cell_type": "markdown",
   "metadata": {
    "nbgrader": {
     "grade": false,
     "grade_id": "cell-b70eed4d439c6e79",
     "locked": true,
     "schema_version": 3,
     "solution": false,
     "task": false
    },
    "tags": []
   },
   "source": [
    "<div class=\"alert alert-info\" role=\"alert\">\n",
    "\n",
    "<p style=\"font-size:18px;\">\n",
    "<b>Instrucciones para realizar los <font color=\"DodgerBlue\">Ejercicios</font>.</b></p>\n",
    "\n",
    "<ul>\n",
    "<li> Durante el desarrollo de las notebooks encontrarás ejercicios que debes realizar para evaluar tus conocimientos. </li>\n",
    "\n",
    "<li> Estos ejercicios están resaltados en color azul y se describen con detalle. </li>\n",
    "    \n",
    "<li> En las celdas posteriores a la descripción encontrarás celdas con el texto:\n",
    "\n",
    "```python\n",
    "# YOUR CODE HERE\n",
    "raise NotImplementedError()\n",
    "```\n",
    "</li>\n",
    "    \n",
    "<li> Cuando ya estés listo para completar el ejercicio, debes eliminar el texto <font color=\"Green\"><b>raise</b></font> <font color=\"black\">NotImplementedError()</font> y enseguida escribir tu respuesta.\n",
    "</li>\n",
    "    \n",
    "<li> Una vez que completes tu respuesta, deberás ejecutar la celda donde hiciste la implementación.</li>\n",
    "    \n",
    "<li> Posteriormente encontrarás celdas con un texto similar al siguiente:\n",
    "    \n",
    "```python\n",
    "quizz.eval_numeric('1a',w)\n",
    "```\n",
    "</li>\n",
    "\n",
    "<li> Cuando ejecutes este tipo de celdas, obtendrás retroalimentación sobre el ejercicio que acabas de completar. </li>\n",
    "\n",
    "<li> En caso de que tu respuesta no sea correcta, obtendrás una ayuda para completar el ejercicio. En dicho caso, deberás regresar al lugar donde escribiste tu respuesta, corregir y volver a ejecutar las celdas correspondientes para revisar el nuevo resultado.\n",
    "</li>\n",
    "    \n",
    "<li> Siempre ejecuta todas las celdas que preceden al ejercicio, pues generalmente son requeridas para que funcione correctamente.</li>\n",
    "    \n",
    "</ul>\n",
    "\n",
    "</div>"
   ]
  },
  {
   "cell_type": "markdown",
   "metadata": {
    "nbgrader": {
     "grade": false,
     "grade_id": "cell-7969652f842d0003",
     "locked": true,
     "schema_version": 3,
     "solution": false,
     "task": false
    },
    "tags": []
   },
   "source": [
    "---\n",
    "## **<font color=\"DodgerBlue\">Ejercicio 1. </font>**\n",
    "\n",
    "* <font color=\"DarkBlue\">Define los siguientes objetos: `5`, `3.1416`, `1.0+1.0j`, `\"Macroentrenamiento en IA\"`, etiquetados con: `w`, `x`, `y`,`z`,  respectivamente. </font>\n",
    "* <font color=\"DarkBlue\">Usando la etiqueta `y` escribe la siguiente operación:`r = y + y.conjugate()`. </font>\n",
    "* <font color=\"DarkBlue\">Finalmente calcula la longitud de `z` usando la función `len()` y el resultado indentifícalo con la etiqueta `n` (es decir `n = len(z)`). </font>\n",
    "\n",
    "<font color=\"DarkBlue\">Realiza todo en una sola celda.</font>\n",
    "\n",
    "---"
   ]
  },
  {
   "cell_type": "code",
   "execution_count": 6,
   "metadata": {
    "nbgrader": {
     "grade": false,
     "grade_id": "cell-66be15a3a3383d6e",
     "locked": true,
     "schema_version": 3,
     "solution": false,
     "task": false
    },
    "tags": []
   },
   "outputs": [],
   "source": [
    "from macti.evaluation import Quizz\n",
    "quizz = Quizz('1','intro_MeIA_2023', '01_Basico', 'local')"
   ]
  },
  {
   "cell_type": "code",
   "execution_count": 2,
   "metadata": {
    "nbgrader": {
     "grade": false,
     "grade_id": "cell-2e8a42680ddde5d9",
     "locked": false,
     "schema_version": 3,
     "solution": true,
     "task": false
    },
    "tags": []
   },
   "outputs": [],
   "source": [
    "### BEGIN SOLUTION\n",
    "w = 5\n",
    "x = 3.1416\n",
    "y = 1.0+1.0j\n",
    "z = \"Macroentrenamiento en IA\"\n",
    "r = y + y.conjugate()\n",
    "n = len(z)\n",
    "\n",
    "# Almacenamiento de las respuestas\n",
    "#file_answer.write('1a', w, 'La respuesta correcta es: w = 5')\n",
    "#file_answer.write('1b', x, 'La respuesta correcta es: x = 3.1416')\n",
    "#file_answer.write('1c', r.real, 'La respuesta correcta es: r = y + y.conjugate()')\n",
    "#file_answer.write('1d', n, 'La respuesta correcta es: n = len(z)')\n",
    "### END SOLUTION"
   ]
  },
  {
   "cell_type": "code",
   "execution_count": 5,
   "metadata": {
    "nbgrader": {
     "grade": true,
     "grade_id": "cell-c2fb4a68a63c87a6",
     "locked": true,
     "points": 1,
     "schema_version": 3,
     "solution": false,
     "task": false
    },
    "tags": []
   },
   "outputs": [
    {
     "name": "stdout",
     "output_type": "stream",
     "text": [
      "\u001b[39m--------------------------------------------------------------------------------\n",
      "\u001b[32mTu resultado es correcto.\n",
      "\u001b[39m--------------------------------------------------------------------------------\n"
     ]
    }
   ],
   "source": [
    "quizz.eval_numeric('1a',w)"
   ]
  },
  {
   "cell_type": "code",
   "execution_count": 5,
   "metadata": {
    "nbgrader": {
     "grade": true,
     "grade_id": "cell-76f35eb069f9ef1e",
     "locked": true,
     "points": 1,
     "schema_version": 3,
     "solution": false,
     "task": false
    },
    "tags": []
   },
   "outputs": [
    {
     "name": "stdout",
     "output_type": "stream",
     "text": [
      "\u001b[39m--------------------------------------------------------------------------------\n",
      "\u001b[32mTu resultado es correcto.\n",
      "\u001b[39m--------------------------------------------------------------------------------\n"
     ]
    }
   ],
   "source": [
    "quizz.eval_numeric('1b',x)"
   ]
  },
  {
   "cell_type": "code",
   "execution_count": 6,
   "metadata": {
    "nbgrader": {
     "grade": true,
     "grade_id": "cell-e79211b3563eb748",
     "locked": true,
     "points": 1,
     "schema_version": 3,
     "solution": false,
     "task": false
    },
    "tags": []
   },
   "outputs": [
    {
     "name": "stdout",
     "output_type": "stream",
     "text": [
      "\u001b[39m--------------------------------------------------------------------------------\n",
      "\u001b[32mTu resultado es correcto.\n",
      "\u001b[39m--------------------------------------------------------------------------------\n"
     ]
    }
   ],
   "source": [
    "quizz.eval_numeric('1c',r.real)"
   ]
  },
  {
   "cell_type": "code",
   "execution_count": 7,
   "metadata": {
    "nbgrader": {
     "grade": true,
     "grade_id": "cell-fe08fb7cb9767da7",
     "locked": true,
     "points": 1,
     "schema_version": 3,
     "solution": false,
     "task": false
    },
    "tags": []
   },
   "outputs": [
    {
     "name": "stdout",
     "output_type": "stream",
     "text": [
      "\u001b[39m--------------------------------------------------------------------------------\n",
      "\u001b[32mTu resultado es correcto.\n",
      "\u001b[39m--------------------------------------------------------------------------------\n"
     ]
    }
   ],
   "source": [
    "quizz.eval_numeric('1d',n)"
   ]
  },
  {
   "cell_type": "markdown",
   "metadata": {
    "nbgrader": {
     "grade": false,
     "grade_id": "cell-1d04ab57b5f3ae57",
     "locked": true,
     "schema_version": 3,
     "solution": false,
     "task": false
    },
    "tags": []
   },
   "source": [
    "---\n",
    "## **<font color=\"DodgerBlue\">Ejercicio 2. </font>**\n",
    "\n",
    "<font color=\"DarkBlue\">¿Cuál de las etiquetas `w`, `x`, `y`, `z` corresponde a un objeto de tipo `<class 'complex'>`.</font>\n",
    "\n",
    "Escribe el nombre de la etiqueta en: `respuesta = `\n",
    "\n",
    "<div class=\"alert alert-danger\">\n",
    "<b>Cuidado.</b>\n",
    "El nombre de la etiqueta debe ir entre comillas por ejemplo: <font color=\"black\">respuesta = 'a'</font> .\n",
    "</div>\n",
    "\n",
    "---"
   ]
  },
  {
   "cell_type": "code",
   "execution_count": 18,
   "metadata": {
    "nbgrader": {
     "grade": false,
     "grade_id": "cell-4328ee4b6ed22541",
     "locked": false,
     "schema_version": 3,
     "solution": true,
     "task": false
    },
    "tags": []
   },
   "outputs": [],
   "source": [
    "### BEGIN SOLUTION\n",
    "respuesta = 'y'\n",
    "\n",
    "# Almacenamiento de las respuestas\n",
    "#file_answer.write('2', respuesta, \"Lo corresto es: respuesta = 'y'\")\n",
    "### END SOLUTION"
   ]
  },
  {
   "cell_type": "code",
   "execution_count": 19,
   "metadata": {
    "nbgrader": {
     "grade": true,
     "grade_id": "cell-95f17fe4ea944d67",
     "locked": true,
     "points": 1,
     "schema_version": 3,
     "solution": false,
     "task": false
    },
    "tags": []
   },
   "outputs": [
    {
     "name": "stdout",
     "output_type": "stream",
     "text": [
      "\u001b[39m--------------------------------------------------------------------------------\n",
      "\u001b[32mTu respuesta: \u001b[39my\u001b[32m, es correcta.\n",
      "\u001b[39m--------------------------------------------------------------------------------\n"
     ]
    }
   ],
   "source": [
    "quizz.eval_option('2', respuesta)"
   ]
  },
  {
   "cell_type": "markdown",
   "metadata": {
    "nbgrader": {
     "grade": false,
     "grade_id": "cell-dcbcbee6e7eb870e",
     "locked": true,
     "schema_version": 3,
     "solution": false,
     "task": false
    },
    "tags": []
   },
   "source": [
    "---\n",
    "## **<font color=\"DodgerBlue\">Ejercicio 3. </font>**\n",
    "\n",
    "<font color=\"DarkBlue\"> Busque en <a href=\"https://docs.python.org/3.10/library/functions.html\">Built-in Functions</a> una función que permita realizar el siguiente cálculo: $a^b$. Luego use dicha función con los siguientes valores `a = 2` y `b = 0.5` y almacene el valor en `c = ...`.</font>\n",
    "\n",
    "---"
   ]
  },
  {
   "cell_type": "code",
   "execution_count": 10,
   "metadata": {
    "nbgrader": {
     "grade": false,
     "grade_id": "cell-d57737dc1f7fbace",
     "locked": false,
     "schema_version": 3,
     "solution": true,
     "task": false
    },
    "tags": []
   },
   "outputs": [],
   "source": [
    "### BEGIN SOLUTION\n",
    "a = 2\n",
    "b = 0.5\n",
    "c = pow(a, b)\n",
    "\n",
    "# Almacenamiento de las respuestas\n",
    "#file_answer.write('3', c, 'La respuesta correcta es: c = pow(a,b)')\n",
    "### END SOLUTION"
   ]
  },
  {
   "cell_type": "code",
   "execution_count": 11,
   "metadata": {
    "nbgrader": {
     "grade": true,
     "grade_id": "cell-858ee742f434328e",
     "locked": true,
     "points": 1,
     "schema_version": 3,
     "solution": false,
     "task": false
    },
    "tags": []
   },
   "outputs": [
    {
     "name": "stdout",
     "output_type": "stream",
     "text": [
      "\u001b[39m--------------------------------------------------------------------------------\n",
      "\u001b[32mTu resultado es correcto.\n",
      "\u001b[39m--------------------------------------------------------------------------------\n"
     ]
    }
   ],
   "source": [
    "quizz.eval_numeric('3', c)"
   ]
  },
  {
   "cell_type": "code",
   "execution_count": null,
   "metadata": {},
   "outputs": [],
   "source": []
  }
 ],
 "metadata": {
  "kernelspec": {
   "display_name": "Python 3 (ipykernel)",
   "language": "python",
   "name": "python3"
  },
  "language_info": {
   "codemirror_mode": {
    "name": "ipython",
    "version": 3
   },
   "file_extension": ".py",
   "mimetype": "text/x-python",
   "name": "python",
   "nbconvert_exporter": "python",
   "pygments_lexer": "ipython3",
   "version": "3.11.3"
  }
 },
 "nbformat": 4,
 "nbformat_minor": 4
}
