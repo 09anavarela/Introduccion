{
 "cells": [
  {
   "cell_type": "markdown",
   "id": "a1189639-0b4d-40b7-8514-8e605ab8a08e",
   "metadata": {},
   "source": [
    "# Introducción a Python para IA.\n",
    "\n",
    " <p xmlns:cc=\"http://creativecommons.org/ns#\" xmlns:dct=\"http://purl.org/dc/terms/\"><a property=\"dct:title\" rel=\"cc:attributionURL\" href=\"https://github.com/luiggix/intro_MeIA_2023\">Introducción a Python para IA</a> by <span property=\"cc:attributionName\">Luis Miguel de la Cruz Salas</span> is licensed under <a href=\"http://creativecommons.org/licenses/by-nc-sa/4.0/?ref=chooser-v1\" target=\"_blank\" rel=\"license noopener noreferrer\" style=\"display:inline-block;\">CC BY-NC-SA 4.0<img style=\"height:22px!important;margin-left:3px;vertical-align:text-bottom;\" src=\"https://mirrors.creativecommons.org/presskit/icons/cc.svg?ref=chooser-v1\"><img style=\"height:22px!important;margin-left:3px;vertical-align:text-bottom;\" src=\"https://mirrors.creativecommons.org/presskit/icons/by.svg?ref=chooser-v1\"><img style=\"height:22px!important;margin-left:3px;vertical-align:text-bottom;\" src=\"https://mirrors.creativecommons.org/presskit/icons/nc.svg?ref=chooser-v1\"><img style=\"height:22px!important;margin-left:3px;vertical-align:text-bottom;\" src=\"https://mirrors.creativecommons.org/presskit/icons/sa.svg?ref=chooser-v1\"></a></p> "
   ]
  },
  {
   "cell_type": "markdown",
   "id": "204a0766-83d6-415c-a3a8-e6de83078d08",
   "metadata": {},
   "source": [
    "# Probabilidad y estadística\n",
    "\n",
    "Cuando hablamos de estadísitica, inevitablemente también debemos referirnos también a la probabilidad.\n",
    "\n",
    "La probabilidad contiene un mundo de teorías, que pueden ser complicadas, pero que tienen aplicación en la vida real.\n",
    "\n",
    "En el nivel más básico nos preguntamos: ¿Cuál es la probabilidad de que un evento suceda?\n",
    "\n",
    "Para calcular esta probabilidad, es necesario considerar todos los demás eventos que también podrían ocurrir.\n",
    "\n",
    "Dos ejemplos clásicos son el lanzamiento de una moneda o de un dado. En el primero pueden ocurrir solo dos eventos (en México decimos Águila o Sol), el segundo pueden ocurrir seis. A esto se le conoce como espacio muestral. \n",
    "\n",
    "Para calcular la probabilidad de que un evento ocurra, contamos las posibilidades de que realmente ocurra y dividimos el resultado entre el tamaño del espacio muestral. De esta manera en el caso del lanzamiento de una moneda tenemos un $50\\%$ de que ocurra uno de los eventos (la mitad Águila, la otra mitad Sol). En el caso del dado la probabilidad es de $16.6\\%$ ($1/6$). \n",
    "\n",
    "Observando los eventos que pueden ocurrir, la probabilidad nos proporciona un sistema para realizar predicciones de qué tan frecuente un evento puede ocurrir.\n",
    "\n",
    "Sin embargo, en la realidad puede pasar que cuando lances la moneda, en vez de obtener la mitad de Águila y la otra mitad de Sol, te encuentres con que la mayoría de las veces cae, por ejemplo Sol (y entonces pienses que la moneda está \"cargada\").\n",
    "\n",
    "Pero, regularmente el número de lanzamientos no es lo suficientemente grande para poder hacer esta suposición (me están haciendo trampa); lo que debes hacer para evitar pensar mal, es lanzar muchas veces la moneda (10, 100, 1000, ...) y empezar a recopilar datos; y luego usar la estadística para calcular las probabilidades con base en tus observaciones y checar que realmente se obtiene lo esperado (50-50, en el caso del lanzamiento de la moneda).\n",
    "\n",
    "Veamos el siguiente ejemplo:"
   ]
  },
  {
   "cell_type": "code",
   "execution_count": 72,
   "id": "0d206900-0d24-4fdc-b1aa-c663480d9f05",
   "metadata": {
    "tags": []
   },
   "outputs": [],
   "source": [
    "import random\n",
    "import math\n",
    "\n",
    "def lanzamiento(n):\n",
    "    sol = 0\n",
    "    aguila = 0\n",
    "    for i in range(n):\n",
    "        resultado = random.random()\n",
    "        if resultado <= 0.5:\n",
    "            sol += 1\n",
    "        else:\n",
    "            aguila +=1\n",
    "\n",
    "    return aguila/n, sol/n"
   ]
  },
  {
   "cell_type": "code",
   "execution_count": 73,
   "id": "53d69771-2d12-434d-b2ac-2949ec4f0b5d",
   "metadata": {
    "tags": []
   },
   "outputs": [
    {
     "data": {
      "text/plain": [
       "(0.5073, 0.4927)"
      ]
     },
     "execution_count": 73,
     "metadata": {},
     "output_type": "execute_result"
    }
   ],
   "source": [
    "lanzamiento(10000)"
   ]
  },
  {
   "cell_type": "markdown",
   "id": "0b3c7b54-68a0-411e-899a-564154397f03",
   "metadata": {},
   "source": [
    "Observa que el error con respecto del resultado ideal (50-50) se desvanece conforme aumentamos el número de lanzamientos. Podemos calcular una *desviación* con respecto del resultado esperado:"
   ]
  },
  {
   "cell_type": "code",
   "execution_count": 93,
   "id": "a96d86ac-3f27-4a18-9f1d-78ed35d707c9",
   "metadata": {
    "tags": []
   },
   "outputs": [
    {
     "name": "stdout",
     "output_type": "stream",
     "text": [
      "Águila : 0.51 (0.01) \t Sol : 0.49 (0.01)\n"
     ]
    }
   ],
   "source": [
    "a, s = lanzamiento(1000)\n",
    "\n",
    "print('Águila : {:.2f} ({:.2f}) \\t Sol : {:.2f} ({:.2f})'.format(a, math.fabs(a-0.5), s, math.fabs(s-0.5)))"
   ]
  },
  {
   "cell_type": "markdown",
   "id": "0aef81b2-32b7-4b96-964a-ae6e8f3d42fd",
   "metadata": {},
   "source": [
    "Entonces, la estadística nos permite calcular probabilidades a partir de observaciones del mundo real, siempre y cuando tengamos suficientes datos (*Big Data*).\n",
    "\n",
    "La probabilidad nos proporciona las teorías, mientras que la estadística nos provee de herramientas para probar esas teorías usando datos, particularmente a través de la media y la desviación estándar. \n",
    "\n",
    "Acabamos de demostrar lo anterior con el ejemplo del lanzamiento de una moneda, pero esto se puede aplicar a ejemplos que son mucho más complejos: \n",
    "* ¿Cuál es la probabilidad de que un meteorito caiga en el patio de mi casa? \n",
    "* ¿Cuál es la probabilidad de que me saque la lotería? \n",
    "* ¿Cuál es la probabilidad de que mi equipo favorito sea campeón? \n",
    "\n",
    "No es fácil responder a estas preguntas, a menos que tengamos mucha información, datos duros, para calcular estadísticas. Y entre más datos tengamos, nuestra confianza en esos cálculos será mayor."
   ]
  },
  {
   "cell_type": "markdown",
   "id": "eb1e006f-a0ab-4752-8028-2cfaee5bb8b4",
   "metadata": {},
   "source": [
    "## Variables aleatorias.\n",
    "\n",
    "Pero antes de comenzar a realizar cálculos estadísticos, tenemos que revisar ¿cuál es la naturaleza de nuestros datos?\n",
    "\n",
    "Nos referimos en este punto a las [**variables aleatorias**](https://es.wikipedia.org/wiki/Variable_aleatoria) como funciones que asignan un valor, usualmente numérico, al resultado de un experimento aleatorio. Lo que quiere decir que son los resultados que se presentan al azar en cualquier evento o experimento. Tenemos dos tipos:\n",
    "\n",
    "### Variable aleatoria discreta. \n",
    "\n",
    "Es aquella que solo toma ciertos valores (frecuentemente enteros) y que resulta principalmente del conteo realizado.  Una variable aleatoria discreta $X$ está definida por los valores que toma y sus probabilidades, las cuales deberán sumar 1.\n",
    "\n",
    "| $X$   | $P(X=x_i)$ |\n",
    "|-------|:----------:|\n",
    "|$x_1$  | $p_1$ |\n",
    "|$x_1$  | $p_2$ |\n",
    "|$\\dots$| $\\dots$ |\n",
    "|$x_n$  | $p_n$ |\n",
    "\n",
    "Se debe verificar que $\\sum_i p_i = 1$."
   ]
  },
  {
   "cell_type": "markdown",
   "id": "ad55f945-f502-4577-b23b-ce328f855e70",
   "metadata": {},
   "source": [
    "**Ejemplo 1**. El experimento de lanzar dos monedas tiene los siguientes resultados (espacio muestral): \n",
    "\n",
    "$$\n",
    "\\Omega = \\{ \\text{(Águila, Águila), (Águila, Sol), (Sol, Sol), (Sol, Águila)} \\}\n",
    "$$\n",
    "\n",
    "Definimos la variable aleatoria $X$ cómo el número de veces que cae $\\text{Águila}$. Podemos escribir $X: \\Omega \\rightarrow R_X$ tal que:\n",
    "\n",
    "$$\n",
    "\\begin{array}{ccccc}\n",
    " \\text{(Águila, Águila)} & \\text{(Águila, Sol)} & \\text{(Sol, Sol)} & \\text{(Sol, Águila)} \\\\\n",
    "\\downarrow & \\downarrow & \\downarrow & \\downarrow \\\\\n",
    " 2 & 1 & 0 & 1 \n",
    "\\end{array}\n",
    "$$\n",
    "\n",
    "Entonces, nuestra distribución de probabilidades (discreta) es:\n",
    "\n",
    "| $X$   | $P(X=x_i)$ |\n",
    "|-------|:-----------:|\n",
    "|$0$  | $0.25$ |\n",
    "|$1$  | $0.50$ |\n",
    "|$2$  | $0.25$ |"
   ]
  },
  {
   "cell_type": "markdown",
   "id": "c9d52388-96c6-4d17-82bd-4707835802c6",
   "metadata": {},
   "source": [
    "### Variable aleatoria continua. \n",
    "\n",
    "Es aquella que resulta generalmente de la medición y puede tomar cualquier valor dentro de un intervalo dado. Este tipo de variables están caracterizadas por una [**función de densidad de probabilidad**](https://es.wikipedia.org/wiki/Funci%C3%B3n_de_densidad_de_probabilidad), que es una generalización de la distribución de probabilidad del caso discreto."
   ]
  },
  {
   "cell_type": "markdown",
   "id": "8a67057f-067b-437c-8fb6-f76bcdae4755",
   "metadata": {},
   "source": [
    "**Ejemplo 2.**\n",
    "Considera el siguiente experimento: si nos paramos en una avenida y preguntamos a las mujeres su estatura, obtendremos resultados dentro de un intervalo bien definido $[e_{min}, e_{max}]$. El valor de esta variable puede ser cualquiera dentro de este intervalo (no es fácil contarlo). Tenemos entonces una variable aleatoria continua."
   ]
  },
  {
   "cell_type": "markdown",
   "id": "235ef814-16ab-4e5a-8a3b-f79b4778e6cd",
   "metadata": {},
   "source": [
    "## Espacio muestral y sesgo.\n",
    "\n",
    "La mayoría de los resultados en estadística que se obtienen de una población general, se extraen a partir del estudio de una [**muestra**](https://es.wikipedia.org/wiki/Muestra_estad%C3%ADstica) de esta población. \n",
    "\n",
    "Una muestra es un subconjunto de casos o individuos de una población. Es importante que la muestra sea representativa, pues\n",
    "si la muestra está **sesgada** tendrá poco interés y su utilidad será limitada. El [**sesgo**](https://es.wikipedia.org/wiki/Sesgo) es un peso desproporcionado a favor o en contra de una cosa, persona o grupo en comparación con otra, generalmente de una manera que se considera injusta. Muchas veces los sesgos provienen de contextos culturales. "
   ]
  },
  {
   "cell_type": "markdown",
   "id": "ef3b8ed6-6bc2-4c5f-ad32-3d1742742032",
   "metadata": {},
   "source": [
    "## Distribución de probabilidad.\n",
    "\n",
    "El proceso de determinar resultados, esto es, llegar a ciertas conclusiones a través de la estadística, a partir de una muestra no sesgada de la población general, se conoce como [**inferencia estadística**](https://es.wikipedia.org/wiki/Estad%C3%ADstica_inferencial). Las inferencias se basan con frecuencia en hacer suposiciones acerca de la forma en que los datos se distribuyen. Esta forma se conoce como [**distribuciones de probabilidad**](https://es.wikipedia.org/wiki/Distribuci%C3%B3n_de_probabilidad) de una variable aleatoria, y es una función que asigna a cada suceso definido sobre la variable, la probabilidad de que dicho suceso ocurra. "
   ]
  },
  {
   "cell_type": "markdown",
   "id": "e9f7b331-f35b-452d-b7a5-91985bf27287",
   "metadata": {},
   "source": [
    "### Distribuciones discretas\n",
    "\n",
    "Si la variable aleatoria es discreta (números enteros): la distribución será discreta.\n",
    "\n",
    "#### [Distribución binomial](https://es.wikipedia.org/wiki/Distribuci%C3%B3n_binomial) (eventos independientes).\n",
    "$$\n",
    "P(k) =  \\binom{n}{k} p^k q^{n-k} = \\frac{n!}{k!(n-k)!}p^k q^{n-k}\n",
    "$$\n",
    "donde $n$ es el número de muestras, $k \\in [0, 1, \\dots, n]$ el número de éxitos, $0 \\leq p \\leq 1$ probabilidad de éxito, $q = 1 - p$ probabilidad de falla."
   ]
  },
  {
   "cell_type": "code",
   "execution_count": 146,
   "id": "25fe1aec-14af-48c3-8326-71f9c50fbcc1",
   "metadata": {
    "tags": []
   },
   "outputs": [],
   "source": [
    "import scipy\n",
    "import matplotlib.pyplot as plt"
   ]
  },
  {
   "cell_type": "code",
   "execution_count": 176,
   "id": "a3f9cfc2-5eea-443b-81ea-6e897a45a265",
   "metadata": {
    "tags": []
   },
   "outputs": [
    {
     "data": {
      "text/plain": [
       "10000.0"
      ]
     },
     "execution_count": 176,
     "metadata": {},
     "output_type": "execute_result"
    }
   ],
   "source": [
    "scipy.stats.binom.ppf(1, 10000, 0.99)"
   ]
  },
  {
   "cell_type": "code",
   "execution_count": 167,
   "id": "4e2a6ac8-7ca0-4423-874e-0b2d8f3d222f",
   "metadata": {
    "tags": []
   },
   "outputs": [
    {
     "data": {
      "text/plain": [
       "array([0., 1., 2.])"
      ]
     },
     "execution_count": 167,
     "metadata": {},
     "output_type": "execute_result"
    }
   ],
   "source": [
    "x = np.arange(scipy.stats.binom.ppf(0.01, n, p),\n",
    "              scipy.stats.binom.ppf(0.99, n, p))\n",
    "x"
   ]
  },
  {
   "cell_type": "code",
   "execution_count": 160,
   "id": "81d68281-db7b-47e4-9436-2f3b92a0e3b8",
   "metadata": {
    "tags": []
   },
   "outputs": [
    {
     "data": {
      "image/png": "[encoded data removed]",
      "text/plain": [
       "<Figure size 640x480 with 1 Axes>"
      ]
     },
     "metadata": {},
     "output_type": "display_data"
    }
   ],
   "source": [
    "n = 20\n",
    "p = 0.04\n",
    "\n",
    "X = scipy.stats.binom(n,p)\n",
    "\n",
    "x = np.arange(scipy.stats.binom.ppf(0.01, n, p),\n",
    "              scipy.stats.binom.ppf(0.99, n, p))\n",
    "\n",
    "pmf = X.pmf(x)\n",
    "\n",
    "plt.scatter(x,pmf)\n",
    "plt.vlines(x,0,pmf, color='C1')\n",
    "plt.show()"
   ]
  },
  {
   "cell_type": "markdown",
   "id": "11f57d67-710b-4708-b55a-96fff71ebdad",
   "metadata": {},
   "source": [
    "\n",
    "    - [Distribución de Poisson](https://es.wikipedia.org/wiki/Distribuci%C3%B3n_de_Poisson) (eventos independientes).\n",
    "    - [Distribución hipergeométrica](https://es.wikipedia.org/wiki/Distribuci%C3%B3n_hipergeom%C3%A9trica) (eventos dependientes).\n",
    "\n",
    "* Variable aleatoria continua (números reales): la distribución que se generará será una distribución continua y las principales son:\n",
    "    - [Distribución normal o gaussiana](https://es.wikipedia.org/wiki/Distribuci%C3%B3n_normal).\n",
    "    - [Distribución de Cauchy](https://es.wikipedia.org/wiki/Distribuci%C3%B3n_de_Cauchy).\n",
    "    - [Distribución exponencial](https://es.wikipedia.org/wiki/Distribuci%C3%B3n_exponencial).\n",
    "\n",
    "\n",
    "\n",
    "\n",
    "### Distribución normal"
   ]
  },
  {
   "cell_type": "code",
   "execution_count": 107,
   "id": "9520e157-df35-4f9f-ace9-e1c9fd2da33f",
   "metadata": {
    "tags": []
   },
   "outputs": [
    {
     "data": {
      "image/png": "[encoded data removed]",
      "text/plain": [
       "<Figure size 1000x500 with 2 Axes>"
      ]
     },
     "metadata": {},
     "output_type": "display_data"
    }
   ],
   "source": [
    "import numpy as np\n",
    "from scipy.stats import norm\n",
    "import matplotlib.pyplot as plt\n",
    "\n",
    "\n",
    "x  = np.linspace(-3,3,100)\n",
    "# Calcula los valores de la función de densidad de probabilidad para x\n",
    "y = norm.pdf(x)\n",
    "\n",
    "plt.figure(figsize=(10,5))\n",
    "plt.subplot(121)\n",
    "plt.plot(x, y)  # Crea el objeto gráfico\n",
    "plt.title('Distribución Normal Teórica')  # Título del gráfico\n",
    "plt.ylabel('f(x)')  # Título del eje y\n",
    "plt.xlabel('X')  # Título del eje x\n",
    "\n",
    "# Graficando histograma\n",
    "mu, sigma = 0, 0.2 # media y desvio estandar\n",
    "datos = np.random.normal(mu, sigma, 1000) #creando muestra de datos\n",
    "\n",
    "plt.subplot(122)\n",
    "# histograma de distribución normal.\n",
    "plt.hist(datos, 20, fc='C2', ec='silver', alpha=0.75)\n",
    "plt.ylabel('frequencia')\n",
    "plt.xlabel('valores')\n",
    "plt.title('Distribución normal discreta')\n",
    "\n",
    "plt.tight_layout()\n",
    "plt.show()"
   ]
  },
  {
   "cell_type": "code",
   "execution_count": 1,
   "id": "cbe576ea-142a-468c-8f06-88cb1ab177ba",
   "metadata": {
    "tags": []
   },
   "outputs": [],
   "source": [
    "from scipy import stats\n",
    "import numpy as np\n",
    "import matplotlib.pyplot as plt"
   ]
  },
  {
   "cell_type": "markdown",
   "id": "6c2ab431-cbe0-4ac1-a39d-bc3a4fca29b2",
   "metadata": {},
   "source": [
    "# Teorema de Límite Central\n",
    "\n",
    "independientemente de la forma de la población, la forma de la distribución muestral de la media se aproxima a una curva normal,  si el tamaño de la muestra es lo suficientemente grande."
   ]
  },
  {
   "cell_type": "code",
   "execution_count": 2,
   "id": "917ac4cf-8b22-4c9f-a9f8-59b3b25034ac",
   "metadata": {
    "tags": []
   },
   "outputs": [],
   "source": [
    "def data_set(sesgo, cantidad, maximo):\n",
    "    datos_aleatorios = stats.skewnorm.rvs(sesgo, size=cantidad, random_state=1)\n",
    "    return datos_aleatorios"
   ]
  },
  {
   "cell_type": "code",
   "execution_count": 3,
   "id": "a9a65db7-8801-4dd0-8052-76134f64561e",
   "metadata": {
    "tags": []
   },
   "outputs": [],
   "source": [
    "dat1 = data_set(10, 10000, 100)"
   ]
  },
  {
   "cell_type": "code",
   "execution_count": 4,
   "id": "be76a9bb-8b5d-4912-9e7b-6ed2f31defa2",
   "metadata": {
    "tags": []
   },
   "outputs": [
    {
     "data": {
      "image/png": "[encoded data removed]",
      "text/plain": [
       "<Figure size 640x480 with 1 Axes>"
      ]
     },
     "metadata": {},
     "output_type": "display_data"
    }
   ],
   "source": [
    "plt.hist(dat1, bins=1000, alpha=0.5)\n",
    "plt.show()"
   ]
  },
  {
   "cell_type": "code",
   "execution_count": 5,
   "id": "4105e5ba-0e86-497b-b26b-83791d779b97",
   "metadata": {
    "tags": []
   },
   "outputs": [
    {
     "data": {
      "image/png": "[encoded data removed]",
      "text/plain": [
       "<Figure size 640x480 with 1 Axes>"
      ]
     },
     "metadata": {},
     "output_type": "display_data"
    }
   ],
   "source": [
    "tam_muestra = [1,2,3,5,10,100,1000,10000]\n",
    "num_muestra = 10000\n",
    "\n",
    "prom = np.array([])\n",
    "for i in range(num_muestra):\n",
    "    prom = np.append(prom, np.random.choice(dat1, 1000).mean())\n",
    "    \n",
    "plt.hist(prom, bins=1000, alpha=0.5)\n",
    "plt.show()"
   ]
  },
  {
   "cell_type": "markdown",
   "id": "fd26cb77-a891-4a90-911d-b4324e1cfe1f",
   "metadata": {},
   "source": [
    "Por otro lado, la [**función de densidad de probabilidad**](https://es.wikipedia.org/wiki/Funci%C3%B3n_de_densidad_de_probabilidad) de una variable aleatoria continnua, describe la probabilidad relativa según la cual una variable tomará un determinado valor. La probabilidad de que la variable aleatoria caiga en una región específica del espacio de posibilidades estará dada por la integral de la densidad de esta variable entre uno y otro límite de dicha región.\n",
    "\n",
    "La función de densidad de probabilidad (PDF por sus siglas en inglés) es positiva a lo largo de todo su dominio y su integral sobre todo el espacio es de valor unitario. "
   ]
  }
 ],
 "metadata": {
  "kernelspec": {
   "display_name": "Python 3 (ipykernel)",
   "language": "python",
   "name": "python3"
  },
  "language_info": {
   "codemirror_mode": {
    "name": "ipython",
    "version": 3
   },
   "file_extension": ".py",
   "mimetype": "text/x-python",
   "name": "python",
   "nbconvert_exporter": "python",
   "pygments_lexer": "ipython3",
   "version": "3.11.3"
  }
 },
 "nbformat": 4,
 "nbformat_minor": 5
}
