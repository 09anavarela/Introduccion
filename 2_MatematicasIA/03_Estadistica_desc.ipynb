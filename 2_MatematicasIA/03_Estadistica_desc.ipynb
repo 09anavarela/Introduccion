{
 "cells": [
  {
   "cell_type": "markdown",
   "id": "407b3a25-9a2b-49f6-972f-3a7f207a79be",
   "metadata": {},
   "source": [
    "# Introducción a Python para IA.\n",
    "\n",
    " <p xmlns:cc=\"http://creativecommons.org/ns#\" xmlns:dct=\"http://purl.org/dc/terms/\"><a property=\"dct:title\" rel=\"cc:attributionURL\" href=\"https://github.com/luiggix/intro_MeIA_2023\">Introducción a Python para IA</a> by <span property=\"cc:attributionName\">Luis Miguel de la Cruz Salas</span> is licensed under <a href=\"http://creativecommons.org/licenses/by-nc-sa/4.0/?ref=chooser-v1\" target=\"_blank\" rel=\"license noopener noreferrer\" style=\"display:inline-block;\">CC BY-NC-SA 4.0<img style=\"height:22px!important;margin-left:3px;vertical-align:text-bottom;\" src=\"https://mirrors.creativecommons.org/presskit/icons/cc.svg?ref=chooser-v1\"><img style=\"height:22px!important;margin-left:3px;vertical-align:text-bottom;\" src=\"https://mirrors.creativecommons.org/presskit/icons/by.svg?ref=chooser-v1\"><img style=\"height:22px!important;margin-left:3px;vertical-align:text-bottom;\" src=\"https://mirrors.creativecommons.org/presskit/icons/nc.svg?ref=chooser-v1\"><img style=\"height:22px!important;margin-left:3px;vertical-align:text-bottom;\" src=\"https://mirrors.creativecommons.org/presskit/icons/sa.svg?ref=chooser-v1\"></a></p> \n",
    "\n",
    "# Objetivos.\n",
    "\n",
    "Revisar los conceptos básicos de la estadística descriptiva usando ejemplos con Python."
   ]
  },
  {
   "cell_type": "markdown",
   "id": "cd9ca424-1b3d-4855-8ef4-5eb39e9aefdd",
   "metadata": {
    "tags": []
   },
   "source": [
    "# Importancia del análisis de datos.\n",
    "\n",
    "## El *Big Data*.\n",
    "\n",
    "Hoy en día el acceso a la información es más rápiso y directo que en décadas pasadas.\n",
    "\n",
    "<table class=\"default\">\n",
    "  <tr>\n",
    "    <td rowspan = \"8\">\n",
    "    <img src=\"https://cdn.statcdn.com/Infographic/images/normal/26031.jpeg\" width=400px></td>\n",
    "    <td>YB = 1000<sup>8</sup></td>\n",
    "  </tr>\n",
    "  <tr>\n",
    "    <td style=\"background-color:#FF7F50;\">ZB = 1000<sup>7</sup></td>\n",
    "  </tr>    \n",
    "  <tr>\n",
    "    <td>EB = 1000<sup>6</sup></td>\n",
    "  </tr>\n",
    "  <tr>\n",
    "    <td>PB = 1000<sup>5</sup></td>\n",
    "  </tr>\n",
    "  <tr>\n",
    "    <td>TB = 1000<sup>4</sup></td>\n",
    "  </tr>\n",
    "  <tr>\n",
    "    <td>GB = 1000<sup>3</sup></td>\n",
    "  </tr>\n",
    "  <tr>\n",
    "    <td>MB = 1000<sup>2</sup></td>\n",
    "  </tr>\n",
    "  <tr>\n",
    "    <td>kB = 1000</td>\n",
    "  </tr>\n",
    "</table>\n",
    "\n",
    "## ¿Por qué es importante el análisis de *Big Data*?\n",
    "\n",
    "* En los **negocios**: el análisis de grandes conjuntos de datos ayuda a las organizaciones a aprovechar sus datos y utilizarlos para identificar nuevas oportunidades. Eso, a su vez, conduce a movimientos de negocios más inteligentes, operaciones más eficientes, mayores ganancias y clientes más felices.\n",
    "\n",
    "* En la **ciencia**: el análisis de datos es una herramienta esencial porque permite descubrir patrones y relaciones en los datos, tomar decisiones basadas en hechos objetivos, validar hipótesis científicas, comunicar los resultados de manera clara y facilitar la replicación de los experimentos.\n",
    "\n",
    "En general, el análisis de datos permite **tomar decisiones basadas en hechos y datos objetivos**, en lugar de basarse únicamente en intuiciones o suposiciones."
   ]
  },
  {
   "cell_type": "markdown",
   "id": "fa6a6723-73d3-455c-80dc-e2fedde73428",
   "metadata": {},
   "source": [
    "## Conocimientos necesarios.\n",
    "\n",
    "¿Que conocimientos necesito para\n",
    "* **procesar un conjunto de datos de gran tamaño** y sacar el mayor provecho posible, y\n",
    "* intentar **conocer el futuro** únicamente con datos sobre el pasado\n",
    "\n",
    "?\n",
    "\n",
    "### Estadística.\n",
    "\n",
    "<p>Definición de <a href=\"https://es.wikipedia.org/wiki/Estad%C3%ADstica\">estadística</a> de Wikipedia:</p>\n",
    "<blockquote cite=\"https://es.wikipedia.org/wiki/Estad%C3%ADstica\">\n",
    "La estadística (la forma femenina del término alemán <i>Statistik</i>, derivado a su vez del italiano <i>statista</i>, ‘hombre de Estado’) es la disciplina que estudia la variabilidad, recolección, organización, análisis, interpretación y presentación de los datos, así como el proceso aleatorio que los genera siguiendo las leyes de la probabilidad.\n",
    "</blockquote>\n",
    "\n",
    "La estadística se puede dividir en dos ramas principales:\n",
    "* **Estadística descriptiva**. Nos permite describir un conjuto de datos a través de diferentes medidas: promedio, moda, mediana, desviación estándar, entre otras.\n",
    "\n",
    "* **Estadítica inferencial**. Podemos obtener conclusiones (establecer inferencias) útiles a partir de una gran cantidad de datos, usando un pequeño conjunto de esos datos, es decir de una muestra. Las inferencias nos permiten formular predicciones, identificar causas y efectos, y responder a las preguntas y todos aquellos elementos que requieran relacionar los datos con nuestro conocimiento o experiencia previa.\n",
    "\n",
    "\n",
    "### Aprendizaje de automático (*Machine Learnig*).\n",
    "\n",
    "Predicción a través de la creación de algoritmos que *aprenden* de los datos.\n",
    "\n",
    "<p>Definición de <a href=\"https://es.wikipedia.org/wiki/Aprendizaje_autom%C3%A1tico\">aprendizaje de automático</a> de Wikipedia:</p>\n",
    "<blockquote cite=\"https://es.wikipedia.org/wiki/Aprendizaje_autom%C3%A1tico\">\n",
    "El <b>aprendizaje automático</b> o <b>aprendizaje automatizado</b> o <b>aprendizaje de máquinas</b> o <b>aprendizaje computacional</b> (del inglés, <i>machine learning</i>) es el subcampo de las ciencias de la computación y una rama de la inteligencia artificial, cuyo objetivo es desarrollar técnicas que permitan que las computadoras aprendan. Se dice que un agente aprende cuando su <b>desempeño mejora con la experiencia</b> y mediante el <b>uso de datos</b>; es decir, cuando la habilidad no estaba presente en su genotipo o rasgos de nacimiento. <br><br>\n",
    "\"En el aprendizaje de máquinas un computador observa datos, construye un modelo basado en esos datos y utiliza ese modelo a la vez como una hipótesis acerca del mundo y una pieza de software que puede resolver problemas\". Russell and Norvig (2021). <i>Artificial Intelligence: A Modern Approach</i> (en inglés). Pearson. p. 651. ISBN 9780134610993.\n",
    "</blockquote>\n",
    "\n",
    "### Matemáticas básicas.\n",
    "\n",
    "Tanto la Estadística como el Aprendizaje de Máquina requieren de un conjunto de matemáticas básicas, sobre las cuales se desarrollan conceptos más avanzados. Particularmente:\n",
    "* Cálculo. \n",
    "* Álgebra lineal. \n",
    "* Análisis numérico."
   ]
  },
  {
   "cell_type": "markdown",
   "id": "b87ddeae-75e1-4c04-bc99-d5989529d3fe",
   "metadata": {},
   "source": [
    "### Python y su entorno para IA.\n",
    "\n",
    "Existen muchas herramientas computacionales para el análisis de información y creación de modelos de IA. Particularmente, el lenguaje de programación Python proporciona muchas herramientas de aprendizaje automático. Desde las más básicas para cálculo numérico ([numpy](https://numpy.org/)), cálculo simbólico ([sympy](https://www.sympy.org/en/index.html)), análisis de datos ([pandas](https://pandas.pydata.org/)) y graficación ([matplotlib](https://matplotlib.org/)) y otras más especializadas para redes neuronales ([scikit-learn](https://scikit-learn.org/stable/), [tensorflow](https://www.tensorflow.org/), [pytorch](https://pytorch.org/)).\n",
    "\n",
    "En Python tenemos todos los ingredientes para realizar aplicaciones de IA. "
   ]
  },
  {
   "cell_type": "markdown",
   "id": "67daf201-874f-49b4-9a0b-53184c838312",
   "metadata": {},
   "source": [
    "# Estadística descriptiva.\n",
    "\n",
    "En la era del *Big Data* y la IA, es importante saber cómo calcular las medidas estadísticas que describen los datos. Estas medidas dan un resumen de los datos y es posible calcularlas usando diferente bibliotecas de Python. Por ejemplo:\n",
    "\n",
    "* Módulo `statistics` con las funciones más importantes de estadística descriptiva.\n",
    "* Biblioteca `numpy` para manejar arreglos de manera eficiente y también hacer algunos cálculos estadísticos.\n",
    "* Biblioteca `scipy`que contiene funciones adicionales para trabajar con arreglos de `numpy`.\n",
    "* Biblioteca `pandas` para trabajar con conjuntos de datos etiquetados.\n",
    "* Biblioteca `matplotlib` para visualizar los datos.\n",
    "\n",
    "Para explicar los elementos principales de la estadística descriptiva, usaremos un conjunto de datos que crearemos artificialmente. \n",
    "\n",
    "## Biblioteca a utilizar."
   ]
  },
  {
   "cell_type": "code",
   "execution_count": 17,
   "id": "bb537fad-a984-4c2f-bc26-ce4fd9a31115",
   "metadata": {
    "tags": []
   },
   "outputs": [],
   "source": [
    "import math\n",
    "import statistics\n",
    "import numpy as np\n",
    "import scipy.stats\n",
    "import pandas as pd\n",
    "import matplotlib.pyplot as plt\n",
    "import macti.visual as mvis"
   ]
  },
  {
   "cell_type": "markdown",
   "id": "81298b1a-cb9d-4556-ba98-db8a15359bcc",
   "metadata": {},
   "source": [
    "## Creación de un conjunto de datos."
   ]
  },
  {
   "cell_type": "code",
   "execution_count": 260,
   "id": "78e70dd8-0997-486d-b614-80dbbdcaf6e2",
   "metadata": {
    "tags": []
   },
   "outputs": [],
   "source": [
    "N = 20 # cantidad de datos\n",
    "L = 10 # dominio de estudio de los datos, de 0 a L\n",
    "\n",
    "# Generación de un conjunto de datos\n",
    "x = np.linspace(0,L,N) \n",
    "y = x + np.random.randn(N)"
   ]
  },
  {
   "cell_type": "code",
   "execution_count": 261,
   "id": "c2b5e800-0f9a-4cdf-9281-dc804cef8cc1",
   "metadata": {
    "tags": []
   },
   "outputs": [
    {
     "name": "stdout",
     "output_type": "stream",
     "text": [
      "[ 0.          0.52631579  1.05263158  1.57894737  2.10526316  2.63157895\n",
      "  3.15789474  3.68421053  4.21052632  4.73684211  5.26315789  5.78947368\n",
      "  6.31578947  6.84210526  7.36842105  7.89473684  8.42105263  8.94736842\n",
      "  9.47368421 10.        ]\n",
      "[-0.64373057  3.1754156   1.5907411   1.16815431  2.33550375  2.81285813\n",
      "  3.40148392  3.72122899  4.31361579  4.84743764  4.16825261  5.78544531\n",
      "  6.499626    7.59609424  7.56793149  7.93019919  5.96994971 10.90398814\n",
      "  8.75849416  8.76042413]\n"
     ]
    }
   ],
   "source": [
    "print(x)\n",
    "print(y)"
   ]
  },
  {
   "cell_type": "markdown",
   "id": "dea30d35-e9d4-4519-8e48-106854ada438",
   "metadata": {},
   "source": [
    "## Análisis exploratorio.\n",
    "\n",
    "### Graficación usando `matplotlib`."
   ]
  },
  {
   "cell_type": "code",
   "execution_count": 13,
   "id": "f52e9da8-a012-4062-a6ca-ba5244733c55",
   "metadata": {
    "tags": []
   },
   "outputs": [
    {
     "data": {
      "image/png": "[encoded data removed]",
      "text/plain": [
       "<Figure size 512x384 with 1 Axes>"
      ]
     },
     "metadata": {},
     "output_type": "display_data"
    }
   ],
   "source": [
    "plt.scatter(x,y)\n",
    "plt.xlabel('$x$')\n",
    "plt.ylabel('$y$')\n",
    "plt.show()"
   ]
  },
  {
   "cell_type": "markdown",
   "id": "84817bca-54e7-46ff-a7a4-429d8cda7449",
   "metadata": {},
   "source": [
    "### Graficación usando `pandas.DataFrame.plot()` ."
   ]
  },
  {
   "cell_type": "code",
   "execution_count": 14,
   "id": "e7e643d6-5e20-4f30-af97-1aff81233ed4",
   "metadata": {
    "tags": []
   },
   "outputs": [
    {
     "data": {
      "text/html": [
       "<div>\n",
       "<style scoped>\n",
       "    .dataframe tbody tr th:only-of-type {\n",
       "        vertical-align: middle;\n",
       "    }\n",
       "\n",
       "    .dataframe tbody tr th {\n",
       "        vertical-align: top;\n",
       "    }\n",
       "\n",
       "    .dataframe thead th {\n",
       "        text-align: right;\n",
       "    }\n",
       "</style>\n",
       "<table border=\"1\" class=\"dataframe\">\n",
       "  <thead>\n",
       "    <tr style=\"text-align: right;\">\n",
       "      <th></th>\n",
       "      <th>x</th>\n",
       "      <th>y</th>\n",
       "    </tr>\n",
       "  </thead>\n",
       "  <tbody>\n",
       "    <tr>\n",
       "      <th>0</th>\n",
       "      <td>0.000000</td>\n",
       "      <td>1.318547</td>\n",
       "    </tr>\n",
       "    <tr>\n",
       "      <th>1</th>\n",
       "      <td>0.526316</td>\n",
       "      <td>2.463734</td>\n",
       "    </tr>\n",
       "    <tr>\n",
       "      <th>2</th>\n",
       "      <td>1.052632</td>\n",
       "      <td>3.770937</td>\n",
       "    </tr>\n",
       "    <tr>\n",
       "      <th>3</th>\n",
       "      <td>1.578947</td>\n",
       "      <td>0.560777</td>\n",
       "    </tr>\n",
       "    <tr>\n",
       "      <th>4</th>\n",
       "      <td>2.105263</td>\n",
       "      <td>3.395524</td>\n",
       "    </tr>\n",
       "    <tr>\n",
       "      <th>5</th>\n",
       "      <td>2.631579</td>\n",
       "      <td>1.674903</td>\n",
       "    </tr>\n",
       "    <tr>\n",
       "      <th>6</th>\n",
       "      <td>3.157895</td>\n",
       "      <td>2.463054</td>\n",
       "    </tr>\n",
       "    <tr>\n",
       "      <th>7</th>\n",
       "      <td>3.684211</td>\n",
       "      <td>4.795944</td>\n",
       "    </tr>\n",
       "    <tr>\n",
       "      <th>8</th>\n",
       "      <td>4.210526</td>\n",
       "      <td>3.631689</td>\n",
       "    </tr>\n",
       "    <tr>\n",
       "      <th>9</th>\n",
       "      <td>4.736842</td>\n",
       "      <td>4.799815</td>\n",
       "    </tr>\n",
       "    <tr>\n",
       "      <th>10</th>\n",
       "      <td>5.263158</td>\n",
       "      <td>5.872209</td>\n",
       "    </tr>\n",
       "    <tr>\n",
       "      <th>11</th>\n",
       "      <td>5.789474</td>\n",
       "      <td>7.037812</td>\n",
       "    </tr>\n",
       "    <tr>\n",
       "      <th>12</th>\n",
       "      <td>6.315789</td>\n",
       "      <td>4.663631</td>\n",
       "    </tr>\n",
       "    <tr>\n",
       "      <th>13</th>\n",
       "      <td>6.842105</td>\n",
       "      <td>7.176598</td>\n",
       "    </tr>\n",
       "    <tr>\n",
       "      <th>14</th>\n",
       "      <td>7.368421</td>\n",
       "      <td>6.743557</td>\n",
       "    </tr>\n",
       "    <tr>\n",
       "      <th>15</th>\n",
       "      <td>7.894737</td>\n",
       "      <td>6.027292</td>\n",
       "    </tr>\n",
       "    <tr>\n",
       "      <th>16</th>\n",
       "      <td>8.421053</td>\n",
       "      <td>8.729888</td>\n",
       "    </tr>\n",
       "    <tr>\n",
       "      <th>17</th>\n",
       "      <td>8.947368</td>\n",
       "      <td>9.388231</td>\n",
       "    </tr>\n",
       "    <tr>\n",
       "      <th>18</th>\n",
       "      <td>9.473684</td>\n",
       "      <td>8.379017</td>\n",
       "    </tr>\n",
       "    <tr>\n",
       "      <th>19</th>\n",
       "      <td>10.000000</td>\n",
       "      <td>10.673971</td>\n",
       "    </tr>\n",
       "  </tbody>\n",
       "</table>\n",
       "</div>"
      ],
      "text/plain": [
       "            x          y\n",
       "0    0.000000   1.318547\n",
       "1    0.526316   2.463734\n",
       "2    1.052632   3.770937\n",
       "3    1.578947   0.560777\n",
       "4    2.105263   3.395524\n",
       "5    2.631579   1.674903\n",
       "6    3.157895   2.463054\n",
       "7    3.684211   4.795944\n",
       "8    4.210526   3.631689\n",
       "9    4.736842   4.799815\n",
       "10   5.263158   5.872209\n",
       "11   5.789474   7.037812\n",
       "12   6.315789   4.663631\n",
       "13   6.842105   7.176598\n",
       "14   7.368421   6.743557\n",
       "15   7.894737   6.027292\n",
       "16   8.421053   8.729888\n",
       "17   8.947368   9.388231\n",
       "18   9.473684   8.379017\n",
       "19  10.000000  10.673971"
      ]
     },
     "execution_count": 14,
     "metadata": {},
     "output_type": "execute_result"
    }
   ],
   "source": [
    "# Almacenamiento de datos en un Dataframe\n",
    "df = pd.DataFrame(np.array([x, y]).T, columns=['x', 'y'])\n",
    "df"
   ]
  },
  {
   "cell_type": "code",
   "execution_count": 15,
   "id": "2f450f40-bb9c-4033-ac03-4802a974bb4c",
   "metadata": {
    "tags": []
   },
   "outputs": [
    {
     "data": {
      "image/png": "[encoded data removed]",
      "text/plain": [
       "<Figure size 512x384 with 1 Axes>"
      ]
     },
     "metadata": {},
     "output_type": "display_data"
    }
   ],
   "source": [
    "df.plot(x='x', y = 'y', kind='scatter')\n",
    "plt.show()"
   ]
  },
  {
   "cell_type": "markdown",
   "id": "be48a427-3689-4b41-9e4c-0a7f61226d52",
   "metadata": {},
   "source": [
    "### Graficación usando `macti.visual` ."
   ]
  },
  {
   "cell_type": "code",
   "execution_count": 18,
   "id": "d497f03b-e5f1-4959-b1a6-48503141b39d",
   "metadata": {
    "tags": []
   },
   "outputs": [
    {
     "data": {
      "image/png": "[encoded data removed]",
      "text/plain": [
       "<Figure size 512x384 with 1 Axes>"
      ]
     },
     "metadata": {},
     "output_type": "display_data"
    }
   ],
   "source": [
    "v = mvis.Plotter(1,1)\n",
    "ax = v.axes(1)\n",
    "v.scatter(1,df.x, df.y)\n",
    "ax.set_xlabel('$x$')\n",
    "ax.set_ylabel('$y$')\n",
    "plt.show()"
   ]
  },
  {
   "cell_type": "markdown",
   "id": "8c9b3f6c-00ef-4036-b15d-4f1f90330eae",
   "metadata": {},
   "source": [
    "## Cálculo de estadísticas.\n",
    "\n",
    "### Medidas de tendencia central.\n",
    "\n",
    "#### Media\n",
    "\n",
    "$$\n",
    "\\bar{x} = \\frac{1}{n} \\sum_{i=1}^n x_i\n",
    "$$"
   ]
  },
  {
   "cell_type": "code",
   "execution_count": 19,
   "id": "5c58c2c8-5c8c-4e0d-b7b6-1f6688c96c64",
   "metadata": {
    "tags": []
   },
   "outputs": [
    {
     "data": {
      "text/plain": [
       "5.178356452462922"
      ]
     },
     "execution_count": 19,
     "metadata": {},
     "output_type": "execute_result"
    }
   ],
   "source": [
    "# Usando funciones simples de Python\n",
    "sum(df.y) / len(df.y)"
   ]
  },
  {
   "cell_type": "code",
   "execution_count": 21,
   "id": "f98b3cc2-c5f1-456e-a2f6-a2f6ceb7041b",
   "metadata": {
    "tags": []
   },
   "outputs": [
    {
     "data": {
      "text/plain": [
       "5.178356452462922"
      ]
     },
     "execution_count": 21,
     "metadata": {},
     "output_type": "execute_result"
    }
   ],
   "source": [
    "# Usando statistics\n",
    "statistics.mean(df.y)"
   ]
  },
  {
   "cell_type": "code",
   "execution_count": 22,
   "id": "1d4859ef-d61e-4637-bfb8-a7211fdb8b71",
   "metadata": {
    "tags": []
   },
   "outputs": [
    {
     "data": {
      "text/plain": [
       "5.178356452462922"
      ]
     },
     "execution_count": 22,
     "metadata": {},
     "output_type": "execute_result"
    }
   ],
   "source": [
    "# Usando numpy\n",
    "np.mean(df.y)"
   ]
  },
  {
   "cell_type": "code",
   "execution_count": 24,
   "id": "00b40885-745f-4faa-8f69-100bb07cebd9",
   "metadata": {
    "tags": []
   },
   "outputs": [
    {
     "data": {
      "text/plain": [
       "x    5.000000\n",
       "y    5.178356\n",
       "dtype: float64"
      ]
     },
     "execution_count": 24,
     "metadata": {},
     "output_type": "execute_result"
    }
   ],
   "source": [
    "# Usando pandas\n",
    "df.mean()"
   ]
  },
  {
   "cell_type": "code",
   "execution_count": 25,
   "id": "7b074221-1a52-4998-a051-ea1238f08b85",
   "metadata": {
    "tags": []
   },
   "outputs": [
    {
     "data": {
      "text/plain": [
       "5.178356452462922"
      ]
     },
     "execution_count": 25,
     "metadata": {},
     "output_type": "execute_result"
    }
   ],
   "source": [
    "df.y.mean()"
   ]
  },
  {
   "cell_type": "markdown",
   "id": "73891803-ade1-4803-9bcc-09c60da7fa0a",
   "metadata": {},
   "source": [
    "<div class=\"alert alert-info\" role=\"alert\">\n",
    "Existen también funciones para calcular la media ponderada. Véase  np.average().\n",
    "</div>"
   ]
  },
  {
   "cell_type": "markdown",
   "id": "ee030c36-e039-495f-8670-63c0753d2278",
   "metadata": {},
   "source": [
    "#### Media armónica\n",
    "\n",
    "Suele ser empleada para promediar velocidades, tiempos, rendimientos, entre otros. La media armónica resulta poco influida por la existencia de determinados valores mucho más grandes que el conjunto de los otros, siendo en cambio sensible a valores mucho más pequeños que el conjunto. \n",
    "\n",
    "$$\n",
    "H = \\frac{n}{ \\sum_{i=1}^n \\frac{1}{x_i}}\n",
    "$$"
   ]
  },
  {
   "cell_type": "code",
   "execution_count": 37,
   "id": "4ff5e976-663a-4dc9-a7f6-c26f3dacd88d",
   "metadata": {
    "tags": []
   },
   "outputs": [
    {
     "data": {
      "text/plain": [
       "3.022548008832399"
      ]
     },
     "execution_count": 37,
     "metadata": {},
     "output_type": "execute_result"
    }
   ],
   "source": [
    "# Usando funciones simples de Python\n",
    "len(df.y) / sum(1 / item for item in df.y)"
   ]
  },
  {
   "cell_type": "code",
   "execution_count": 38,
   "id": "5b6856c9-f3e1-4bd2-a9c3-f08fd9556833",
   "metadata": {
    "tags": []
   },
   "outputs": [
    {
     "data": {
      "text/plain": [
       "3.022548008832399"
      ]
     },
     "execution_count": 38,
     "metadata": {},
     "output_type": "execute_result"
    }
   ],
   "source": [
    "# Usando statistics\n",
    "statistics.harmonic_mean(df.y)"
   ]
  },
  {
   "cell_type": "code",
   "execution_count": 39,
   "id": "d263cc50-372f-4eb2-817a-2a90fc939fac",
   "metadata": {
    "tags": []
   },
   "outputs": [
    {
     "data": {
      "text/plain": [
       "3.022548008832399"
      ]
     },
     "execution_count": 39,
     "metadata": {},
     "output_type": "execute_result"
    }
   ],
   "source": [
    "# Usando scipy\n",
    "scipy.stats.hmean(df.y)"
   ]
  },
  {
   "cell_type": "markdown",
   "id": "a9585955-f528-410e-8b4d-0c604753ac4f",
   "metadata": {},
   "source": [
    "#### Media geométrica\n",
    "\n",
    "Es recomendada para datos de progresión geométrica, para promediar razones, interés compuesto y números índice. \n",
    "\n",
    "$$\n",
    "G = \\sqrt[n]{\\prod_{i=1}^n x_i}\n",
    "$$"
   ]
  },
  {
   "cell_type": "code",
   "execution_count": 40,
   "id": "2e03fce8-87e1-44ba-9c5c-9b8c439f88ba",
   "metadata": {
    "tags": []
   },
   "outputs": [
    {
     "name": "stdout",
     "output_type": "stream",
     "text": [
      "4.226934822586619\n"
     ]
    }
   ],
   "source": [
    "# Usando Python\n",
    "G = 1\n",
    "for i in df.y:\n",
    "    G *= i\n",
    "G **= (1/len(df.y))\n",
    "\n",
    "print(G)"
   ]
  },
  {
   "cell_type": "code",
   "execution_count": 41,
   "id": "9d135b6b-27a0-4823-b318-5037a852c5cb",
   "metadata": {
    "tags": []
   },
   "outputs": [
    {
     "data": {
      "text/plain": [
       "4.226934822586619"
      ]
     },
     "execution_count": 41,
     "metadata": {},
     "output_type": "execute_result"
    }
   ],
   "source": [
    "# Usando statistics\n",
    "statistics.geometric_mean(df.y)"
   ]
  },
  {
   "cell_type": "code",
   "execution_count": 42,
   "id": "88d5f42c-d606-4c01-bdb5-6a853028ffdc",
   "metadata": {
    "tags": []
   },
   "outputs": [
    {
     "data": {
      "text/plain": [
       "4.226934822586619"
      ]
     },
     "execution_count": 42,
     "metadata": {},
     "output_type": "execute_result"
    }
   ],
   "source": [
    "# Usando scipy\n",
    "scipy.stats.gmean(df.y)"
   ]
  },
  {
   "cell_type": "code",
   "execution_count": 63,
   "id": "15862128-d7ab-42ed-b431-850fbbaf260d",
   "metadata": {
    "tags": []
   },
   "outputs": [
    {
     "data": {
      "text/plain": [
       "<matplotlib.legend.Legend at 0x7f9cbb864250>"
      ]
     },
     "execution_count": 63,
     "metadata": {},
     "output_type": "execute_result"
    },
    {
     "data": {
      "image/png": "[encoded data removed]",
      "text/plain": [
       "<Figure size 512x384 with 1 Axes>"
      ]
     },
     "metadata": {},
     "output_type": "display_data"
    }
   ],
   "source": [
    "plt.plot(df.y, np.zeros(len(df.y)), 'o')\n",
    "plt.scatter(statistics.mean(df.y), 0, fc='C1', ec='gray', alpha=0.75, s = 75, label='Media') \n",
    "plt.scatter(statistics.harmonic_mean(df.y), 0, fc='C2', ec='gray', alpha=0.75, s = 75, label='Media Armónica') \n",
    "plt.scatter(statistics.geometric_mean(df.y), 0, fc='C3', ec='gray', alpha=0.75, s = 75, label='Media Geométrica') \n",
    "plt.ylim(-0.5, 0.5)\n",
    "plt.legend()"
   ]
  },
  {
   "cell_type": "markdown",
   "id": "67335710-e576-4135-9a83-1e2b4b528f3e",
   "metadata": {},
   "source": [
    "#### Mediana\n",
    "\n",
    "Es el elemento medio de un conjunto de datos ordenado.\n",
    "\n",
    "La media se ve afectada por valores atípicos, mientras que la mediana es afectada poco o nada por ese tipo de elementos."
   ]
  },
  {
   "cell_type": "code",
   "execution_count": 64,
   "id": "0ef852f3-295e-4ee2-92b3-c39d2177b2e2",
   "metadata": {
    "tags": []
   },
   "outputs": [
    {
     "data": {
      "text/plain": [
       "4.797879139163447"
      ]
     },
     "execution_count": 64,
     "metadata": {},
     "output_type": "execute_result"
    }
   ],
   "source": [
    "# Usando statistics\n",
    "statistics.median(df.y)"
   ]
  },
  {
   "cell_type": "code",
   "execution_count": 74,
   "id": "7c8942a9-52e5-485f-8493-51617a9c4879",
   "metadata": {
    "tags": []
   },
   "outputs": [
    {
     "data": {
      "text/plain": [
       "array([  1.31854663,   2.46373364,   3.770937  ,   0.56077694,\n",
       "         3.39552354,   1.67490328,   2.46305352,   4.79594355,\n",
       "         3.63168936,   4.79981473,   5.87220933,   7.03781187,\n",
       "         4.66363105,   7.17659785,   6.7435569 ,   6.02729161,\n",
       "         8.72988818,   9.38823141,   8.3790172 ,  10.67397146,\n",
       "       300.        ])"
      ]
     },
     "execution_count": 74,
     "metadata": {},
     "output_type": "execute_result"
    }
   ],
   "source": [
    "np.append(y, 300)"
   ]
  },
  {
   "cell_type": "code",
   "execution_count": 75,
   "id": "84073e3a-30ab-49fa-8a67-0698972ab2e4",
   "metadata": {
    "tags": []
   },
   "outputs": [
    {
     "data": {
      "text/plain": [
       "4.799814730685031"
      ]
     },
     "execution_count": 75,
     "metadata": {},
     "output_type": "execute_result"
    }
   ],
   "source": [
    "statistics.median(np.append(y, 300))"
   ]
  },
  {
   "cell_type": "code",
   "execution_count": 76,
   "id": "8539c67a-ea06-4a58-9c23-a7eddec060c8",
   "metadata": {
    "tags": []
   },
   "outputs": [
    {
     "data": {
      "text/plain": [
       "19.217482335678973"
      ]
     },
     "execution_count": 76,
     "metadata": {},
     "output_type": "execute_result"
    }
   ],
   "source": [
    "statistics.mean(np.append(y, 300))"
   ]
  },
  {
   "cell_type": "code",
   "execution_count": 79,
   "id": "8fa4c465-d69c-42e7-94c2-da8dedb2d8b9",
   "metadata": {
    "tags": []
   },
   "outputs": [
    {
     "data": {
      "text/plain": [
       "4.797879139163447"
      ]
     },
     "execution_count": 79,
     "metadata": {},
     "output_type": "execute_result"
    }
   ],
   "source": [
    "# Usando numpy\n",
    "np.median(y)"
   ]
  },
  {
   "cell_type": "code",
   "execution_count": 107,
   "id": "9fc90aa9-45a7-4b3d-b316-940c847a8847",
   "metadata": {
    "tags": []
   },
   "outputs": [
    {
     "data": {
      "text/plain": [
       "4.797879139163447"
      ]
     },
     "execution_count": 107,
     "metadata": {},
     "output_type": "execute_result"
    }
   ],
   "source": [
    "# Usando pandas\n",
    "df.y.median()"
   ]
  },
  {
   "cell_type": "markdown",
   "id": "16c15e4d-4933-49d1-b8ae-7cbbc1d8e399",
   "metadata": {},
   "source": [
    "#### Moda\n",
    "Valor del conjunto de datos que ocurre con más frecuencia."
   ]
  },
  {
   "cell_type": "code",
   "execution_count": 102,
   "id": "b8dff75f-050a-4a17-99c3-f4722893de30",
   "metadata": {
    "tags": []
   },
   "outputs": [
    {
     "data": {
      "text/plain": [
       "7"
      ]
     },
     "execution_count": 102,
     "metadata": {},
     "output_type": "execute_result"
    }
   ],
   "source": [
    "# Usando statistics\n",
    "a = np.array([7,2,3,4,2,6,2,7,7,4,2,5,6,7,8,2,2,9,7,3,7])\n",
    "statistics.mode(a)"
   ]
  },
  {
   "cell_type": "code",
   "execution_count": 103,
   "id": "e48e413f-7b65-4114-b99f-12e4d7b881b8",
   "metadata": {
    "tags": []
   },
   "outputs": [
    {
     "data": {
      "text/plain": [
       "[7, 2]"
      ]
     },
     "execution_count": 103,
     "metadata": {},
     "output_type": "execute_result"
    }
   ],
   "source": [
    "statistics.multimode(a)"
   ]
  },
  {
   "cell_type": "code",
   "execution_count": 110,
   "id": "40d7de5c-c05d-41ce-93e9-69e281238033",
   "metadata": {
    "tags": []
   },
   "outputs": [
    {
     "data": {
      "text/plain": [
       "ModeResult(mode=array([2]), count=array([6]))"
      ]
     },
     "execution_count": 110,
     "metadata": {},
     "output_type": "execute_result"
    }
   ],
   "source": [
    "# Usando scipy\n",
    "scipy.stats.mode(a, keepdims=True)"
   ]
  },
  {
   "cell_type": "code",
   "execution_count": 112,
   "id": "e8dc3068-0218-476c-bb50-ce5497e36da1",
   "metadata": {
    "tags": []
   },
   "outputs": [
    {
     "data": {
      "text/plain": [
       "0    2\n",
       "1    7\n",
       "dtype: int64"
      ]
     },
     "execution_count": 112,
     "metadata": {},
     "output_type": "execute_result"
    }
   ],
   "source": [
    "# Usando pandas\n",
    "aS = pd.Series(a)\n",
    "aS.mode()"
   ]
  },
  {
   "cell_type": "markdown",
   "id": "f658114d-bd61-4e72-8585-8226fd7c27e1",
   "metadata": {},
   "source": [
    "### Medidas de variabilidad\n",
    "\n",
    "Estas medidas permiten determinar que tan dispersos se encuentran los datos."
   ]
  },
  {
   "cell_type": "markdown",
   "id": "f2a6e6e2-f7b3-4a88-8665-d0c3c848c4c6",
   "metadata": {},
   "source": [
    "#### Varianza\n",
    "\n",
    "Medida de dispersión definida como la esperanza del cuadrado de la desviación de dicha variable respecto a su media. Su unidad de medida corresponde al cuadrado de la unidad de medida de la variable: por ejemplo, si la variable mide una distancia en metros, la varianza se expresa en metros al cuadrado.\n",
    "\n",
    "$$\n",
    "\\sigma^2 = \\frac{1}{n-1} \\sum_{i}^{n}(x_i - \\bar{x})^2\n",
    "$$"
   ]
  },
  {
   "cell_type": "code",
   "execution_count": 122,
   "id": "81fe19c1-e5d6-4692-9c43-42e2c83c818a",
   "metadata": {
    "tags": []
   },
   "outputs": [
    {
     "data": {
      "text/plain": [
       "8.064596715818892"
      ]
     },
     "execution_count": 122,
     "metadata": {},
     "output_type": "execute_result"
    }
   ],
   "source": [
    "# Usando Python\n",
    "n = len(y)\n",
    "ym = sum(y) / n\n",
    "sum((i - ym)**2 for i in y) / (n - 1)"
   ]
  },
  {
   "cell_type": "code",
   "execution_count": 115,
   "id": "dc38fd6c-0daf-4fca-b6a4-07142909d99c",
   "metadata": {
    "tags": []
   },
   "outputs": [
    {
     "data": {
      "text/plain": [
       "8.064596715818892"
      ]
     },
     "execution_count": 115,
     "metadata": {},
     "output_type": "execute_result"
    }
   ],
   "source": [
    "# Usando statistics\n",
    "statistics.variance(y)"
   ]
  },
  {
   "cell_type": "code",
   "execution_count": 123,
   "id": "17f64b90-ee02-4aaa-8ecc-502f26c9d25b",
   "metadata": {
    "tags": []
   },
   "outputs": [
    {
     "data": {
      "text/plain": [
       "8.064596715818892"
      ]
     },
     "execution_count": 123,
     "metadata": {},
     "output_type": "execute_result"
    }
   ],
   "source": [
    "# Usando numpy\n",
    "y.var(ddof=1) # ddof=0 calcula dividiendo entre n"
   ]
  },
  {
   "cell_type": "code",
   "execution_count": 126,
   "id": "205933d4-7213-46c3-919b-4c1dff0a222d",
   "metadata": {
    "tags": []
   },
   "outputs": [
    {
     "data": {
      "text/plain": [
       "8.064596715818892"
      ]
     },
     "execution_count": 126,
     "metadata": {},
     "output_type": "execute_result"
    }
   ],
   "source": [
    "# Usando pandas\n",
    "df.y.var()"
   ]
  },
  {
   "cell_type": "markdown",
   "id": "82f37657-6ed0-4152-883b-0e1a29824871",
   "metadata": {},
   "source": [
    "#### Desviación estándar\n",
    "\n",
    "Es la raíz cuadrada positiva de la varianza de la muestra. Está relacionads con la varianza de la muestra y suele ser más conveniente que la varianza porque tiene la misma unidad que los puntos de datos.\n",
    "\n",
    "$$\n",
    "s = \\sqrt{\\frac{1}{n-1} \\sum_{i}^{n}(x_i - \\bar{x})^2}\n",
    "$$"
   ]
  },
  {
   "cell_type": "code",
   "execution_count": 127,
   "id": "c8a8c7b1-a59b-4b22-89ab-e2a1c42423b9",
   "metadata": {
    "tags": []
   },
   "outputs": [
    {
     "data": {
      "text/plain": [
       "2.8398233599678155"
      ]
     },
     "execution_count": 127,
     "metadata": {},
     "output_type": "execute_result"
    }
   ],
   "source": [
    "# Usando Python\n",
    "n = len(y)\n",
    "ym = sum(y) / n\n",
    "(sum((i - ym)**2 for i in y) / (n - 1))**(0.5)"
   ]
  },
  {
   "cell_type": "code",
   "execution_count": 128,
   "id": "e8d5130f-12c0-4c03-8d34-67c9300efb64",
   "metadata": {
    "tags": []
   },
   "outputs": [
    {
     "data": {
      "text/plain": [
       "2.839823359967815"
      ]
     },
     "execution_count": 128,
     "metadata": {},
     "output_type": "execute_result"
    }
   ],
   "source": [
    "# Usando statistics\n",
    "statistics.stdev(y)"
   ]
  },
  {
   "cell_type": "code",
   "execution_count": 129,
   "id": "e161ff05-80dd-455f-b40d-cb73be3b3328",
   "metadata": {
    "tags": []
   },
   "outputs": [
    {
     "data": {
      "text/plain": [
       "2.8398233599678155"
      ]
     },
     "execution_count": 129,
     "metadata": {},
     "output_type": "execute_result"
    }
   ],
   "source": [
    "# Usando numpy\n",
    "y.std(ddof=1)"
   ]
  },
  {
   "cell_type": "code",
   "execution_count": 130,
   "id": "f6c73a22-5316-48bf-b20e-3f61ef9247bb",
   "metadata": {
    "tags": []
   },
   "outputs": [
    {
     "data": {
      "text/plain": [
       "2.8398233599678155"
      ]
     },
     "execution_count": 130,
     "metadata": {},
     "output_type": "execute_result"
    }
   ],
   "source": [
    "# Usando pandas\n",
    "df.y.std()"
   ]
  },
  {
   "cell_type": "markdown",
   "id": "d997f13f-8672-42dd-81f8-9cbd05e34c14",
   "metadata": {},
   "source": [
    "#### Asimetría estadística (*Skewness*)\n",
    "\n",
    "Mide la asimetría de la muestra de los datos. Existen varias definiciones. Para cada biblioteca revise la documentación.\n"
   ]
  },
  {
   "cell_type": "code",
   "execution_count": 139,
   "id": "6f46e212-9031-4064-a6e2-c720a5cba6b7",
   "metadata": {
    "tags": []
   },
   "outputs": [
    {
     "data": {
      "text/plain": [
       "0.21953532661071062"
      ]
     },
     "execution_count": 139,
     "metadata": {},
     "output_type": "execute_result"
    }
   ],
   "source": [
    "# Usando scipy\n",
    "scipy.stats.skew(y, bias=False)"
   ]
  },
  {
   "cell_type": "code",
   "execution_count": 141,
   "id": "af67882a-6776-4aac-ad99-4db6b57f7d2b",
   "metadata": {
    "tags": []
   },
   "outputs": [
    {
     "data": {
      "text/plain": [
       "0.21953532661071065"
      ]
     },
     "execution_count": 141,
     "metadata": {},
     "output_type": "execute_result"
    }
   ],
   "source": [
    "# Usando pandas\n",
    "df.y.skew()"
   ]
  },
  {
   "cell_type": "markdown",
   "id": "b6716c63-bfb5-46a2-bf93-c094ddab3a0b",
   "metadata": {},
   "source": [
    "#### Cuantiles, cuartiles, percentiles\n",
    "\n",
    "Los cuantiles son puntos tomados a intervalos regulares de la función de distribución de una variable aleatoria. \n",
    "\n",
    "Los cuartiles, que dividen a la distribución en cuatro partes (corresponden a los cuantiles 0.25; 0.50 y 0.75).\n",
    "\n",
    "Los percentiles, que dividen a la distribución en cien partes.\n",
    "\n",
    "Suele definirse también los deciles (diez partes), quintiles (cinco partes), octiles (ocho partes) \n"
   ]
  },
  {
   "cell_type": "code",
   "execution_count": 145,
   "id": "cff60e77-7b65-4f24-9cf7-a608685d81f4",
   "metadata": {
    "tags": []
   },
   "outputs": [
    {
     "data": {
      "text/plain": [
       "array([ 0.56077694,  1.31854663,  1.67490328,  2.46305352,  2.46373364,\n",
       "        3.39552354,  3.63168936,  3.770937  ,  4.66363105,  4.79594355,\n",
       "        4.79981473,  5.87220933,  6.02729161,  6.7435569 ,  7.03781187,\n",
       "        7.17659785,  8.3790172 ,  8.72988818,  9.38823141, 10.67397146])"
      ]
     },
     "execution_count": 145,
     "metadata": {},
     "output_type": "execute_result"
    }
   ],
   "source": [
    "np.sort(y)"
   ]
  },
  {
   "cell_type": "code",
   "execution_count": 146,
   "id": "03b504d8-ab18-4d44-ae31-80d2c6a6a7ae",
   "metadata": {
    "tags": []
   },
   "outputs": [
    {
     "data": {
      "text/plain": [
       "[4.797879139163447]"
      ]
     },
     "execution_count": 146,
     "metadata": {},
     "output_type": "execute_result"
    }
   ],
   "source": [
    "# Usando statistics\n",
    "statistics.quantiles(y, n=2)"
   ]
  },
  {
   "cell_type": "code",
   "execution_count": 147,
   "id": "8b1fa336-fce0-42a6-aa06-4638e2da5b7b",
   "metadata": {
    "tags": []
   },
   "outputs": [
    {
     "data": {
      "text/plain": [
       "4.797879139999999"
      ]
     },
     "execution_count": 147,
     "metadata": {},
     "output_type": "execute_result"
    }
   ],
   "source": [
    "(4.79594355 + 4.79981473 ) *0.5"
   ]
  },
  {
   "cell_type": "code",
   "execution_count": 148,
   "id": "ee845931-9ea0-4477-bdb5-1c2298cb0a88",
   "metadata": {
    "tags": []
   },
   "outputs": [
    {
     "data": {
      "text/plain": [
       "[2.6966811174026244, 4.797879139163447, 7.141901355035627]"
      ]
     },
     "execution_count": 148,
     "metadata": {},
     "output_type": "execute_result"
    }
   ],
   "source": [
    "statistics.quantiles(y, n=4) # cuartiles"
   ]
  },
  {
   "cell_type": "code",
   "execution_count": 149,
   "id": "25c89a59-4df1-4a1d-8c00-bfdad00be8d4",
   "metadata": {
    "tags": []
   },
   "outputs": [
    {
     "data": {
      "text/plain": [
       "[2.4631895419798546, 4.128014616750481, 5.965258702337756, 8.138533330731414]"
      ]
     },
     "execution_count": 149,
     "metadata": {},
     "output_type": "execute_result"
    }
   ],
   "source": [
    "statistics.quantiles(y, n=5) # quintiles"
   ]
  },
  {
   "cell_type": "code",
   "execution_count": 156,
   "id": "c09f3236-eda0-41a6-af4d-1bb6b941c158",
   "metadata": {
    "tags": []
   },
   "outputs": [
    {
     "data": {
      "text/plain": [
       "array([2.87139172, 4.79787914, 7.11587898])"
      ]
     },
     "execution_count": 156,
     "metadata": {},
     "output_type": "execute_result"
    }
   ],
   "source": [
    "# Usando numpy\n",
    "np.percentile(y, [25, 50, 75], method='normal_unbiased')"
   ]
  },
  {
   "cell_type": "code",
   "execution_count": 159,
   "id": "8c049212-9567-4f56-b153-9ab3ba4056d6",
   "metadata": {
    "tags": []
   },
   "outputs": [
    {
     "data": {
      "text/plain": [
       "array([2.87139172, 4.79787914, 7.11587898])"
      ]
     },
     "execution_count": 159,
     "metadata": {},
     "output_type": "execute_result"
    }
   ],
   "source": [
    "np.quantile(y, [0.25, 0.50, 0.75], method='normal_unbiased')"
   ]
  },
  {
   "cell_type": "code",
   "execution_count": 160,
   "id": "d22d4347-0032-4901-8d30-2f325466732b",
   "metadata": {
    "tags": []
   },
   "outputs": [
    {
     "data": {
      "text/plain": [
       "0.25    3.162576\n",
       "0.50    4.797879\n",
       "0.75    7.072508\n",
       "Name: y, dtype: float64"
      ]
     },
     "execution_count": 160,
     "metadata": {},
     "output_type": "execute_result"
    }
   ],
   "source": [
    "# Usando pandas\n",
    "df.y.quantile([0.25, 0.50, 0.75])"
   ]
  },
  {
   "cell_type": "markdown",
   "id": "6d2f6fb0-cbc2-45b4-a55b-84f59979c65d",
   "metadata": {},
   "source": [
    "#### Rangos\n",
    "\n",
    "El rango de los datos es la diferencia entre el elemento mínimo y máximo."
   ]
  },
  {
   "cell_type": "code",
   "execution_count": 161,
   "id": "f716fd4a-59b7-4468-b015-0ca32aa979dd",
   "metadata": {
    "tags": []
   },
   "outputs": [
    {
     "data": {
      "text/plain": [
       "10.113194511727496"
      ]
     },
     "execution_count": 161,
     "metadata": {},
     "output_type": "execute_result"
    }
   ],
   "source": [
    "np.ptp(y)"
   ]
  },
  {
   "cell_type": "markdown",
   "id": "32776144-f8d1-4e65-9c5c-d662650170db",
   "metadata": {},
   "source": [
    "#### Resumen de datos estadísticos"
   ]
  },
  {
   "cell_type": "code",
   "execution_count": 167,
   "id": "ae59bae0-ccf0-445e-b9d8-b8264d8af8ff",
   "metadata": {
    "tags": []
   },
   "outputs": [
    {
     "data": {
      "text/plain": [
       "DescribeResult(nobs=20, minmax=(0.5607769442531627, 10.67397145598066), mean=5.178356452462922, variance=8.06459671581889, skewness=0.21953532661071062, kurtosis=-0.7838118804719545)"
      ]
     },
     "execution_count": 167,
     "metadata": {},
     "output_type": "execute_result"
    }
   ],
   "source": [
    "# Usando scipy\n",
    "scipy.stats.describe(y, ddof=1, bias=False)"
   ]
  },
  {
   "cell_type": "code",
   "execution_count": 168,
   "id": "9625fc00-913d-45d1-85d4-7d759fdcd05e",
   "metadata": {
    "tags": []
   },
   "outputs": [
    {
     "data": {
      "text/plain": [
       "count    20.000000\n",
       "mean      5.178356\n",
       "std       2.839823\n",
       "min       0.560777\n",
       "25%       3.162576\n",
       "50%       4.797879\n",
       "75%       7.072508\n",
       "max      10.673971\n",
       "Name: y, dtype: float64"
      ]
     },
     "execution_count": 168,
     "metadata": {},
     "output_type": "execute_result"
    }
   ],
   "source": [
    "df.y.describe()"
   ]
  },
  {
   "cell_type": "markdown",
   "id": "946d2480-5c00-43a8-934a-2485a9a2855f",
   "metadata": {},
   "source": [
    "### Medidas de correlación\n"
   ]
  },
  {
   "cell_type": "code",
   "execution_count": 180,
   "id": "8a9bed29-ac6a-44fe-b8ce-6517b3a31b14",
   "metadata": {
    "tags": []
   },
   "outputs": [
    {
     "data": {
      "text/plain": [
       "<matplotlib.collections.PathCollection at 0x7f9cb7897ed0>"
      ]
     },
     "execution_count": 180,
     "metadata": {},
     "output_type": "execute_result"
    },
    {
     "data": {
      "image/png": "[encoded data removed]",
      "text/plain": [
       "<Figure size 512x384 with 1 Axes>"
      ]
     },
     "metadata": {},
     "output_type": "display_data"
    }
   ],
   "source": [
    "# Correlación positiva\n",
    "plt.scatter(x,y)"
   ]
  },
  {
   "cell_type": "code",
   "execution_count": 181,
   "id": "603b5c6b-202f-4ead-83bb-bc60b8dd9963",
   "metadata": {
    "tags": []
   },
   "outputs": [
    {
     "data": {
      "text/plain": [
       "<matplotlib.collections.PathCollection at 0x7f9cb79ce250>"
      ]
     },
     "execution_count": 181,
     "metadata": {},
     "output_type": "execute_result"
    },
    {
     "data": {
      "image/png": "[encoded data removed]",
      "text/plain": [
       "<Figure size 512x384 with 1 Axes>"
      ]
     },
     "metadata": {},
     "output_type": "display_data"
    }
   ],
   "source": [
    "# Correlación negativa\n",
    "plt.scatter(np.flip(x),y)"
   ]
  },
  {
   "cell_type": "code",
   "execution_count": 276,
   "id": "f0ab624d-a5ef-489b-bf26-873a503dffbc",
   "metadata": {
    "tags": []
   },
   "outputs": [
    {
     "data": {
      "text/plain": [
       "<matplotlib.collections.PathCollection at 0x7f9cb3bd7bd0>"
      ]
     },
     "execution_count": 276,
     "metadata": {},
     "output_type": "execute_result"
    },
    {
     "data": {
      "image/png": "[encoded data removed]",
      "text/plain": [
       "<Figure size 512x384 with 1 Axes>"
      ]
     },
     "metadata": {},
     "output_type": "display_data"
    }
   ],
   "source": [
    "# Correlación débil\n",
    "z = np.random.rand(len(y))\n",
    "plt.scatter(z,y)"
   ]
  },
  {
   "cell_type": "markdown",
   "id": "be2643a5-f87f-4ff4-b52a-1ea315d96d06",
   "metadata": {},
   "source": [
    "#### Covarianza muestral.\n",
    "\n",
    "Cuantifica la fuerza y dirección de una relación entre dos variables. Es el dato básico para determinar si existe una dependencia entre ambas variables y además es el dato necesario para estimar otros parámetros básicos, como el coeficiente de correlación lineal o la recta de regresión. \n",
    "\n",
    "$$\n",
    "S_{xy} = \\frac{1}{n-1} \\sum_{i=1}^{n} (x_i - \\bar{x})(y_i - \\bar{y})\n",
    "$$\n",
    "\n",
    "* Si $S_{xy}>{0}$ hay dependencia directa (positiva), es decir, a grandes valores de $x$ corresponden grandes valores de $y$.\n",
    "\n",
    "* Si $S_{xy}={0}$ se interpreta como la no existencia de una relación lineal entre las dos variables.\n",
    "\n",
    "* Si $S_{xy}<{0}$ hay dependencia inversa (negativa), es decir, a grandes valores de $x$ corresponden pequeños valores de $y$."
   ]
  },
  {
   "cell_type": "code",
   "execution_count": 277,
   "id": "523ad529-3132-4938-a67c-a71968c34152",
   "metadata": {
    "tags": []
   },
   "outputs": [
    {
     "data": {
      "text/plain": [
       "array([[9.69529086, 8.68478105],\n",
       "       [8.68478105, 8.81976523]])"
      ]
     },
     "execution_count": 277,
     "metadata": {},
     "output_type": "execute_result"
    }
   ],
   "source": [
    "np.cov(x,y)"
   ]
  },
  {
   "cell_type": "markdown",
   "id": "d8bf9275-70b0-490b-a4bd-a3453d742fc4",
   "metadata": {},
   "source": [
    "* El primer elemento del primer renglón es la varianza de $x$, el segundo elemento de ese renglón es la covarianza $S_{xy}$.\n",
    "\n",
    "* El primer elemento del segundo renglón es la covarianza $S_{xy}$, el segundo elemento de ese renglón es la varianza de $y$.\n",
    "\n",
    "Observa que $S_{xy} > 0$."
   ]
  },
  {
   "cell_type": "code",
   "execution_count": 278,
   "id": "304d70ad-a3ff-46cb-978b-17fb20d81108",
   "metadata": {
    "tags": []
   },
   "outputs": [
    {
     "data": {
      "text/plain": [
       "array([[ 9.69529086, -8.68478105],\n",
       "       [-8.68478105,  8.81976523]])"
      ]
     },
     "execution_count": 278,
     "metadata": {},
     "output_type": "execute_result"
    }
   ],
   "source": [
    "# Covarianza negativa\n",
    "np.cov(np.flip(x),y)"
   ]
  },
  {
   "cell_type": "code",
   "execution_count": 279,
   "id": "9bcfd70d-b661-4ea0-a8a2-8c6cd07a9bea",
   "metadata": {
    "tags": []
   },
   "outputs": [
    {
     "data": {
      "text/plain": [
       "array([[ 0.05811391, -0.31194735],\n",
       "       [-0.31194735,  8.81976523]])"
      ]
     },
     "execution_count": 279,
     "metadata": {},
     "output_type": "execute_result"
    }
   ],
   "source": [
    "# Covarianza cercana a cero.\n",
    "np.cov(z,y)"
   ]
  },
  {
   "cell_type": "code",
   "execution_count": 280,
   "id": "40a51e39-259c-4546-80e7-af39cb597225",
   "metadata": {
    "tags": []
   },
   "outputs": [
    {
     "data": {
      "text/plain": [
       "8.129668916930166"
      ]
     },
     "execution_count": 280,
     "metadata": {},
     "output_type": "execute_result"
    }
   ],
   "source": [
    "# Usando pandas\n",
    "df.y.cov(df.x)"
   ]
  },
  {
   "cell_type": "markdown",
   "id": "704110c5-1144-4c2b-bfde-30655a1305d4",
   "metadata": {},
   "source": [
    "#### Coeficiente de correlación \n",
    "\n",
    "El coeficiente de correlación, o coeficiente de correlación producto-momento de Pearson, se denota con el símbolo $r$ (también con $\\rho_{xy}$) y es otra medida de la correlación entre los datos. A diferencia de la covarianza, la correlación de Pearson es independiente de la escala de medida de las variables, se puede pensar como una covarianza estandarizada.\n",
    "\n",
    "$$\n",
    "\\rho_{xy} = \\frac{S_{xy}}{\\sigma_x \\sigma_y}\n",
    "$$\n",
    "\n",
    "De manera menos formal, podemos definir el coeficiente de correlación de Pearson como un índice que puede utilizarse para medir el grado de relación de dos variables siempre y cuando ambas sean cuantitativas y continuas. \n",
    "\n",
    "* $r > 0$ indica una correlación positiva.\n",
    "* $r < 0$ indica una correlación negativa.\n",
    "* $r = 1$ es el valor máximo y corresponde a na relación positiva lineal.\n",
    "* $r = -1$ es el valor mínimo y corresponde a na relación negativa lineal.\n",
    "* $r \\approx 0$ indicar una correlación débil.\n",
    "\n",
    "La correlación entre dos variables no implica, por sí misma, ninguna relación de causalidad. Por ejemplo, los ingresos y gastos de una familia, la producción y ventas de una fábrica, los gastos en publicidad y beneficios de una empresa. "
   ]
  },
  {
   "cell_type": "code",
   "execution_count": 281,
   "id": "ccd5010e-0183-48ff-bcf6-ef255367b08a",
   "metadata": {
    "tags": []
   },
   "outputs": [
    {
     "data": {
      "text/plain": [
       "PearsonRResult(statistic=0.939182388670253, pvalue=8.659563144428793e-10)"
      ]
     },
     "execution_count": 281,
     "metadata": {},
     "output_type": "execute_result"
    }
   ],
   "source": [
    "# Usando scipy\n",
    "scipy.stats.pearsonr(x, y)"
   ]
  },
  {
   "cell_type": "code",
   "execution_count": 282,
   "id": "21aac4b3-aec2-47ae-938a-8b072b616fd8",
   "metadata": {
    "tags": []
   },
   "outputs": [
    {
     "data": {
      "text/plain": [
       "PearsonRResult(statistic=-0.939182388670253, pvalue=8.659563144428793e-10)"
      ]
     },
     "execution_count": 282,
     "metadata": {},
     "output_type": "execute_result"
    }
   ],
   "source": [
    "scipy.stats.pearsonr(np.flip(x), y)"
   ]
  },
  {
   "cell_type": "code",
   "execution_count": 283,
   "id": "cf718fd7-5b16-44fb-a223-647da80cda22",
   "metadata": {
    "tags": []
   },
   "outputs": [
    {
     "data": {
      "text/plain": [
       "PearsonRResult(statistic=-0.435725240630662, pvalue=0.05480985397109951)"
      ]
     },
     "execution_count": 283,
     "metadata": {},
     "output_type": "execute_result"
    }
   ],
   "source": [
    "scipy.stats.pearsonr(z, y)"
   ]
  },
  {
   "cell_type": "code",
   "execution_count": 284,
   "id": "96a44a06-bdfc-4f7c-aad2-1bc8970e107a",
   "metadata": {
    "tags": []
   },
   "outputs": [
    {
     "data": {
      "text/plain": [
       "array([[1.        , 0.93918239],\n",
       "       [0.93918239, 1.        ]])"
      ]
     },
     "execution_count": 284,
     "metadata": {},
     "output_type": "execute_result"
    }
   ],
   "source": [
    "# Usando numpy\n",
    "np.corrcoef(x, y)"
   ]
  },
  {
   "cell_type": "code",
   "execution_count": 285,
   "id": "4d2fe777-ea32-4a39-bb27-bc13652fa278",
   "metadata": {
    "tags": []
   },
   "outputs": [
    {
     "data": {
      "text/plain": [
       "array([[ 1.        , -0.93918239],\n",
       "       [-0.93918239,  1.        ]])"
      ]
     },
     "execution_count": 285,
     "metadata": {},
     "output_type": "execute_result"
    }
   ],
   "source": [
    "np.corrcoef(np.flip(x), y )"
   ]
  },
  {
   "cell_type": "code",
   "execution_count": 286,
   "id": "37d3f5d0-5a30-4853-ab0a-f2261395d786",
   "metadata": {
    "tags": []
   },
   "outputs": [
    {
     "data": {
      "text/plain": [
       "array([[ 1.        , -0.43572524],\n",
       "       [-0.43572524,  1.        ]])"
      ]
     },
     "execution_count": 286,
     "metadata": {},
     "output_type": "execute_result"
    }
   ],
   "source": [
    "np.corrcoef(z,y)"
   ]
  },
  {
   "cell_type": "code",
   "execution_count": 287,
   "id": "c1182625-e2b4-450c-a4ba-82ca76a55b15",
   "metadata": {
    "tags": []
   },
   "outputs": [
    {
     "data": {
      "text/plain": [
       "0.919392826040813"
      ]
     },
     "execution_count": 287,
     "metadata": {},
     "output_type": "execute_result"
    }
   ],
   "source": [
    "# Usando pandas\n",
    "df.y.corr(df.x)"
   ]
  },
  {
   "cell_type": "code",
   "execution_count": 288,
   "id": "f43bd073-3314-4f73-9216-e3f91bd5a9dd",
   "metadata": {
    "tags": []
   },
   "outputs": [
    {
     "data": {
      "text/plain": [
       "LinregressResult(slope=0.8957731307502066, intercept=0.5542900278974772, rvalue=0.9391823886702529, pvalue=8.659563144428913e-10, stderr=0.0772032969531936, intercept_stderr=0.45156027104205704)"
      ]
     },
     "execution_count": 288,
     "metadata": {},
     "output_type": "execute_result"
    }
   ],
   "source": [
    "# Usando scipy\n",
    "lres = scipy.stats.linregress(x, y)\n",
    "lres"
   ]
  },
  {
   "cell_type": "code",
   "execution_count": 289,
   "id": "a0a0dcce-1b78-46bc-945f-385e55c128c9",
   "metadata": {
    "tags": []
   },
   "outputs": [
    {
     "name": "stdout",
     "output_type": "stream",
     "text": [
      "0.8957731307502066\n",
      "0.5542900278974772\n"
     ]
    }
   ],
   "source": [
    "print(lres.slope)\n",
    "print(lres.intercept)"
   ]
  },
  {
   "cell_type": "code",
   "execution_count": 290,
   "id": "83affc00-2f87-4af6-a86a-cedfabbbbf03",
   "metadata": {
    "tags": []
   },
   "outputs": [
    {
     "data": {
      "image/png": "[encoded data removed]",
      "text/plain": [
       "<Figure size 512x384 with 1 Axes>"
      ]
     },
     "metadata": {},
     "output_type": "display_data"
    }
   ],
   "source": [
    "y_lr = lambda x: lres.slope * x + lres.intercept\n",
    "\n",
    "x_lr = np.linspace(0,L,100) \n",
    "\n",
    "plt.scatter(x,y, fc='C1', ec='k', label='Datos')\n",
    "plt.plot(x_lr, y_lr(x_lr), label='Regresión lineal')\n",
    "plt.legend()\n",
    "plt.show()"
   ]
  },
  {
   "cell_type": "markdown",
   "id": "b292b50c-d57b-4aa4-8332-eb5ec8c658a7",
   "metadata": {},
   "source": [
    "## Usando sklearn.\n",
    "\n",
    "\n",
    "Scikit-learn es una biblioteca para aprendizaje automático de software libre para el lenguaje de programación Python. Incluye algoritmos para estadística básica, pero su mayor valor está en que provee herramientas para IA. Está diseñada para interoperar con las bibliotecas numéricas y científicas NumPy y SciPy. \n",
    "\n",
    "Podemos usarla para realizar una regresión lineal."
   ]
  },
  {
   "cell_type": "code",
   "execution_count": 291,
   "id": "85b6c8b1-7a67-4c67-96fb-3d346d8352fa",
   "metadata": {
    "tags": []
   },
   "outputs": [
    {
     "name": "stdout",
     "output_type": "stream",
     "text": [
      "[[0.89577313]]\n",
      "[0.55429003]\n",
      "0.8820635591883623\n"
     ]
    }
   ],
   "source": [
    "from sklearn.linear_model import LinearRegression\n",
    "linear_model = LinearRegression() # Construimos el objeto para la regresión lineal.\n",
    "\n",
    "X, Y = x.reshape(-1,1),y.reshape(-1,1) # Necesitamos los datos en forma de columna\n",
    "\n",
    "linear_model.fit(X,Y) # Realizamos el ajuste\n",
    "\n",
    "print(linear_model.coef_) # Pendiente\n",
    "print(linear_model.intercept_) # Ordenada al origen\n",
    "print(linear_model.score(X,Y)) # Cuadrado de la correlación de Pearson."
   ]
  },
  {
   "cell_type": "markdown",
   "id": "3e59c575-ab3c-4403-a864-99fba2256f90",
   "metadata": {},
   "source": [
    "Evaluamos el modelo."
   ]
  },
  {
   "cell_type": "code",
   "execution_count": 292,
   "id": "ca5cb1da-5553-4624-a302-d0e8975a5f48",
   "metadata": {
    "tags": []
   },
   "outputs": [
    {
     "data": {
      "image/png": "[encoded data removed]",
      "text/plain": [
       "<Figure size 512x384 with 1 Axes>"
      ]
     },
     "metadata": {},
     "output_type": "display_data"
    }
   ],
   "source": [
    "XI = x_lr.reshape(-1,1)\n",
    "YP = linear_model.predict(XI)  # Se hace la predicción\n",
    "\n",
    "plt.scatter(x,y, fc='C1', ec='k', label='Datos')\n",
    "plt.plot(x_lr, YP, label='Regresión lineal')\n",
    "plt.legend()\n",
    "plt.show()"
   ]
  },
  {
   "cell_type": "markdown",
   "id": "c4ae01bd-701a-407f-97da-67cc9076b4cd",
   "metadata": {},
   "source": [
    "## Visualizando con Matplotlib"
   ]
  },
  {
   "cell_type": "code",
   "execution_count": 293,
   "id": "88104a24-ebce-411c-8619-cf5ecb79021a",
   "metadata": {
    "tags": []
   },
   "outputs": [],
   "source": [
    "import seaborn as sns\n",
    "sns.set_theme()"
   ]
  },
  {
   "cell_type": "code",
   "execution_count": 294,
   "id": "aba9ca17-01a6-469f-b7a5-90d47cf65a87",
   "metadata": {
    "tags": []
   },
   "outputs": [
    {
     "name": "stdout",
     "output_type": "stream",
     "text": [
      "[ 0.          0.52631579  1.05263158  1.57894737  2.10526316  2.63157895\n",
      "  3.15789474  3.68421053  4.21052632  4.73684211  5.26315789  5.78947368\n",
      "  6.31578947  6.84210526  7.36842105  7.89473684  8.42105263  8.94736842\n",
      "  9.47368421 10.        ]\n",
      "[-0.64373057  3.1754156   1.5907411   1.16815431  2.33550375  2.81285813\n",
      "  3.40148392  3.72122899  4.31361579  4.84743764  4.16825261  5.78544531\n",
      "  6.499626    7.59609424  7.56793149  7.93019919  5.96994971 10.90398814\n",
      "  8.75849416  8.76042413]\n"
     ]
    }
   ],
   "source": [
    "print(x)\n",
    "print(y)"
   ]
  },
  {
   "cell_type": "markdown",
   "id": "07d41db1-5ef6-4d4e-88ec-55784508cc7c",
   "metadata": {},
   "source": [
    "### Boxplots"
   ]
  },
  {
   "cell_type": "code",
   "execution_count": 295,
   "id": "f6b70274-d19d-4bdf-a897-9684a918f30c",
   "metadata": {
    "tags": []
   },
   "outputs": [
    {
     "data": {
      "image/png": "[encoded data removed]",
      "text/plain": [
       "<Figure size 512x384 with 1 Axes>"
      ]
     },
     "metadata": {},
     "output_type": "display_data"
    }
   ],
   "source": [
    "w = np.random.randn(1000)\n",
    "fig, ax = plt.subplots()\n",
    "ax.boxplot((x, y, w), vert=False, showmeans=True, meanline=True,\n",
    "           labels=('x', 'y', 'w'), patch_artist=True,\n",
    "           medianprops={'linewidth': 3, 'color': 'yellow'},\n",
    "           meanprops={'linewidth': 2, 'color': 'orange'})\n",
    "plt.show()\n"
   ]
  },
  {
   "cell_type": "markdown",
   "id": "b636c481-9d90-4d83-aba0-fc6eea90cd6b",
   "metadata": {},
   "source": [
    "### Histogramas"
   ]
  },
  {
   "cell_type": "code",
   "execution_count": 307,
   "id": "8762b17d-c98b-46fc-bb1c-690d76b09477",
   "metadata": {
    "tags": []
   },
   "outputs": [
    {
     "name": "stdout",
     "output_type": "stream",
     "text": [
      "[  3  20  54 115 208 239 174 126  43  18]\n",
      "[-3.24212506 -2.65258697 -2.06304887 -1.47351077 -0.88397268 -0.29443458\n",
      "  0.29510351  0.88464161  1.4741797   2.0637178   2.65325589]\n"
     ]
    }
   ],
   "source": [
    "hist, bin_edges = np.histogram(w, bins=10)\n",
    "print(hist)\n",
    "print(bin_edges)"
   ]
  },
  {
   "cell_type": "code",
   "execution_count": 309,
   "id": "8825de31-dd1b-4068-a914-13f7a31bcf06",
   "metadata": {
    "tags": []
   },
   "outputs": [
    {
     "data": {
      "image/png": "[encoded data removed]",
      "text/plain": [
       "<Figure size 512x384 with 1 Axes>"
      ]
     },
     "metadata": {},
     "output_type": "display_data"
    }
   ],
   "source": [
    "fig, ax = plt.subplots()\n",
    "ax.hist(w, bin_edges)\n",
    "ax.set_xlabel('w')\n",
    "ax.set_ylabel('Frequency')\n",
    "plt.show()\n"
   ]
  },
  {
   "cell_type": "markdown",
   "id": "8f29cb6e-5bdf-4b49-8463-40581c77204d",
   "metadata": {},
   "source": [
    "### Gráfica de barras"
   ]
  },
  {
   "cell_type": "code",
   "execution_count": 298,
   "id": "7d46bdc5-4e9f-45e9-80f9-6ca64074fef0",
   "metadata": {
    "tags": []
   },
   "outputs": [
    {
     "data": {
      "image/png": "[encoded data removed]",
      "text/plain": [
       "<Figure size 512x384 with 1 Axes>"
      ]
     },
     "metadata": {},
     "output_type": "display_data"
    }
   ],
   "source": [
    "etiquetas = np.arange(11)\n",
    "datos = np.random.randint(1, 11, size=11)\n",
    "errores = np.fabs(np.random.randn(11))\n",
    "\n",
    "fig, ax = plt.subplots()\n",
    "ax.bar(etiquetas, datos, yerr=errores)\n",
    "ax.set_xlabel('Etiquetas')\n",
    "ax.set_ylabel('Datos')\n",
    "ax.set_xticks(etiquetas)\n",
    "plt.show()"
   ]
  },
  {
   "cell_type": "markdown",
   "id": "dd014a6a-54d5-4d0b-aff1-e7bdadf90445",
   "metadata": {},
   "source": [
    "### Mapas de calor"
   ]
  },
  {
   "cell_type": "code",
   "execution_count": 299,
   "id": "5fcd4671-ca5d-46cd-9b74-062edde5cc79",
   "metadata": {
    "tags": []
   },
   "outputs": [
    {
     "data": {
      "text/plain": [
       "<Axes: >"
      ]
     },
     "execution_count": 299,
     "metadata": {},
     "output_type": "execute_result"
    },
    {
     "data": {
      "image/png": "[encoded data removed]",
      "text/plain": [
       "<Figure size 512x384 with 2 Axes>"
      ]
     },
     "metadata": {},
     "output_type": "display_data"
    }
   ],
   "source": [
    "sns.heatmap(data=np.cov(x,y), annot=True, cmap='summer')"
   ]
  },
  {
   "cell_type": "code",
   "execution_count": 304,
   "id": "e8f71420-5263-4023-9635-aded37dadfb9",
   "metadata": {
    "tags": []
   },
   "outputs": [
    {
     "data": {
      "text/plain": [
       "<Axes: >"
      ]
     },
     "execution_count": 304,
     "metadata": {},
     "output_type": "execute_result"
    },
    {
     "data": {
      "image/png": "[encoded data removed]",
      "text/plain": [
       "<Figure size 512x384 with 2 Axes>"
      ]
     },
     "metadata": {},
     "output_type": "display_data"
    }
   ],
   "source": [
    "z = np.random.rand(len(y))\n",
    "sns.heatmap(data=np.cov(y,z), annot=True, cmap='hot')"
   ]
  },
  {
   "cell_type": "code",
   "execution_count": 311,
   "id": "85a82aec-37f4-4e4b-b549-bf796324dcd9",
   "metadata": {
    "tags": []
   },
   "outputs": [
    {
     "data": {
      "text/plain": [
       "<seaborn.axisgrid.FacetGrid at 0x7f9cb50c3410>"
      ]
     },
     "execution_count": 311,
     "metadata": {},
     "output_type": "execute_result"
    },
    {
     "data": {
      "image/png": "[encoded data removed]",
      "text/plain": [
       "<Figure size 400x400 with 1 Axes>"
      ]
     },
     "metadata": {},
     "output_type": "display_data"
    }
   ],
   "source": [
    "sns.displot(data=w, kde=True)"
   ]
  },
  {
   "cell_type": "code",
   "execution_count": null,
   "id": "d85433f7-74f2-4b8b-a117-9f5f7650f7e7",
   "metadata": {},
   "outputs": [],
   "source": []
  }
 ],
 "metadata": {
  "kernelspec": {
   "display_name": "Python 3 (ipykernel)",
   "language": "python",
   "name": "python3"
  },
  "language_info": {
   "codemirror_mode": {
    "name": "ipython",
    "version": 3
   },
   "file_extension": ".py",
   "mimetype": "text/x-python",
   "name": "python",
   "nbconvert_exporter": "python",
   "pygments_lexer": "ipython3",
   "version": "3.11.3"
  }
 },
 "nbformat": 4,
 "nbformat_minor": 5
}
