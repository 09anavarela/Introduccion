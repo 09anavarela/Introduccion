{
 "cells": [
  {
   "cell_type": "markdown",
   "id": "99b2dc7b-ad59-4e15-888e-a0f5a370b590",
   "metadata": {},
   "source": [
    "Las variables aleatorias aparecen en todos los campos del conocimiento, y son medidas y analizadas en términos de sus propiedades estadísticas y probabilísticas. Una característica muy importante, asociada a una variable aleatoria $X$,  es la [**función de distribución**](https://es.wikipedia.org/wiki/Funci%C3%B3n_de_distribuci%C3%B3n) (FD). La FD es una función matemática de la variable real $x$ que describe la probabilidad de $X$ tenga un valor menor o igual que $x$. \n",
    "\n",
    "El número potencial de FD puede ser muy grande, pero en la práctica, solo se usan un número limitado debido a sus características matemáticas que las hace fáciles de manipular."
   ]
  }
 ],
 "metadata": {
  "kernelspec": {
   "display_name": "Python 3 (ipykernel)",
   "language": "python",
   "name": "python3"
  },
  "language_info": {
   "codemirror_mode": {
    "name": "ipython",
    "version": 3
   },
   "file_extension": ".py",
   "mimetype": "text/x-python",
   "name": "python",
   "nbconvert_exporter": "python",
   "pygments_lexer": "ipython3",
   "version": "3.11.3"
  }
 },
 "nbformat": 4,
 "nbformat_minor": 5
}
